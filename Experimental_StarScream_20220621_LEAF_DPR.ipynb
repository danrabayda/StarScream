{
 "cells": [
  {
   "cell_type": "markdown",
   "id": "86e8b02b",
   "metadata": {
    "id": "86e8b02b"
   },
   "source": [
    "# Airfield Noise Monitoring with Deep Acoustic Clustering\n",
    "\n",
    "Continued exposure to aircraft noise is a persistent environmental issue with serious health concerns, including increased reliance on sleep aids and increased risk of heart disease, especially for communities living in close proximity to airfields ([Franssen 2004](https://oem.bmj.com/content/61/5/405); [Torija 2018](https://www.researchgate.net/profile/Antonio-Torija/publication/322328656_Aircraft_classification_for_efficient_modelling_of_environmental_noise_impact_of_aviation/links/5aaabc2845851517881b4434/Aircraft-classification-for-efficient-modelling-of-environmental-noise-impact-of-aviation.pdf)). To protect these communities, noise monitoring around airports remains a cruicial tool ([Asensio 2012](https://www.sciencedirect.com/science/article/abs/pii/S0003682X11002477)). \n",
    "\n",
    "Unfortunately, the automated identification of aircraft noise in residential environments can be challenging, due to the confounding presence of additional anthropogenic noise sources ([Tarabini 2014](https://www.sciencedirect.com/science/article/abs/pii/S0003682X1400070X)). To discriminate between these confounding sources, several techniques have been employed including acoustic classification ([Asensio 2010](https://oa.upm.es/7652/2/INVE_MEM_2010_80172.pdf)), noise coincidence with airfield radar tracks ([Timmerman 1991](https://asa.scitation.org/doi/10.1121/1.2029280)), and coincidence with ADS-B tracks ([Giladi 2020](https://www.ncbi.nlm.nih.gov/pmc/articles/PMC7481859/pdf/main.pdf)).\n",
    "\n",
    "In this work, we apply a deep neural network to perform feature extraction and unsupervised clustering on acoustic recordings at an airfield. We then provide a framework for rapidly classifying the clusters via human-machine teaming. Finally, we demonstrate a k-nearest-neighbors algorithm for the automated identification of aircraft noise vs other urban noise sources.\n",
    "\n",
    "This work represents the first end-to-end discriminative airfield noise monitoring solution that requires only a single microphone with no external knowledge of airfield activities, significantly reducing the barrier to entry for accurate airfield noise monitoring. \n",
    "\n",
    "-Dr. Josh Dickey"
   ]
  },
  {
   "cell_type": "markdown",
   "id": "a8c838ca-1a40-498b-b6ca-3ef912bd0d03",
   "metadata": {},
   "source": [
    "We have clustered spectrograms and "
   ]
  },
  {
   "cell_type": "code",
   "execution_count": 1,
   "id": "007f52df",
   "metadata": {
    "colab": {
     "base_uri": "https://localhost:8080/"
    },
    "executionInfo": {
     "elapsed": 8000,
     "status": "ok",
     "timestamp": 1649087474234,
     "user": {
      "displayName": "Daniel Rabayda",
      "userId": "03984531504935332105"
     },
     "user_tz": 240
    },
    "id": "007f52df",
    "outputId": "997385d6-e782-4dc9-a400-73ade9775b7a"
   },
   "outputs": [
    {
     "name": "stdout",
     "output_type": "stream",
     "text": [
      "tf version: 2.7.3\n",
      "[PhysicalDevice(name='/physical_device:GPU:0', device_type='GPU')]\n"
     ]
    },
    {
     "name": "stderr",
     "output_type": "stream",
     "text": [
      "2022-06-22 07:27:21.402167: I tensorflow/stream_executor/cuda/cuda_gpu_executor.cc:939] successful NUMA node read from SysFS had negative value (-1), but there must be at least one NUMA node, so returning NUMA node zero\n",
      "2022-06-22 07:27:21.449053: I tensorflow/stream_executor/cuda/cuda_gpu_executor.cc:939] successful NUMA node read from SysFS had negative value (-1), but there must be at least one NUMA node, so returning NUMA node zero\n",
      "2022-06-22 07:27:21.449573: I tensorflow/stream_executor/cuda/cuda_gpu_executor.cc:939] successful NUMA node read from SysFS had negative value (-1), but there must be at least one NUMA node, so returning NUMA node zero\n"
     ]
    }
   ],
   "source": [
    "# Import Basic Python Functionality\n",
    "import numpy as np\n",
    "import pandas as pd\n",
    "import subprocess\n",
    "from pytube import YouTube\n",
    "from pydub import AudioSegment\n",
    "import copy\n",
    "import random\n",
    "import datetime\n",
    "import time\n",
    "import sys\n",
    "import re\n",
    "import os\n",
    "import io\n",
    "from os import walk\n",
    "import scipy.io.wavfile\n",
    "from scipy import signal\n",
    "from mpl_toolkits import mplot3d\n",
    "import matplotlib.pyplot as plt\n",
    "import matplotlib.patheffects as PathEffects\n",
    "from matplotlib.ticker import ScalarFormatter\n",
    "from matplotlib.ticker import FormatStrFormatter\n",
    "import matplotlib.cm as cm\n",
    "import seaborn as sns\n",
    "import matplotlib.dates as mdates\n",
    "import string\n",
    "from pathlib import Path\n",
    "\n",
    "\n",
    "#Import Python Libraries for Machine Learning\n",
    "from sklearn.metrics import confusion_matrix, classification_report, roc_curve, auc\n",
    "from sklearn.preprocessing import LabelEncoder\n",
    "from sklearn.manifold import TSNE\n",
    "from sklearn.cluster import KMeans\n",
    "from sklearn.metrics import silhouette_samples, silhouette_score, calinski_harabasz_score, v_measure_score\n",
    "from sklearn.preprocessing import MinMaxScaler, normalize, LabelBinarizer, minmax_scale\n",
    "from sklearn.cluster import AgglomerativeClustering\n",
    "from sklearn.metrics.pairwise import pairwise_distances, pairwise_distances_argmin_min\n",
    "from sklearn.neighbors import KNeighborsClassifier\n",
    "\n",
    "\n",
    "# Import Keras/Tensorflow Libraries for Deep Learning\n",
    "import tensorflow as tf\n",
    "from tensorflow.keras.optimizers import Adam\n",
    "from tensorflow.keras.callbacks import ModelCheckpoint, TensorBoard, EarlyStopping, Callback\n",
    "from tensorflow.keras import Input\n",
    "from tensorflow.keras import backend as K\n",
    "from tensorflow.keras.models import load_model, Model\n",
    "from tensorflow.keras.layers import Conv1D, SpatialDropout1D, Flatten, Activation, Lambda, Convolution1D, Dense, add, Lambda\n",
    "from tensorflow.keras.applications import xception\n",
    "import tensorflow_addons as tfa\n",
    "#import tensorflow_datasets as tfds\n",
    "import leaf_audio.frontend as frontend\n",
    "from leaf_audio import frontend, initializers\n",
    "import functools\n",
    "\n",
    "#GUI Components\n",
    "from pydub.playback import play\n",
    "import ipywidgets as widgets\n",
    "from ipywidgets import interact\n",
    "from tkinter import * \n",
    "from tkinter import ttk\n",
    "from tkinter.ttk import *\n",
    "from IPython.display import display\n",
    "from IPython.display import Image\n",
    "\n",
    "\n",
    "%matplotlib inline\n",
    "\n",
    "\n",
    "def vdir(directory): #verify a directory exists, if not make it\n",
    "    if not os.path.exists(directory): os.mkdir(directory)\n",
    "    return directory\n",
    "\n",
    "data_folder=vdir('data')\n",
    "more_folder=vdir('more')\n",
    "downloads_folder=vdir(data_folder+'/downloads')\n",
    "npys_folder=vdir(data_folder+'/npys')\n",
    "time_series_npys_folder=vdir(npys_folder+'/time_series_audio_npys')\n",
    "audio_set_npys_folder=vdir(npys_folder+'/audio_set_npys')\n",
    "drone_npys_folder=vdir(npys_folder+'/drone_audio_npys')\n",
    "\n",
    "time_series_downloads_folder=vdir(downloads_folder+'/time_series_audio_mp4s') #long time-series mp4 files go in here\n",
    "audio_set_downloads_folder=vdir(downloads_folder+'/audio_set_mp4s') #short mp4 files from google's AudioSet data go here\n",
    "drone_downloads_folder=vdir(downloads_folder+'/drone_audio_wavs')\n",
    "data_collector_folder=vdir(more_folder+'/data_collector')\n",
    "\n",
    "model_folder = vdir('models')\n",
    "log_folder = vdir('logs')\n",
    "\n",
    "Train_from_scratch = True\n",
    "\n",
    "physical_devices = tf.config.list_physical_devices('GPU')\n",
    "#tf.config.experimental.set_memory_growth(physical_devices[0], True)\n",
    "#TF_GPU_ALLOCATOR=cuda_malloc_async\n",
    "print(\"tf version:\",tf.__version__)\n",
    "print(physical_devices)\n"
   ]
  },
  {
   "cell_type": "code",
   "execution_count": 2,
   "id": "961f8f89-56ff-40f9-a8ae-12172bd20d1f",
   "metadata": {
    "tags": []
   },
   "outputs": [],
   "source": [
    "pdict = {}\n",
    "pdict['r_smp'] = 44100\n",
    "\n",
    "#Important Functions for Later:\n",
    "def pydub_to_np(audio, frame_rate=pdict['r_smp']): #Converts pydub audio segment into np.float32 of shape [duration_in_seconds*sample_rate, channels], where each value is in range [-1.0, 1.0]. Returns audio_np_array\n",
    "    audio.set_frame_rate(frame_rate)\n",
    "    return np.array(audio.get_array_of_samples(), dtype=np.float32).reshape((-1, audio.channels)) / (1 << (8 * audio.sample_width - 1))\n",
    "def xlr(lrb): #used to read the left or right audio parameter quickly\n",
    "    return 0 if lrb=='L' else 1 if lrb=='R' else np.random.randint(2)\n",
    "def sequence_to_spectrogram(s,samps_per_second,v_res,f_len,t_len): #takes in a sequence (1 ch) and ouputs it as a log spectrogram in greyscale (1 ch)\n",
    "    _, _, spectrogramx = signal.spectrogram(s,samps_per_second,nperseg=v_res)\n",
    "    log_spectrogram=np.log10(spectrogramx[:f_len,:t_len],out=spectrogramx[:f_len,:t_len],where=spectrogramx[:f_len,:t_len] > 0)\n",
    "    diff=np.max(log_spectrogram)-np.min(log_spectrogram)\n",
    "    spectrogram=(log_spectrogram-np.min(log_spectrogram))/diff if diff!=0 else log_spectrogram-np.min(log_spectrogram)\n",
    "    return spectrogram\n",
    "def norm_seq_to_spg(s,samps_per_second,v_res,f_len,t_len,filt):\n",
    "    s = s/(np.max(np.abs(s))+1e-8) #first normalize the window\n",
    "    sp = sequence_to_spectrogram(s,samps_per_second,v_res,f_len,t_len) - filt\n",
    "    sp = sp - np.min(sp) #now normalize the spectrogram\n",
    "    sp = sp/(np.max(sp)+1e-8)\n",
    "    return sp"
   ]
  },
  {
   "cell_type": "markdown",
   "id": "4702e79a-954a-452e-b5af-82370dd7cf24",
   "metadata": {
    "tags": []
   },
   "source": [
    "## Time-Series Data\n",
    "\n",
    "First we start with several unlabeled airport audio streams"
   ]
  },
  {
   "cell_type": "code",
   "execution_count": 3,
   "id": "75b62370",
   "metadata": {},
   "outputs": [
    {
     "name": "stdout",
     "output_type": "stream",
     "text": [
      "Houston_Airport:\tAlready Downloaded!\tAlready Converted!\n",
      "Amsterdam_Airport_1:\tAlready Downloaded!\tAlready Converted!\n",
      "Berlin_Airport:\tAlready Downloaded!\tAlready Converted!\n"
     ]
    }
   ],
   "source": [
    "vidLnk = {}\n",
    "#unlabeled data\n",
    "#vidLnk['Haneda_Airport'] = \"https://www.youtube.com/watch?v=tyD-i1u8f5g\"\n",
    "#vidLnk['Chitose_Airport'] = \"https://www.youtube.com/watch?v=PxRwSvBeEvA\"\n",
    "#vidLnk['Narita_Airport'] = \"https://www.youtube.com/watch?v=TGhl84_TUnU\"\n",
    "#vidLnk['Funchal_Airport'] = \"https://www.youtube.com/watch?v=5RfiTxR9-d8\"\n",
    "#vidLnk['Lisbon_Airport'] = \"https://youtu.be/Z7CutgNEMfA\"\n",
    "#vidLnk['Brussels_Airport'] = \"https://youtu.be/CaiFfQTdRz0\"\n",
    "#vidLnk['Amsterdam_Airport_2'] = \"https://youtu.be/1ll4mumGBxk\"\n",
    "#vidLnk['Zurich_Airport'] = \"https://youtu.be/aTyQ4fJtwhc\"\n",
    "\n",
    "#labeled data\n",
    "vidLnk['Houston_Airport'] = \"https://www.youtube.com/watch?v=dNTv7g1f5S0\"\n",
    "vidLnk['Amsterdam_Airport_1'] = \"https://www.youtube.com/watch?v=f_74vfnFRzk\"\n",
    "vidLnk['Berlin_Airport'] = \"https://youtu.be/fPzpohpnW5Y\"\n",
    "outfiles = []\n",
    "\n",
    "for video_name in vidLnk:\n",
    "    video_link = vidLnk[video_name]\n",
    "    video_file = os.path.join(time_series_downloads_folder, video_name+'.mp4')\n",
    "    audio_file = os.path.join(time_series_npys_folder, video_name+f'_{pdict[\"r_smp\"]}.npy')\n",
    "    outfiles.append(audio_file)\n",
    "    print(f'{video_name}:', end='\\t')\n",
    "    \n",
    "    if not os.path.exists(video_file):\n",
    "        try:\n",
    "            print(f'Downloading...', end=' ')\n",
    "            video = YouTube(video_link)\n",
    "            audio = video.streams.filter(only_audio=True, file_extension='mp4').first()\n",
    "            audio.download(filename=video_file)\n",
    "            print('Complete!', end='\\t')\n",
    "        except:\n",
    "            print(\"Error!\")  # to handle exception   \n",
    "    else:\n",
    "        print('Already Downloaded!', end='\\t')            \n",
    "            \n",
    "    if (os.path.exists(video_file)) & (not os.path.exists(audio_file)):\n",
    "        try:\n",
    "            print(f'Converting...', end=' ')\n",
    "            seg = AudioSegment.from_file(video_file, format=\"mp4\")\n",
    "            samples = pydub_to_np(seg, pdict['r_smp'])\n",
    "            np.save(audio_file, samples)\n",
    "            print('Complete!', end='\\t')\n",
    "        except:\n",
    "            print(\"Error!\")  # to handle exception   \n",
    "    else:\n",
    "        print(\"Already Converted!\")  "
   ]
  },
  {
   "cell_type": "markdown",
   "id": "139d1bff-62ac-45ec-a2de-8c0911fcf3a4",
   "metadata": {
    "tags": []
   },
   "source": [
    "# Labeled Data"
   ]
  },
  {
   "cell_type": "markdown",
   "id": "2aa9c115-0cb0-4a76-bb71-87e6166d8a5c",
   "metadata": {
    "tags": []
   },
   "source": [
    "## Generator C\n",
    "\n",
    "Uses labelled data and grabs nK unique or random windows from nP unique or random labels (depending on how big nP and nK are and how small the data set is)"
   ]
  },
  {
   "cell_type": "code",
   "execution_count": 4,
   "id": "74489cc3-5bb5-4f79-9b3b-0eddaadb1871",
   "metadata": {},
   "outputs": [],
   "source": [
    "def generatorC(data_array,pdict,class_groups,return_startpoints=False): \n",
    "    \n",
    "    nP=pdict['numP']\n",
    "    nK=pdict['numK']\n",
    "    window_size_secs=pdict['w_sec']\n",
    "    samps_per_second=pdict['r_smp']\n",
    "    lrb=pdict['LRB']\n",
    "    \n",
    "    window_samps=int(window_size_secs*samps_per_second)\n",
    "    \n",
    "    bs=nP*nK #batch size\n",
    "    \n",
    "    skip_n=nP-(len(class_groups)-class_groups.count([]))<=0 #if true we skip the independent picks process and just let repeated labels occur because otherwise we'd have a hard limit of nP=18\n",
    "    \n",
    "    while 1:\n",
    "        \n",
    "        startpoints=[]\n",
    "        labels_gen=[]\n",
    "        windows=np.zeros((bs,window_samps))\n",
    "        \n",
    "        for p in range(nP):\n",
    "            sm_i,tmp_cgroup=0,[] \n",
    "            while tmp_cgroup==[] or (sm_i in labels_gen if skip_n else None): #skip_n is in there incase nP is greater than the number of examples for that given class\n",
    "                sm_i=np.random.randint(len(class_groups))\n",
    "                tmp_cgroup=class_groups[sm_i] #choose a random non-empty non-repeated segment (the larger rng is the less time this takes)\n",
    "            #i will be our label and tmp_cgroup will be our data_array indices to randomly pick windows from \n",
    "            np.random.shuffle(tmp_cgroup)\n",
    "            \n",
    "            #now sm_i is our current class and tmp_cgroup is our current classgroup \n",
    "            for k in range(nK):\n",
    "                batch_idx=p*nK+k\n",
    "                tmp_c=tmp_cgroup[k] if k<len(tmp_cgroup) else tmp_cgroup[np.random.randint(len(tmp_cgroup))] #we want a random choice of the current classgroup (a random file from that class) but we don't want repeated files if we can avoid it so this is an ordered selection of the random shuffled tmp_cgroup until it runs out of options, then its just a random choice\n",
    "                dind=tmp_c[0]\n",
    "                carr=data_array[dind]\n",
    "                \n",
    "                #Here we choose a window based around our time segment data\n",
    "                #The way I approached this was to imagine two cases, one where the window is larger than the event time frame and one where the window is shorter than that event time frame\n",
    "                #t_ind=np.random.choice([i for i,smsmlbs in enumerate(labels[dind]) if smsmlbs==sm_i])#randomly chooses a valid labels index where the current class exists in that file\n",
    "                [ll,ul]=tmp_c[1] #lower and upper limits of the event time frame\n",
    "                \n",
    "                [tl,tu]=np.sort([ll,ul-window_samps])#let's take care of 2 possibilities at once, one the window is smaller than the event time frame (if window_samps<ul-ll then we want samp=np.random.randint(ll,ul-window_samps)), and two the window is larger than the event time frame(if window_samps>ul-ll then we want samp=np.random.randint(ul-window_samps,ll))\n",
    "                if tl<0: tl=0 #incase ul-window_samps above gives a negative number\n",
    "                if tu+window_samps>len(carr): tu=len(carr)-window_samps #incase ll above is also close to the end, this moves it back\n",
    "\n",
    "                samp=np.random.randint(tl,tu) if tl!=tu else tl #if tl==tu then np.random.randint will give an error so we just give it the exception\n",
    "                \n",
    "                window = carr[samp:samp+window_samps,xlr(lrb)] #if you are getting an error here check your window size and make sure its within your data's size\n",
    "                \n",
    "                labels_gen.append(sm_i)\n",
    "                startpoints.extend([dind,samp])\n",
    "                windows[batch_idx]=window\n",
    "                \n",
    "        if return_startpoints:\n",
    "            yield windows, np.array(labels_gen).astype(int), startpoints\n",
    "        else:\n",
    "            yield windows, np.array(labels_gen).astype(int)\n",
    "\n",
    "            \n",
    "# Additional functions for labeled data:\n",
    "def class_grouper(labels_c,times,n_classes): #returns a list of file and time references for a given class (index). i.e. class_groups[3] contains all the [file, [time]] references for class 3\n",
    "    class_groups=[]\n",
    "    for c in range(n_classes):\n",
    "        tmp_cgroup=[]\n",
    "        for i in range(len(labels_c)):\n",
    "            for j in range(len(labels_c[i])):\n",
    "                if labels_c[i][j]==c:\n",
    "                    tmp_cgroup.append([i,times[i][j]])\n",
    "        class_groups.append(tmp_cgroup)\n",
    "    return class_groups\n",
    "\n",
    "def cg_splitter(class_groups,split): #splits class_groups into train, validation, and test sets\n",
    "    if len(split)>2: split=split[-2:] #incase someone accidentally inputs [0.7,0.15,0.15] instead of [0.15,0.15] for example\n",
    "    trn,val,tst=[],[],[]\n",
    "    for i in range(len(class_groups)):\n",
    "        tvn=[int(np.ceil(len(class_groups[i])*spl)) for spl in split]\n",
    "        ttvn=[len(class_groups[i])-np.sum(tvn)]+tvn\n",
    "        [a1,a2,a3]=[np.sum(ttvn[:j+1]) for j in range(len(ttvn))]\n",
    "        trn.append(class_groups[i][:a1])\n",
    "        val.append(class_groups[i][a1:a2])\n",
    "        tst.append(class_groups[i][a2:])\n",
    "    return trn,val,tst\n",
    "\n",
    "def dctvt(airports,csv_files,split,pdict): #loads the data and labels, then organizes everything and outputs the data and classes along with the train, val, and test class_groups \n",
    "    #load the data\n",
    "    numpy_files=[os.path.join(time_series_npys_folder, f) for f in os.listdir(time_series_npys_folder) if Path(f).suffix == '.npy']\n",
    "    data=[np.load(numpy_files[np.where([airport in filename for filename in numpy_files])[0][0]]) for airport in airports]\n",
    "\n",
    "    #import label data, all preformatted as label, event_start(s), event_stop(s)\n",
    "    times=[(pd.read_csv(data_collector_folder+'/'+file)[['start','stop']].to_numpy()*pdict['r_smp']).tolist() for file in csv_files]\n",
    "    labels=[pd.read_csv(data_collector_folder+'/'+file).to_numpy().T[0].tolist() for file in csv_files]\n",
    "\n",
    "    #generate class indices\n",
    "    classesp={st:i for i,st in enumerate(np.unique([lbl for arr in labels for lbl in arr]))}\n",
    "    l_c=lambda labels:[classesp[lbl] for lbl in labels]\n",
    "    labels_c=[l_c(l) for l in labels]\n",
    "\n",
    "    #create class_groups, then only keep the ones with 3 or more examples\n",
    "    cgp=class_grouper(labels_c,times,len(classesp))\n",
    "    class_groups,classes=[],[]\n",
    "    for i in range(len(cgp)):\n",
    "        if len(cgp[i])>2: #here we are removing any classes with only one reference example, we can change this to be 1 if we just want train-test sets\n",
    "            class_groups.append(cgp[i])\n",
    "            classes.append(list(classesp)[i])\n",
    "    #split the class_groups\n",
    "    cg_trn,cg_val,cg_tst=cg_splitter(class_groups,split)\n",
    "    \n",
    "    return data, classes, cg_trn, cg_val, cg_tst\n",
    "\n",
    "def genC_plot(nP,nK,xy,ls,sps,classes,files_as_labels=False): #plots generatorC\n",
    "    fig, ax = plt.subplots(nP, nK, figsize=(20,nP*2))\n",
    "    for p in range(nP):\n",
    "        for k in range(nK):\n",
    "            idx = p*nK+k    \n",
    "            label = ls[idx]\n",
    "            ax[p,k].plot(xy[idx])\n",
    "            ax[p,k].set_xticklabels([])\n",
    "            ax[p,k].set_yticklabels([])\n",
    "            if files_as_labels:\n",
    "                ax[p,k].set_xlabel(str(sps[2*idx]))\n",
    "            else:\n",
    "                ax[p,k].set_xlabel(\"\"+str(sps[2*idx])+\"    \"+str(sps[2*idx+1]//(pdict['r_smp']*60)))\n",
    "        ax[p,0].set_ylabel(classes[label])"
   ]
  },
  {
   "cell_type": "markdown",
   "id": "7ce70a2b-e438-413e-958b-f95373da1829",
   "metadata": {},
   "source": [
    "### class_groups demo\n",
    "This is what class_groups is, it contains all the class, file, label, and event time data. Below is a basic example of how it combines everything"
   ]
  },
  {
   "cell_type": "code",
   "execution_count": 5,
   "id": "20ad0436-718d-48c2-b83a-d1fa38604a36",
   "metadata": {},
   "outputs": [
    {
     "name": "stdout",
     "output_type": "stream",
     "text": [
      "class0 :  [[0, [2, 4]], [2, [6, 7]]]\n",
      "class1 :  [[1, [3, 4]], [2, [0, 10]]]\n",
      "class2 :  [[0, [0, 12]], [0, [0, 15]]]\n"
     ]
    }
   ],
   "source": [
    "classes=['class0','class1','class2'] #these classes are referred to as their index below so for example classes[0] is class0\n",
    "\n",
    "#files and times are connected by labels to form classgroups. labels contains references to the class each timestamp is in and all the classes each file contains.\n",
    "files=['a.npy','b.npy','c.npy']\n",
    "labels_c=[[2,2,0],[1],[1,0]] #labels_c is indexed by file and numbered by class index so labels_c[0][1]=2 is a reference to file 0, and classes[2]\n",
    "times=[[[0,12],[0,15],[2,4]],[[3,4]],[[0,10],[6,7]]] #times matches the indexing of labels_c to make it so times[i][j] is the supplemental event-time range for labels_c[i][j]\n",
    "\n",
    "#now pull what you need from files and times\n",
    "class_groups=[]\n",
    "for c in range(len(classes)):\n",
    "    tmp_cgroup=[]\n",
    "    for i in range(len(labels_c)):\n",
    "        for j in range(len(labels_c[i])):\n",
    "            if labels_c[i][j]==c:\n",
    "                tmp_cgroup.append([i,times[i][j]]) #notice how i is just the reference for our files[i]. This can also be used to reference the actual i'th data array\n",
    "    class_groups.append(tmp_cgroup)\n",
    "for i in range(len(classes)):\n",
    "    print(classes[i],': ',class_groups[i]) \n",
    "#this entire process can be done in one line using np.squeeze, but it is much harder to interpret in my opinion:\n",
    "#[np.squeeze([[[files[i],i,times[i][j]] for j in range(len(labels_c[i])) if labels_c[i][j]==c] for i in range(len(labels_c)) if c in labels_c[i]]).tolist() for c in range(len(classes))]"
   ]
  },
  {
   "cell_type": "markdown",
   "id": "2e96f679-9ace-49da-bd0d-533a1055d186",
   "metadata": {},
   "source": [
    "Above we can see that the indices of class_groups corresponds directly with the indices of our classes, so class_groups[0] contains all the example references for classes[0]\n",
    "\n",
    "Now the way we would read this is that we can find an example of class 0 in files[0] from time 2 to 4. another example of class 0 occurs in files[2] from time 6 to 7."
   ]
  },
  {
   "cell_type": "markdown",
   "id": "5a2c67c9-1c07-4910-87c5-75e961e88316",
   "metadata": {
    "tags": []
   },
   "source": [
    "## Labeled Time-Series Aircraft Audio\n",
    "Here we have labeled some long youtube videos with different aircrafts' noises"
   ]
  },
  {
   "cell_type": "code",
   "execution_count": 2,
   "id": "0778314e-c2bd-43fa-a288-e8e97c259eab",
   "metadata": {},
   "outputs": [
    {
     "ename": "NameError",
     "evalue": "name 'dctvt' is not defined",
     "output_type": "error",
     "traceback": [
      "\u001b[0;31m---------------------------------------------------------------------------\u001b[0m",
      "\u001b[0;31mNameError\u001b[0m                                 Traceback (most recent call last)",
      "Input \u001b[0;32mIn [2]\u001b[0m, in \u001b[0;36m<cell line: 9>\u001b[0;34m()\u001b[0m\n\u001b[1;32m      6\u001b[0m csv_files \u001b[38;5;241m=\u001b[39m [\u001b[38;5;124m'\u001b[39m\u001b[38;5;124mamsterdam.csv\u001b[39m\u001b[38;5;124m'\u001b[39m] \u001b[38;5;66;03m#['houston.csv','berlin.csv','amsterdam.csv']\u001b[39;00m\n\u001b[1;32m      7\u001b[0m split \u001b[38;5;241m=\u001b[39m [\u001b[38;5;241m0.7\u001b[39m,\u001b[38;5;241m0.15\u001b[39m,\u001b[38;5;241m0.15\u001b[39m] \u001b[38;5;66;03m#a classic 70 15 15 split would be [0.15,0.15]\u001b[39;00m\n\u001b[0;32m----> 9\u001b[0m ts_data, ts_classes, ts_cg_trn, ts_cg_val, ts_cg_tst \u001b[38;5;241m=\u001b[39m \u001b[43mdctvt\u001b[49m(airports,csv_files,split,pdict)\n",
      "\u001b[0;31mNameError\u001b[0m: name 'dctvt' is not defined"
     ]
    }
   ],
   "source": [
    "pdict={}\n",
    "pdict['r_smp'] = 44100\n",
    "\n",
    "#Houston, Berlin, and Amsterdam data\n",
    "airports = [\"Amsterdam_Airport_1\"] #[\"Houston\",\"Berlin\",\"Amsterdam_Airport_1\"]\n",
    "csv_files = ['amsterdam.csv'] #['houston.csv','berlin.csv','amsterdam.csv']\n",
    "split = [0.7,0.15,0.15] #a classic 70 15 15 split would be [0.15,0.15]\n",
    "\n",
    "ts_data, ts_classes, ts_cg_trn, ts_cg_val, ts_cg_tst = dctvt(airports,csv_files,split,pdict) #did this in a function just incase we want to split up datasets"
   ]
  },
  {
   "cell_type": "code",
   "execution_count": 1,
   "id": "a31b9e6c-db2b-4819-8244-62a0fa8a17bc",
   "metadata": {},
   "outputs": [
    {
     "ename": "NameError",
     "evalue": "name 'ts_classes' is not defined",
     "output_type": "error",
     "traceback": [
      "\u001b[0;31m---------------------------------------------------------------------------\u001b[0m",
      "\u001b[0;31mNameError\u001b[0m                                 Traceback (most recent call last)",
      "Input \u001b[0;32mIn [1]\u001b[0m, in \u001b[0;36m<cell line: 1>\u001b[0;34m()\u001b[0m\n\u001b[0;32m----> 1\u001b[0m \u001b[43mts_classes\u001b[49m\n",
      "\u001b[0;31mNameError\u001b[0m: name 'ts_classes' is not defined"
     ]
    }
   ],
   "source": [
    "ts_classes"
   ]
  },
  {
   "cell_type": "code",
   "execution_count": 7,
   "id": "43ce1f0f-c60a-44ba-b01d-a87702c5616a",
   "metadata": {},
   "outputs": [
    {
     "data": {
      "image/png": "[encoded data removed]",
      "text/plain": [
       "<Figure size 1440x720 with 25 Axes>"
      ]
     },
     "metadata": {
      "needs_background": "light"
     },
     "output_type": "display_data"
    }
   ],
   "source": [
    "# GeneratorC Parameters\n",
    "pdict={}\n",
    "pdict['r_smp'] = 44100\n",
    "pdict['w_sec'] = 1\n",
    "pdict['numP'] = 5\n",
    "pdict['numK'] = 5\n",
    "pdict['LRB'] = 'B'\n",
    "\n",
    "# Generator instantiation\n",
    "test_genC=generatorC(ts_data,pdict,ts_cg_trn,return_startpoints=True)\n",
    "xy,ls,sps=next(test_genC)\n",
    "\n",
    "genC_plot(pdict['numP'],pdict['numK'],xy,ls,sps,ts_classes)"
   ]
  },
  {
   "cell_type": "markdown",
   "id": "a4b75fca-f473-4efb-a0b6-4a2bf184752c",
   "metadata": {
    "jp-MarkdownHeadingCollapsed": true,
    "tags": []
   },
   "source": [
    "## Labeled Drone Audio Data\n",
    "\n",
    "Here we are just converting the drone audio data from this dataset https://github.com/saraalemadi/DroneAudioDataset"
   ]
  },
  {
   "cell_type": "code",
   "execution_count": null,
   "id": "372d4155-a081-4c74-8810-e2c475a8cc21",
   "metadata": {},
   "outputs": [],
   "source": [
    "pdict={}\n",
    "pdict['r_smp'] = 16000\n",
    "pdict['w_sec'] = 1\n",
    "pdict['ch'] = 3\n",
    "pdict['LRB'] = 'L'\n",
    "pdict['vres'] = 2**9\n",
    "\n",
    "bc = 0 #multiclass 0, binary class 1\n",
    "drone_classes=['not_drone','drone1','drone2'] #['not_drone','drone'] #binary\n",
    "\n",
    "#make a list of the wav files\n",
    "drone_wav_files=[[root+'/'+file for file in np.sort(files)] for root,dirs,files in os.walk(drone_downloads_folder) if files!=[]]\n",
    "drone_wav_files=[drone_wav_files[0:3],drone_wav_files[3:]] #non-general but shorter than the alternative\n",
    "\n",
    "#create all the new npy directories \n",
    "[vdir(folder) for folder in [root.replace(drone_downloads_folder,drone_npys_folder) for root,dirs,files in os.walk(drone_downloads_folder)]]\n",
    "\n",
    "#make new npy filenames\n",
    "drone_npy_files=[[[f.replace(drone_downloads_folder,drone_npys_folder).replace('.wav','.npy') for f in sd] for sd in d] for d in drone_wav_files]\n",
    "\n",
    "#Convert the wavs to npys\n",
    "for i in range(len(drone_wav_files)):\n",
    "    for j in range(len(drone_wav_files[i])):\n",
    "        if not os.path.exists(drone_npy_files[i][j][-1]):\n",
    "            for k in range(len(drone_wav_files[i][j])):\n",
    "                seg = AudioSegment.from_file(drone_wav_files[i][j][k], format=\"wav\")\n",
    "                samples = pydub_to_np(seg, pdict['r_smp'])\n",
    "                np.save(drone_npy_files[i][j][k], samples)\n",
    "\n",
    "#load the new npy files all in one list\n",
    "def fldt(drone_npys,lbl):\n",
    "    f_=[f for f in drone_npys]\n",
    "    l_=[[lbl] for f in f_]\n",
    "    d_=[np.load(f) for f in f_]\n",
    "    t_=[[[0,len(d)]] for d in d_]\n",
    "    return f_,l_,d_,t_\n",
    "f__,l__,d__,t__=[],[],[],[]\n",
    "for i in range(len(drone_npy_files[bc])):\n",
    "    f_i_,l_i_,d_i_,t_i_ = fldt(drone_npy_files[bc][i],i)\n",
    "    f__.extend(f_i_); l__.extend(l_i_); d__.extend(d_i_); t__.extend(t_i_)\n",
    "shuffled=np.random.permutation(len(f__))\n",
    "drone_files=np.array(f__)[shuffled].tolist()\n",
    "drone_labels=np.array(l__)[shuffled].tolist()\n",
    "drone_data=np.array(d__,dtype='object')[shuffled].tolist()\n",
    "drone_times=np.array(t__)[shuffled].tolist()\n",
    "prev_size=len(drone_data)\n",
    "\n",
    "#pop out all the lengths under w_sec\n",
    "lengths_under_Ws=[i for i,d in enumerate(drone_data) if len(d)<pdict['r_smp']*pdict['w_sec']]\n",
    "lengths_under_Ws.reverse()\n",
    "for i in lengths_under_Ws:\n",
    "    drone_files.pop(i)\n",
    "    drone_labels.pop(i)\n",
    "    drone_data.pop(i)\n",
    "    drone_times.pop(i)\n",
    "\n",
    "\n",
    "drone_classgroups = class_grouper(drone_labels,drone_times,len(drone_classes))\n",
    "#drone_classgroups=[[i for i in range(len(drone_labels)) if drone_labels[i][0]==cl] for cl in range(3-bc)] #3-bc is 2 for binary and 3 for multiclass\n",
    "print(\"data remaining:\",len(drone_data),\"/\",prev_size) #if this number gets too low try setting w_sec lower"
   ]
  },
  {
   "cell_type": "code",
   "execution_count": null,
   "id": "dafcd795-63d1-4ef9-971d-e909f296e860",
   "metadata": {},
   "outputs": [],
   "source": [
    "#dropout some classgroups from the not a drone class to make the classes more evenly distributed (50-50 drone-not a drone)\n",
    "popn=len(drone_classgroups[0])-(len(drone_classgroups[1])+len(drone_classgroups[2]))\n",
    "for pop in range(popn):\n",
    "    drone_classgroups[0].pop(np.random.randint(len(drone_classgroups[0])))\n",
    "len(drone_classgroups[0])"
   ]
  },
  {
   "cell_type": "code",
   "execution_count": null,
   "id": "1ace220a-70d9-4657-8105-abbfe32f879c",
   "metadata": {},
   "outputs": [],
   "source": [
    "def fdltc(lb,ub):\n",
    "    f_=drone_files[lb:ub]\n",
    "    #l_=drone_labels[lb:ub]\n",
    "    #t_=drone_times[lb:ub]\n",
    "    d_=drone_data[lb:ub]\n",
    "    c_=[[[i-lb,time] for [i,time] in drone_classgroups[j] if i<ub and i>=lb] for j in range(len(drone_classgroups))]\n",
    "    return f_,d_,c_\n",
    "def splitter(splits):\n",
    "    inds,prev=[0],0\n",
    "    for split in splits:\n",
    "        inds.append(prev+int(split*len(drone_files)))\n",
    "        prev=inds[-1]\n",
    "    inds.append(len(drone_files))\n",
    "    return inds\n",
    "bounds=splitter([0.7,0.15]) #70,15,15\n",
    "\n",
    "drone_f_trn, drone_d_trn, drone_c_trn = fdltc(bounds[0],bounds[1])\n",
    "drone_f_val, drone_d_val, drone_c_val = fdltc(bounds[1],bounds[2])\n",
    "drone_f_tst, drone_d_tst, drone_c_tst = fdltc(bounds[2],bounds[3])"
   ]
  },
  {
   "cell_type": "code",
   "execution_count": null,
   "id": "3de336f0-ef9e-4f1b-b413-028de94b98b8",
   "metadata": {},
   "outputs": [],
   "source": [
    "# GeneratorC Parameters\n",
    "pdict['numP'] = 5\n",
    "pdict['numK'] = 5\n",
    "\n",
    "# Generator instantiation\n",
    "test_genC=generatorC(drone_d_trn,pdict,drone_c_trn,return_startpoints=True)\n",
    "xy,ls,sps=next(test_genC)\n",
    "\n",
    "genC_plot(pdict['numP'],pdict['numK'],xy,ls,sps,drone_classes,files_as_labels=True)\n"
   ]
  },
  {
   "cell_type": "markdown",
   "id": "f3a6cf4b-6f55-4186-8e47-bb27395d983c",
   "metadata": {
    "tags": []
   },
   "source": [
    "# Leaf Demo"
   ]
  },
  {
   "cell_type": "code",
   "execution_count": null,
   "id": "7f46a1f4-e7a6-462e-b037-720d335fdfce",
   "metadata": {},
   "outputs": [],
   "source": [
    "pdict={}\n",
    "pdict['f_range'] = [60,16000] #60 7800\n",
    "pdict['f_res'] = 40 #40\n",
    "pdict['t_res'] = 25 #25 #not an actual resolution, this is like the time 'bin size' parameter of spectrograms\n",
    "pdict['r_smp'] = 44100\n",
    "\n",
    "custom_leaf = frontend.Leaf(learn_pooling=False,\n",
    "                            n_filters=pdict['f_res'],\n",
    "                            window_len=pdict['t_res'],\n",
    "                            sample_rate=pdict['r_smp'],\n",
    "                            preemp=True,\n",
    "                            compression_fn=functools.partial(frontend.log_compression, log_offset=1e-5),\n",
    "                            complex_conv_init=initializers.GaborInit(sample_rate=pdict['r_smp'], min_freq=float(pdict['f_range'][0]), max_freq=float(pdict['f_range'][1])))\n"
   ]
  },
  {
   "cell_type": "code",
   "execution_count": null,
   "id": "483843ab-4b8a-42bf-9e59-7d18396185cb",
   "metadata": {},
   "outputs": [],
   "source": [
    "i,j,l=20,50,3\n",
    "t1,t2,s1,s2=i,i+l,j,j+l\n",
    "my_sample12=[ts_data[0][t1*44100:t2*44100,0],ts_data[0][s1*44100:s2*44100,0]]\n",
    "np.array(my_sample12).shape"
   ]
  },
  {
   "cell_type": "code",
   "execution_count": null,
   "id": "625665a4-d9b5-41da-890e-63d45d7c77f0",
   "metadata": {},
   "outputs": [],
   "source": [
    "tf_data12=tf.constant(np.array(my_sample12))\n",
    "tf_data12.shape"
   ]
  },
  {
   "cell_type": "code",
   "execution_count": null,
   "id": "f6dacb1e-27ad-48c9-a5e9-dc698df50aab",
   "metadata": {},
   "outputs": [],
   "source": [
    "my_leaf=custom_leaf(tf_data12)\n",
    "print(my_leaf.shape)\n",
    "plt.imshow(tf.transpose(my_leaf[1]),interpolation='nearest',aspect='auto')"
   ]
  },
  {
   "cell_type": "code",
   "execution_count": null,
   "id": "ba03c30e-00f3-4650-9e7a-47dea17b9329",
   "metadata": {},
   "outputs": [],
   "source": [
    "i,l=16,1\n",
    "my_sample=np.array([[ar[0] for ar in drone_d_trn[i]]])\n",
    "my_sample.shape"
   ]
  },
  {
   "cell_type": "code",
   "execution_count": null,
   "id": "8028d174-8229-4da4-a516-702a13c81320",
   "metadata": {},
   "outputs": [],
   "source": [
    "tf_data=tf.constant(np.array(my_sample))\n",
    "tf_data.shape"
   ]
  },
  {
   "cell_type": "code",
   "execution_count": null,
   "id": "00b74dae-7d40-49d7-8e63-fc0d2b7fbf4b",
   "metadata": {},
   "outputs": [],
   "source": [
    "my_leaf=custom_leaf(tf_data)\n",
    "print(my_leaf.shape)\n",
    "plt.imshow(tf.transpose(my_leaf[0]),interpolation='nearest',aspect='auto')"
   ]
  },
  {
   "cell_type": "code",
   "execution_count": 19,
   "id": "d245d0a0-f336-429e-8420-ada3bcec2734",
   "metadata": {},
   "outputs": [
    {
     "data": {
      "text/plain": [
       "<matplotlib.image.AxesImage at 0x7f71e80e52b0>"
      ]
     },
     "execution_count": 19,
     "metadata": {},
     "output_type": "execute_result"
    },
    {
     "data": {
      "image/png": "[encoded data removed]",
      "text/plain": [
       "<Figure size 432x288 with 1 Axes>"
      ]
     },
     "metadata": {
      "needs_background": "light"
     },
     "output_type": "display_data"
    }
   ],
   "source": [
    "window_size_secs=l\n",
    "v_res=2**9\n",
    "window_samps=int(window_size_secs*44100)\n",
    "t_len=int((window_samps-(v_res/8))/(v_res*7/8))   #These are the time and frequency dimensions of my plot. They come from the scipy spectrogram generation formulas.\n",
    "f_len=int(.75 * v_res/2)+1\n",
    "spectrogram = sequence_to_spectrogram(my_sample[0],44100,v_res,f_len,t_len)\n",
    "plt.imshow(spectrogram,interpolation='nearest',aspect='auto')"
   ]
  },
  {
   "cell_type": "markdown",
   "id": "8ced96e2",
   "metadata": {
    "id": "8ced96e2",
    "tags": []
   },
   "source": [
    "# NN Architecture"
   ]
  },
  {
   "cell_type": "markdown",
   "id": "e55f697e-0555-4e11-ac3b-5855047f50fa",
   "metadata": {},
   "source": [
    "We use a CNN that implements Triplet Semi-Hard Loss\n",
    "\n",
    "To understand the Triplet Loss and what it is doing we need to explain the Generator just a bit so the Loss Function makes sense in our context. First we start with the long time-series data stream in raw data form. The job of the generator is to take one random \"region\" and take nK random spectrogram windows out of that region. We then take a total of nP regions and get out a matrix of spectrograms that is nP x nK = batch size. The actual data fed into the nn is a flattened list of these spectrograms with a labels list that label each spectrogram as the p row (region) it belongs to to give a total of nP labels. (the data shape is batch size x spectrogram height x spectrogram width, and the labels shape is just batch size)\n",
    "\n",
    "The embeded vectors for all the spectrograms are then created by the neural network and output in the same order so we have an embedding vector list of batch size x output dimensions (which we set to 128). We then generate a distance matrix from all of these vectors and are left with a distance matrix of size batch size x batch size.\n",
    "\n",
    "The distance matrix is obtained using the euclidian distance which for our case is really just the pythagorean theorem on the difference of vectors in multi dimensions so we treat the vectors as like 128 dimensional cartesian vectors and say **x** = **a** - **b** where **a** and **b** are 128 dimensional vectors and the resultant difference vector is just an element-wise subtraction in cartesian coordinates (x1=a1-b1, x2=a2-b2, etc). We then find the length of **x** by doing x1^2 + x2^2 + x3^2 + ... + x128^2 = dist^2 and we solve for dist^2 (for our purposes we don't really need to take the square root). \n",
    "\n",
    "The vectors **a** and **b** are chosen sequentially from our input list of vectors and done in order, we will define the function D(**a,b**) that does just this distance calculation between vector **a** and vector **b**. Let's do an example where we have a case that nP=2 and nK=2, then we will have a batch size of nP x nK = 4 and our y_pred (embeded vector list) will be of shape 4 x 128.\n",
    "\n",
    "[**v1, v2, v3, v4**]\n",
    "\n",
    "Given our input shape and the fact that nP=2 and nK=2 we know that we have 2 different classes, we will call them 0 and 1. Here are the labels (y_true)\n",
    "\n",
    "y_true = [0, 0, 1, 1]\n",
    "\n",
    "Now the distance matrix will be a 4 x 4 matrix and will look like this:\n",
    "\n",
    "[D(**v1,v1**), D(**v1,v2**), D(**v1,v3**), D(**v1,v4**),<br>\n",
    " D(**v2,v1**), D(**v2,v2**), D(**v2,v3**), D(**v2,v4**),<br>\n",
    " D(**v3,v1**), D(**v3,v2**), D(**v3,v3**), D(**v3,v4**),<br>\n",
    " D(**v4,v1**), D(**v4,v2**), D(**v4,v3**), D(**v4,v4**)]\n",
    "\n",
    "Before we continue it should be noted now that all the anchors are now defined. D(a,b) is the anchor-(pos/neg) pair where a is the anchor and b is either a positive or negative match for that anchor.\n",
    "\n",
    "Based on our y_true labels that come from the generator, we can say that v1 and v2 should be positive to one another, and negative to v3 and v4. Below is the same distance matrix but this time we have highlighted every anchor-positive distance in green and every anchor-negative distance in red.\n",
    "\n",
    "<span style=\"color:green\">[D(**v1,v1**), D(**v1,v2**),</span> <span style=\"color:red\">D(**v1,v3**), D(**v1,v4**),<span> <br>\n",
    " <span style=\"color:green\">D(**v2,v1**), D(**v2,v2**),<span> <span style=\"color:red\">D(**v2,v3**), D(**v2,v4**),<span> <br>\n",
    " <span style=\"color:red\">D(**v3,v1**), D(**v3,v2**),<span> <span style=\"color:green\">D(**v3,v3**), D(**v3,v4**),<span> <br>\n",
    " <span style=\"color:red\">D(**v4,v1**), D(**v4,v2**),<span> <span style=\"color:green\">D(**v4,v3**), D(**v4,v4**)]<span>\n",
    " \n",
    "\n",
    "$ loss=max(||f(A)-f(P)||^2 - ||f(A)-f(N)||^2+a, 0) $\n",
    "\n",
    "We have two different types of distances now A-P ($||f(A)-f(P)||^2$) and A-N ($||f(A)-f(N)||^2$), What we want is to increase the distance from the anchor to the negatives while simultaneously decreasing the distance between the anchor and positives. To do this we want to make our loss very high if the A-P distance is large (anchor is far from positive matches) or if the A-N distance is very small (anchor is close to negatives), or conversely to make loss low when A-P distance is small or the A-N distance is large. That is all the base function $||f(A)-f(P)||^2 - ||f(A)-f(N)||^2$ is doing.\n",
    "\n",
    "Now we also have an added a margin that defines a 'hard' zone where we may have $||f(A)-f(P)||^2 < ||f(A)-f(N)||^2$ (the anchor is slightly closer to a negative than a positive). In Triplet semi-hard loss we take all these \"close calls\" within the margin a and we train based on those.\n",
    "\n",
    "This means that we are taking all the possible differences from our distance matrix that are smaller than that value for a and we are using only those to compute loss for a given row. In Josh's custom loss he used the min positive and max negatives for each row to do this calculation but in reality you can take any number of them as long as theyre within the margin.\n",
    "\n",
    "It is really a general method of determining loss for embeddings and will work just as well on labeled data too (that's actually what it's designed for). The whole thing with siamese shift encoding only really affects the generator to be honest, It is just a data fabrication method when you have unlabeled time series data so you can give it some labels.\n",
    "\n",
    "It should also be worth mentioning that the Tensorflow Triplet Semi-hard loss function does not require all the classes to be in order like we have set them up. we can input any list of spectrograms with any class order so like y_true=[1,1,5,0,5,0] would be fine, it would take these into account, but all our custom metrics depend on the placement so for our metrics we keep it so similar classes are together ([1,1,5,5,0,0]). "
   ]
  },
  {
   "cell_type": "code",
   "execution_count": 20,
   "id": "b53c677c",
   "metadata": {
    "executionInfo": {
     "elapsed": 172,
     "status": "ok",
     "timestamp": 1649087546511,
     "user": {
      "displayName": "Daniel Rabayda",
      "userId": "03984531504935332105"
     },
     "user_tz": 240
    },
    "id": "b53c677c"
   },
   "outputs": [],
   "source": [
    "def leaf_encoder_network(pdict, leaf_model, padding='same'):\n",
    "    nb_channels = pdict['ch']\n",
    "    dense_layers  = pdict['d']\n",
    "    out_dim = pdict['od']\n",
    "    norm = pdict['n']\n",
    "    window_samps = int(pdict['w_sec']*pdict['r_smp'])\n",
    "    input_layer = tf.keras.Input(shape=(window_samps), name=\"input_raw\")\n",
    "    x = leaf_model(input_layer)\n",
    "    x = tf.keras.layers.Reshape((K.int_shape(x)[1], K.int_shape(x)[2], 1))(x)\n",
    "    #x = tf.expand_dims(x,-1) #since conv2D takes in the form of channels, not in raw greyscale format\n",
    "    #x = tf.image.grayscale_to_rgb(x)\n",
    "    x = tf.keras.layers.Conv2D(64, 3, data_format='channels_last', padding=padding, activation=\"relu\")(x)\n",
    "    x = tf.keras.layers.MaxPooling2D(2)(x)\n",
    "    x = tf.keras.layers.Conv2D(128, 3, data_format='channels_last', padding=padding, activation=\"relu\")(x)\n",
    "    x = tf.keras.layers.MaxPooling2D(2)(x)\n",
    "    x = tf.keras.layers.Conv2D(256, 3, data_format='channels_last', padding=padding, activation=\"relu\")(x)\n",
    "    x = tf.keras.layers.Conv2D(256, 3, data_format='channels_last', padding=padding, activation=\"relu\")(x)\n",
    "    x = tf.keras.layers.MaxPooling2D(2)(x)\n",
    "    x = tf.keras.layers.Conv2D(512, 3, data_format='channels_last', padding=padding, activation=\"relu\")(x)\n",
    "    x = tf.keras.layers.Conv2D(512, 3, data_format='channels_last', padding=padding, activation=\"relu\")(x)\n",
    "    x = tf.keras.layers.MaxPooling2D(2)(x)\n",
    "    x = tf.keras.layers.Flatten()(x)\n",
    "    for d in dense_layers:\n",
    "        x = Dense(d, activation='relu')(x)\n",
    "        \n",
    "    # normalize output for cosine similarity\n",
    "    if norm:\n",
    "        x = Lambda(lambda xx: K.l2_normalize(xx, axis=1))(x)\n",
    "    \n",
    "    output_layer = tf.keras.layers.Dense(out_dim, activation='linear', name='output_dense')(x)\n",
    "    model = Model(input_layer, output_layer, name=\"leaf_model\")\n",
    "    \n",
    "    return model\n",
    "\n",
    "def load_custom_model(pdict, my_leaf, model_folder='models/'):\n",
    "\n",
    "    if 'iniW' in pdict.keys():\n",
    "        print(f'|time:{pdict[\"iniW\"]}')\n",
    "        model_name = [n for n in os.listdir(model_folder) if f'|time:{pdict[\"iniW\"]}' in n][0][:-3]\n",
    "        model_file = os.path.join(model_folder, model_name + '.h5')\n",
    "\n",
    "        print('loading previous model:\\n', model_file)\n",
    "        pdict = name2param(os.path.basename(model_file))\n",
    "        my_acc, my_k = get_acc(pdict)\n",
    "        my_loss = tfa.losses.TripletSemiHardLoss()\n",
    "        model = load_model(model_file, custom_objects={'triplet_loss': my_loss, 'tr_acc': my_acc, 's_knn':my_k, 'my_leaf':my_leaf})\n",
    "    else:\n",
    "        model_name = param2name(pdict)\n",
    "        model_file = os.path.join(model_folder, model_name)\n",
    "\n",
    "        print('building new model:\\n', model_file)\n",
    "        my_acc, my_k = get_acc(pdict)\n",
    "        my_loss = tfa.losses.TripletSemiHardLoss()\n",
    "        model = leaf_encoder_network(pdict, my_leaf)\n",
    "\n",
    "    o = Adam(learning_rate=pdict['lr'], clipnorm=1.)\n",
    "                      \n",
    "    model.compile(loss=my_loss, optimizer=o, metrics=[my_acc,my_k])\n",
    "\n",
    "    return model, model_name\n",
    "\n",
    "\n",
    "def get_callbacks(model_name, model_folder, log_folder):\n",
    "    pdict = name2param(os.path.basename(model_name))\n",
    "    tensor_foldername = os.path.join(log_folder, model_name)\n",
    "    #model_filename = os.path.join(model_folder, model_name + '.h5')\n",
    "\n",
    "    #sv = ModelCheckpoint(filepath=model_filename, monitor='val_loss', save_best_only=True, save_weights_only=False, mode='min')\n",
    "    #print(os.listdir(model_folder)) ####\n",
    "    stp = EarlyStopping(monitor='val_loss', min_delta=0, patience=pdict['pat'],\n",
    "                        verbose=0, mode='min', baseline=None)\n",
    "    tbd = TensorBoard(log_dir=tensor_foldername)\n",
    "    file_writer = tf.summary.create_file_writer(tensor_foldername + \"/metrics\")\n",
    "    file_writer.set_as_default()\n",
    "\n",
    "    return [stp, tbd] #[sv, stp, tbd]\n",
    "\n",
    "def param2name(pdict):\n",
    "    name = []\n",
    "    for key in pdict.keys():\n",
    "        if type(pdict[key]) is list:\n",
    "            name.append(f'{key}:{\"x\".join(map(str, pdict[key]))}')\n",
    "        else:\n",
    "            name.append(f'{key}:{pdict[key]}')\n",
    "    return '|'.join(name)\n",
    "\n",
    "\n",
    "def name2param(name):\n",
    "    regnumber = re.compile(r'^\\d+(\\.\\d+)?$')\n",
    "    pdict = dict([p.split(':') for p in name.split('|')])\n",
    "    for key in pdict.keys():\n",
    "        if regnumber.match(pdict[key]):\n",
    "            try:\n",
    "                pdict[key] = int(pdict[key])\n",
    "            except:\n",
    "                pdict[key] = float(pdict[key])\n",
    "        else:\n",
    "            if 'x' in pdict[key][:-1]:\n",
    "                pdict[key] = list(map(int, pdict[key].split('x')))\n",
    "            try:\n",
    "                pdict[key] = float(pdict[key])\n",
    "            except:\n",
    "                pass\n",
    "    return pdict\n",
    "\n",
    "#Custom Metrics\n",
    "\n",
    "def get_pairwise_dists(x, num_p, num_k):\n",
    "    # pairwise distances for whole batch\n",
    "    # (redundant computation but probably still faster than alternative)\n",
    "    norms = tf.reduce_sum(x * x, 1)\n",
    "    norms = tf.reshape(norms, [-1, 1])\n",
    "    dists = norms - 2 * tf.matmul(x, x, transpose_b=True) + tf.transpose(norms)\n",
    "    dists = K.sqrt(K.relu(dists))\n",
    "\n",
    "    # get the max intra-class distance for each sample\n",
    "    max_pos = [tf.reduce_max(tf.slice(dists, [i * num_k, i * num_k], [num_k, num_k]), axis=1) for i in range(0, num_p)]\n",
    "    max_pos = K.concatenate(max_pos, axis=0)\n",
    "\n",
    "    # get the min inter-class distance for each sample\n",
    "    min_neg = []\n",
    "    for i in range(0, num_p):\n",
    "        left = tf.slice(dists, [i * num_k, 0], [num_k, i * num_k])\n",
    "        right = tf.slice(dists, [i * num_k, (i + 1) * num_k], [num_k, (num_p - i - 1) * num_k])\n",
    "        min_neg.append(tf.reduce_min(K.concatenate([left, right], axis=1), axis=1))\n",
    "    min_neg = K.concatenate(min_neg, axis=0)\n",
    "\n",
    "    min_max = K.concatenate([K.expand_dims(max_pos, axis=-1), K.expand_dims(min_neg, axis=-1)], axis=1)\n",
    "    return min_max, dists\n",
    "\n",
    "def get_triplet_dists(x, margin=0.5):\n",
    "    x = K.transpose(x)\n",
    "    max_pos = tf.gather(x, 0)\n",
    "    min_neg = tf.gather(x, 1)\n",
    "    # Use relu or softplus\n",
    "    L_triplet = K.expand_dims(K.softplus(margin + max_pos - min_neg), 1)\n",
    "    return L_triplet\n",
    "\n",
    "#slower speed first iteration, all following are the same speed as get_pairwise_dists\n",
    "def get_pythagorean_pairwise_dists(x,bs): #same operation as pairwise, I was just seeimg some strange results from get_pairwise_dists so I wrote this instead\n",
    "    diffs=tf.stack([tf.stack([x[j]-x[i] for i in range(bs)]) for j in range(bs)]) #just the geometric differences between vectors i.e. [x1-x2, y1-y2, z1-z2, etc.]\n",
    "    return tf.sqrt(tf.reduce_sum(diffs**2,axis=2))#differences squared (x1-x2)^2 then summed then the total square rooted by the pythagorean theorem in multiple dimensions\n",
    "\n",
    "def get_knn_sum(dists, k, bs):\n",
    "    #Now we want the lowest k distances in a given row not including the identity position\n",
    "    #I couldnt find a function for the lowest k numbers so I took the top_k of the negative distances which are also the ones closest to 0 then just negate them at the end\n",
    "    values,indices=tf.math.top_k(-dists,k=k+1) #we take k+1 because the identity (a vector minus itself is 0 and we don't want those so we grab an extra)\n",
    "    k1_dists=-values\n",
    "    #Remember to throw out the identity (do k1_dists[:,1:] to get the non-zero entries)\n",
    "    fa=tf.reduce_sum(k1_dists[:,1:],axis=1) #function a, take the sum or mean of the dists for a row\n",
    "    fb=tf.reduce_sum(fa) #function b, take the sum or mean of all the distances \n",
    "    return fb #, knn_inacc\n",
    "\n",
    "def get_acc(pdict):\n",
    "    nP = pdict['numP']\n",
    "    nK = pdict['numK']\n",
    "    margin = pdict['m']\n",
    "    k = nK-1 #I would recommend nK-1 or less unless maybe you want an idea of how close the clustering groups themselves are to one another\n",
    "    bs=nP*nK\n",
    "    \n",
    "    def s_knn(y_true, y_pred): #on bigData this metric holds no meaning\n",
    "        dists = get_pythagorean_pairwise_dists(y_pred,bs) #designed for get_pythagorean_pairwise_dists but works with no noticeable difference on get_pairwise_dists, just watch out for those non-zero diagonals\n",
    "        if tf.shape(dists)!=[]: #workaround for errors on initial empty arrays\n",
    "            knn_sum = get_knn_sum(dists,k,bs)\n",
    "            return knn_sum #*tf.cast(inacc+1,tf.float32)\n",
    "        else:\n",
    "            return tf.constant([0.0])\n",
    "    \n",
    "    def tr_acc(y_true, y_pred):\n",
    "        min_max, _ = get_pairwise_dists(y_pred, nP, nK)\n",
    "        loss = get_triplet_dists(min_max, margin)\n",
    "        pos = K.less(loss, .5)\n",
    "        return K.mean(pos)\n",
    "\n",
    "    return tr_acc,s_knn\n",
    "\n",
    "def get_latest_model():\n",
    "    model_list = [n for n in os.listdir(model_folder)]; model_list.pop(0) if model_list[0] == '.ipynb_checkpoints' else None\n",
    "    time_list = np.sort([model_list[i].split(\":\")[-1].split(\".\")[0] for i in range(len(model_list))])\n",
    "    return time_list[-1]\n",
    "\n",
    "gen_selector = {'ts':['generatorC(ts_data,pdict,ts_cg_trn)','generatorC(ts_data,pdict,ts_cg_val)','generatorC(ts_data,pdict,ts_cg_tst)',len(ts_classes)],\n",
    "                'drone':['generatorC(drone_d_trn,pdict,drone_i_trn)','generatorC(drone_d_val,pdict,drone_i_val)','generatorC(drone_d_tst,pdict,drone_i_tst)',3],\n",
    "                'audioset':['generatorC(smallData,pdict,smallInfo)','generatorC(smallData2,pdict,smallInfo2)','generatorC(smallData3,pdict,smallInfo3)',18],\n",
    "                'gen1':['generator(bigData[:2],pdict,gen1s)','generator([bigData[2]],pdict,gen1s)','generator([bigData[3]],pdict,gen1s)',10],\n",
    "                'gen2':['generator(bigData[:2],pdict,gen2s)','generator([bigData[2]],pdict,gen2s)','generator([bigData[3]],pdict,gen2s)',10],\n",
    "                'gen3':['generator3(bigData[:2],pdict)','generator3([bigData[2]],pdict)','generator3([bigData[3]],pdict)',10],\n",
    "                'gen4':['generator4(bigData[:2],pdict)','generator4([bigData[2]],pdict)','generator4([bigData[3]],pdict)',10],\n",
    "                } #each gen_selector['...'] is a list: [train gen, val gen, test gen, eval nP]"
   ]
  },
  {
   "cell_type": "markdown",
   "id": "ce22e77b",
   "metadata": {
    "id": "ce22e77b",
    "tags": []
   },
   "source": [
    "# Train the Siamese Shift encoder"
   ]
  },
  {
   "cell_type": "code",
   "execution_count": 14,
   "id": "258e1568-7f20-4dbe-80d5-c7c1cb556c77",
   "metadata": {
    "colab": {
     "base_uri": "https://localhost:8080/"
    },
    "executionInfo": {
     "elapsed": 5365,
     "status": "ok",
     "timestamp": 1649087575111,
     "user": {
      "displayName": "Daniel Rabayda",
      "userId": "03984531504935332105"
     },
     "user_tz": 240
    },
    "id": "bb45b7bf",
    "outputId": "a2ca8ae3-4d28-47a7-ae28-590defe7b4a9"
   },
   "outputs": [
    {
     "name": "stdout",
     "output_type": "stream",
     "text": [
      "building new model:\n",
      " models/pat:10|d:256x128|od:128|n:1|ch:1|lr:0.0001|m:0.2|r_smp:44100|w_sec:2|vres:512|LRB:L|numP:5|numK:5|f_range:60x16000|f_res:40|t_res:25|time:1655826423\n",
      "Model: \"leaf_model\"\n",
      "_________________________________________________________________\n",
      " Layer (type)                Output Shape              Param #   \n",
      "=================================================================\n",
      " input_raw (InputLayer)      [(None, 88200)]           0         \n",
      "                                                                 \n",
      " leaf (Leaf)                 (None, 200, 40)           122       \n",
      "                                                                 \n",
      " reshape_1 (Reshape)         (None, 200, 40, 1)        0         \n",
      "                                                                 \n",
      " conv2d_6 (Conv2D)           (None, 200, 40, 64)       640       \n",
      "                                                                 \n",
      " max_pooling2d_4 (MaxPooling  (None, 100, 20, 64)      0         \n",
      " 2D)                                                             \n",
      "                                                                 \n",
      " conv2d_7 (Conv2D)           (None, 100, 20, 128)      73856     \n",
      "                                                                 \n",
      " max_pooling2d_5 (MaxPooling  (None, 50, 10, 128)      0         \n",
      " 2D)                                                             \n",
      "                                                                 \n",
      " conv2d_8 (Conv2D)           (None, 50, 10, 256)       295168    \n",
      "                                                                 \n",
      " conv2d_9 (Conv2D)           (None, 50, 10, 256)       590080    \n",
      "                                                                 \n",
      " max_pooling2d_6 (MaxPooling  (None, 25, 5, 256)       0         \n",
      " 2D)                                                             \n",
      "                                                                 \n",
      " conv2d_10 (Conv2D)          (None, 25, 5, 512)        1180160   \n",
      "                                                                 \n",
      " conv2d_11 (Conv2D)          (None, 25, 5, 512)        2359808   \n",
      "                                                                 \n",
      " max_pooling2d_7 (MaxPooling  (None, 12, 2, 512)       0         \n",
      " 2D)                                                             \n",
      "                                                                 \n",
      " flatten_1 (Flatten)         (None, 12288)             0         \n",
      "                                                                 \n",
      " dense_2 (Dense)             (None, 256)               3145984   \n",
      "                                                                 \n",
      " dense_3 (Dense)             (None, 128)               32896     \n",
      "                                                                 \n",
      " lambda_1 (Lambda)           (None, 128)               0         \n",
      "                                                                 \n",
      " output_dense (Dense)        (None, 128)               16512     \n",
      "                                                                 \n",
      "=================================================================\n",
      "Total params: 7,695,226\n",
      "Trainable params: 7,695,186\n",
      "Non-trainable params: 40\n",
      "_________________________________________________________________\n"
     ]
    }
   ],
   "source": [
    "## Build the model\n",
    "generator_type='ts'\n",
    "\n",
    "# Model Parameters\n",
    "pdict = {}\n",
    "pdict['pat'] = 10\n",
    "pdict['d'] = [256,128] #[256, 128] #\n",
    "pdict['od'] = 128 #128\n",
    "pdict['n'] = 1\n",
    "pdict['ch'] = 1\n",
    "\n",
    "pdict['lr'] = 0.0001 #default to 0.0001\n",
    "pdict['m'] = 0.2\n",
    "\n",
    "# Generator Parameters\n",
    "pdict['r_smp'] = 44100 #16000 #\n",
    "pdict['w_sec'] = 2\n",
    "#pdict['s_sec'] = .6\n",
    "pdict['vres'] = 2**9\n",
    "#pdict['wres'] = 100\n",
    "pdict['LRB'] = 'L'\n",
    "pdict['numP'] = 5\n",
    "\n",
    "# Generator 4 specific parameters\n",
    "if generator_type=='gen4':\n",
    "    pdict['numK1'] = 3\n",
    "    pdict['numK2'] = 4\n",
    "    pdict['numK'] = pdict['numK1']+pdict['numK2']\n",
    "    pdict['numC'] = 10\n",
    "    pdict['CC'] = 1/200\n",
    "# Generator 3 specific parameters\n",
    "elif generator_type=='gen3':\n",
    "    pdict['numK1'] = 3\n",
    "    pdict['numK2'] = 2\n",
    "    pdict['numQ'] = 4\n",
    "    pdict['numK'] = pdict['numK1']+(pdict['numK2']*(pdict['numQ']-1))\n",
    "    pdict['CC'] = 1/5\n",
    "# Generators C,1&2 specific parameter\n",
    "else:\n",
    "    pdict['numK'] = 5\n",
    "    \n",
    "# Leaf Parameters\n",
    "pdict['f_range'] = [60,16000] #60 7800\n",
    "pdict['f_res'] = 40 #40\n",
    "pdict['t_res'] = 25 #25 #not an actual resolution, this is like the time 'bin size' parameter of spectrograms\n",
    "\n",
    "\n",
    "\n",
    "# build the generators\n",
    "gen_trn = eval(gen_selector[generator_type][0])\n",
    "gen_val = eval(gen_selector[generator_type][1])\n",
    "\n",
    "my_leaf = frontend.Leaf(learn_pooling=False,\n",
    "                            n_filters=pdict['f_res'],\n",
    "                            window_len=pdict['t_res'],\n",
    "                            sample_rate=pdict['r_smp'],\n",
    "                            preemp=True,\n",
    "                            compression_fn=functools.partial(frontend.log_compression, log_offset=1e-5),\n",
    "                            complex_conv_init=initializers.GaborInit(sample_rate=pdict['r_smp'], min_freq=float(pdict['f_range'][0]), max_freq=float(pdict['f_range'][1])))\n",
    "\n",
    "# load the model\n",
    "pdict['time'] = int(time.time())\n",
    "#pdict['iniW'] = 1654693012\n",
    "model, model_name = load_custom_model(pdict, my_leaf)\n",
    "model.summary()\n",
    "\n",
    "# define the steps per epoch\n",
    "t_len = 10000 #(len(dataTrain)*3)*dataTrain[0].shape[0]/pdict['r_smp']/pdict['w_sec'] #one file divided by window size  (len(dataTrain)/2)*\n",
    "v_len = t_len/10 #t_len/10\n",
    "t_step = 400 #t_len//(pdict['numP']*pdict['numK'])+1  #t_len over batch size plus one so we never have a t_step of 0\n",
    "v_step = v_len//(pdict['numP']*pdict['numK'])+1"
   ]
  },
  {
   "cell_type": "code",
   "execution_count": 15,
   "id": "5f3130ea",
   "metadata": {
    "colab": {
     "base_uri": "https://localhost:8080/"
    },
    "executionInfo": {
     "elapsed": 217521,
     "status": "ok",
     "timestamp": 1649084761924,
     "user": {
      "displayName": "Daniel Rabayda",
      "userId": "03984531504935332105"
     },
     "user_tz": 240
    },
    "id": "5f3130ea",
    "outputId": "01a03d0c-5667-4901-fb2b-06067ba6219a",
    "scrolled": true
   },
   "outputs": [
    {
     "name": "stdout",
     "output_type": "stream",
     "text": [
      "Epoch 1/100\n",
      "400/400 [==============================] - 128s 309ms/step - loss: 0.8709 - tr_acc: 0.0000e+00 - s_knn: 23.7532 - val_loss: 0.8116 - val_tr_acc: 0.0000e+00 - val_s_knn: 33.2696\n",
      "Epoch 2/100\n",
      "400/400 [==============================] - 122s 306ms/step - loss: 0.7763 - tr_acc: 5.0000e-04 - s_knn: 40.0764 - val_loss: 0.9896 - val_tr_acc: 0.0000e+00 - val_s_knn: 40.5215\n",
      "Epoch 3/100\n",
      "400/400 [==============================] - 123s 307ms/step - loss: 0.6837 - tr_acc: 0.0040 - s_knn: 54.7918 - val_loss: 0.6717 - val_tr_acc: 0.0000e+00 - val_s_knn: 59.5455\n",
      "Epoch 4/100\n",
      "400/400 [==============================] - 123s 308ms/step - loss: 0.6190 - tr_acc: 0.0061 - s_knn: 68.7478 - val_loss: 0.6043 - val_tr_acc: 0.0029 - val_s_knn: 76.3539\n",
      "Epoch 5/100\n",
      "400/400 [==============================] - 124s 310ms/step - loss: 0.5823 - tr_acc: 0.0107 - s_knn: 84.2270 - val_loss: 0.6919 - val_tr_acc: 0.0039 - val_s_knn: 85.1808\n",
      "Epoch 6/100\n",
      "400/400 [==============================] - 127s 317ms/step - loss: 0.5457 - tr_acc: 0.0094 - s_knn: 94.7958 - val_loss: 0.5693 - val_tr_acc: 0.0000e+00 - val_s_knn: 104.6301\n",
      "Epoch 7/100\n",
      "400/400 [==============================] - 124s 311ms/step - loss: 0.5055 - tr_acc: 0.0093 - s_knn: 108.8190 - val_loss: 0.7657 - val_tr_acc: 0.0000e+00 - val_s_knn: 120.3446\n",
      "Epoch 8/100\n",
      "400/400 [==============================] - 125s 313ms/step - loss: 0.4940 - tr_acc: 0.0072 - s_knn: 119.5332 - val_loss: 0.5212 - val_tr_acc: 0.0068 - val_s_knn: 127.4431\n",
      "Epoch 9/100\n",
      "400/400 [==============================] - 126s 315ms/step - loss: 0.4552 - tr_acc: 0.0155 - s_knn: 129.7534 - val_loss: 0.6254 - val_tr_acc: 0.0029 - val_s_knn: 131.4528\n",
      "Epoch 10/100\n",
      "400/400 [==============================] - 126s 316ms/step - loss: 0.4368 - tr_acc: 0.0143 - s_knn: 137.2590 - val_loss: 0.4553 - val_tr_acc: 0.0029 - val_s_knn: 141.1731\n",
      "Epoch 11/100\n",
      "400/400 [==============================] - 125s 313ms/step - loss: 0.4263 - tr_acc: 0.0192 - s_knn: 148.8067 - val_loss: 0.4801 - val_tr_acc: 0.0078 - val_s_knn: 152.7110\n",
      "Epoch 12/100\n",
      "400/400 [==============================] - 125s 311ms/step - loss: 0.4145 - tr_acc: 0.0144 - s_knn: 157.8659 - val_loss: 0.6510 - val_tr_acc: 0.0039 - val_s_knn: 160.9650\n",
      "Epoch 13/100\n",
      "400/400 [==============================] - 124s 310ms/step - loss: 0.3968 - tr_acc: 0.0255 - s_knn: 163.2098 - val_loss: 0.4365 - val_tr_acc: 0.0000e+00 - val_s_knn: 167.5526\n",
      "Epoch 14/100\n",
      "400/400 [==============================] - 125s 312ms/step - loss: 0.3888 - tr_acc: 0.0226 - s_knn: 174.8527 - val_loss: 0.4329 - val_tr_acc: 0.0000e+00 - val_s_knn: 183.9170\n",
      "Epoch 15/100\n",
      "400/400 [==============================] - 125s 311ms/step - loss: 0.3770 - tr_acc: 0.0258 - s_knn: 181.1407 - val_loss: 0.4227 - val_tr_acc: 0.0098 - val_s_knn: 192.2557\n",
      "Epoch 16/100\n",
      "400/400 [==============================] - 126s 314ms/step - loss: 0.3759 - tr_acc: 0.0251 - s_knn: 186.6210 - val_loss: 0.4457 - val_tr_acc: 0.0107 - val_s_knn: 205.8805\n",
      "Epoch 17/100\n",
      "400/400 [==============================] - 125s 312ms/step - loss: 0.3547 - tr_acc: 0.0325 - s_knn: 192.3914 - val_loss: 0.3910 - val_tr_acc: 0.0117 - val_s_knn: 210.3267\n",
      "Epoch 18/100\n",
      "400/400 [==============================] - 124s 311ms/step - loss: 0.3411 - tr_acc: 0.0355 - s_knn: 200.1126 - val_loss: 0.3976 - val_tr_acc: 0.0156 - val_s_knn: 198.4221\n",
      "Epoch 19/100\n",
      "400/400 [==============================] - 124s 311ms/step - loss: 0.3470 - tr_acc: 0.0379 - s_knn: 201.1883 - val_loss: 0.5890 - val_tr_acc: 0.0000e+00 - val_s_knn: 204.4127\n",
      "Epoch 20/100\n",
      "400/400 [==============================] - 126s 314ms/step - loss: 0.3348 - tr_acc: 0.0423 - s_knn: 209.5166 - val_loss: 0.4002 - val_tr_acc: 0.0146 - val_s_knn: 228.4912\n",
      "Epoch 21/100\n",
      "400/400 [==============================] - 126s 315ms/step - loss: 0.3286 - tr_acc: 0.0400 - s_knn: 215.4986 - val_loss: 0.3789 - val_tr_acc: 0.0068 - val_s_knn: 237.9195\n",
      "Epoch 22/100\n",
      "400/400 [==============================] - 126s 316ms/step - loss: 0.3256 - tr_acc: 0.0423 - s_knn: 220.1527 - val_loss: 0.3882 - val_tr_acc: 0.0146 - val_s_knn: 232.2107\n",
      "Epoch 23/100\n",
      "400/400 [==============================] - 126s 314ms/step - loss: 0.2966 - tr_acc: 0.0561 - s_knn: 222.5612 - val_loss: 0.3489 - val_tr_acc: 0.0088 - val_s_knn: 246.0543\n",
      "Epoch 24/100\n",
      "400/400 [==============================] - 125s 312ms/step - loss: 0.3028 - tr_acc: 0.0641 - s_knn: 230.5480 - val_loss: 0.5023 - val_tr_acc: 0.0049 - val_s_knn: 241.5769\n",
      "Epoch 25/100\n",
      "400/400 [==============================] - 124s 311ms/step - loss: 0.2778 - tr_acc: 0.0724 - s_knn: 232.2040 - val_loss: 0.3966 - val_tr_acc: 0.0127 - val_s_knn: 243.0188\n",
      "Epoch 26/100\n",
      "400/400 [==============================] - 124s 309ms/step - loss: 0.2807 - tr_acc: 0.0796 - s_knn: 235.8135 - val_loss: 0.4414 - val_tr_acc: 0.0049 - val_s_knn: 272.5697\n",
      "Epoch 27/100\n",
      "400/400 [==============================] - 123s 309ms/step - loss: 0.2827 - tr_acc: 0.0783 - s_knn: 239.9884 - val_loss: 0.4740 - val_tr_acc: 0.0195 - val_s_knn: 261.1992\n",
      "Epoch 28/100\n",
      "400/400 [==============================] - 124s 309ms/step - loss: 0.2787 - tr_acc: 0.0926 - s_knn: 240.1950 - val_loss: 0.3837 - val_tr_acc: 0.0117 - val_s_knn: 268.3908\n",
      "Epoch 29/100\n",
      "400/400 [==============================] - 126s 314ms/step - loss: 0.2602 - tr_acc: 0.0969 - s_knn: 240.7371 - val_loss: 0.4268 - val_tr_acc: 0.0088 - val_s_knn: 258.6871\n",
      "Epoch 30/100\n",
      "400/400 [==============================] - 126s 315ms/step - loss: 0.2460 - tr_acc: 0.1382 - s_knn: 238.6086 - val_loss: 0.3883 - val_tr_acc: 0.0127 - val_s_knn: 273.0039\n",
      "Epoch 31/100\n",
      "400/400 [==============================] - 124s 309ms/step - loss: 0.2502 - tr_acc: 0.1510 - s_knn: 238.7914 - val_loss: 0.3690 - val_tr_acc: 0.0127 - val_s_knn: 277.3890\n",
      "Epoch 32/100\n",
      "400/400 [==============================] - 124s 311ms/step - loss: 0.2527 - tr_acc: 0.1521 - s_knn: 236.4091 - val_loss: 0.4437 - val_tr_acc: 0.0098 - val_s_knn: 284.6252\n",
      "Epoch 33/100\n",
      "400/400 [==============================] - 125s 312ms/step - loss: 0.2356 - tr_acc: 0.1677 - s_knn: 236.8712 - val_loss: 0.3498 - val_tr_acc: 0.0049 - val_s_knn: 285.2265\n"
     ]
    }
   ],
   "source": [
    "## Train the Model\n",
    "my_hist = model.fit(gen_trn, steps_per_epoch=t_step, epochs=100,\n",
    "              validation_data=gen_val, validation_steps=v_step,\n",
    "              callbacks=get_callbacks(model_name, model_folder, log_folder))\n",
    "\n",
    "## Save the Model\n",
    "model.save(os.path.join(model_folder,model_name+'.tf'))"
   ]
  },
  {
   "cell_type": "code",
   "execution_count": 21,
   "id": "e5106767-1f97-4fff-a08b-47058c65fc4a",
   "metadata": {},
   "outputs": [
    {
     "name": "stderr",
     "output_type": "stream",
     "text": [
      "2022-06-21 13:46:17.608229: W tensorflow/python/util/util.cc:368] Sets are not currently considered sequences, but this may change in the future, so consider avoiding using them.\n"
     ]
    },
    {
     "name": "stdout",
     "output_type": "stream",
     "text": [
      "INFO:tensorflow:Assets written to: models/pat:10|d:256x128|od:128|n:1|ch:1|lr:0.0001|m:0.2|r_smp:44100|w_sec:2|vres:512|LRB:L|numP:5|numK:5|f_range:60x16000|f_res:40|t_res:25|time:1655826423.tf/assets\n"
     ]
    },
    {
     "name": "stderr",
     "output_type": "stream",
     "text": [
      "INFO:tensorflow:Assets written to: models/pat:10|d:256x128|od:128|n:1|ch:1|lr:0.0001|m:0.2|r_smp:44100|w_sec:2|vres:512|LRB:L|numP:5|numK:5|f_range:60x16000|f_res:40|t_res:25|time:1655826423.tf/assets\n"
     ]
    }
   ],
   "source": [
    "model.save(os.path.join(model_folder,model_name+'.tf'))"
   ]
  },
  {
   "cell_type": "code",
   "execution_count": 22,
   "id": "10b100ad-bc02-4a62-a9c6-125f29ece9e6",
   "metadata": {},
   "outputs": [
    {
     "ename": "ValueError",
     "evalue": "dictionary update sequence element #0 has length 1; 2 is required",
     "output_type": "error",
     "traceback": [
      "\u001b[0;31m---------------------------------------------------------------------------\u001b[0m",
      "\u001b[0;31mValueError\u001b[0m                                Traceback (most recent call last)",
      "Input \u001b[0;32mIn [22]\u001b[0m, in \u001b[0;36m<cell line: 1>\u001b[0;34m()\u001b[0m\n\u001b[0;32m----> 1\u001b[0m loaded_model\u001b[38;5;241m=\u001b[39m\u001b[43mtf\u001b[49m\u001b[38;5;241;43m.\u001b[39;49m\u001b[43mkeras\u001b[49m\u001b[38;5;241;43m.\u001b[39;49m\u001b[43mmodels\u001b[49m\u001b[38;5;241;43m.\u001b[39;49m\u001b[43mload_model\u001b[49m\u001b[43m(\u001b[49m\u001b[43mmodel_folder\u001b[49m\u001b[43m,\u001b[49m\u001b[43mmodel_name\u001b[49m\u001b[38;5;241;43m+\u001b[39;49m\u001b[38;5;124;43m'\u001b[39;49m\u001b[38;5;124;43m.tf\u001b[39;49m\u001b[38;5;124;43m'\u001b[39;49m\u001b[43m)\u001b[49m\n",
      "File \u001b[0;32m~/miniconda3/envs/tf-clone/lib/python3.9/site-packages/keras/utils/traceback_utils.py:67\u001b[0m, in \u001b[0;36mfilter_traceback.<locals>.error_handler\u001b[0;34m(*args, **kwargs)\u001b[0m\n\u001b[1;32m     65\u001b[0m \u001b[38;5;28;01mexcept\u001b[39;00m \u001b[38;5;167;01mException\u001b[39;00m \u001b[38;5;28;01mas\u001b[39;00m e:  \u001b[38;5;66;03m# pylint: disable=broad-except\u001b[39;00m\n\u001b[1;32m     66\u001b[0m   filtered_tb \u001b[38;5;241m=\u001b[39m _process_traceback_frames(e\u001b[38;5;241m.\u001b[39m__traceback__)\n\u001b[0;32m---> 67\u001b[0m   \u001b[38;5;28;01mraise\u001b[39;00m e\u001b[38;5;241m.\u001b[39mwith_traceback(filtered_tb) \u001b[38;5;28;01mfrom\u001b[39;00m \u001b[38;5;28mNone\u001b[39m\n\u001b[1;32m     68\u001b[0m \u001b[38;5;28;01mfinally\u001b[39;00m:\n\u001b[1;32m     69\u001b[0m   \u001b[38;5;28;01mdel\u001b[39;00m filtered_tb\n",
      "File \u001b[0;32m~/miniconda3/envs/tf-clone/lib/python3.9/site-packages/keras/utils/generic_utils.py:84\u001b[0m, in \u001b[0;36mCustomObjectScope.__enter__\u001b[0;34m(self)\u001b[0m\n\u001b[1;32m     82\u001b[0m \u001b[38;5;28mself\u001b[39m\u001b[38;5;241m.\u001b[39mbackup \u001b[38;5;241m=\u001b[39m _GLOBAL_CUSTOM_OBJECTS\u001b[38;5;241m.\u001b[39mcopy()\n\u001b[1;32m     83\u001b[0m \u001b[38;5;28;01mfor\u001b[39;00m objects \u001b[38;5;129;01min\u001b[39;00m \u001b[38;5;28mself\u001b[39m\u001b[38;5;241m.\u001b[39mcustom_objects:\n\u001b[0;32m---> 84\u001b[0m   \u001b[43m_GLOBAL_CUSTOM_OBJECTS\u001b[49m\u001b[38;5;241;43m.\u001b[39;49m\u001b[43mupdate\u001b[49m\u001b[43m(\u001b[49m\u001b[43mobjects\u001b[49m\u001b[43m)\u001b[49m\n\u001b[1;32m     85\u001b[0m \u001b[38;5;28;01mreturn\u001b[39;00m \u001b[38;5;28mself\u001b[39m\n",
      "\u001b[0;31mValueError\u001b[0m: dictionary update sequence element #0 has length 1; 2 is required"
     ]
    }
   ],
   "source": [
    "loaded_model=tf.keras.models.load_model(model_folder,model_name+'.tf')"
   ]
  },
  {
   "cell_type": "markdown",
   "id": "31315614",
   "metadata": {
    "tags": []
   },
   "source": [
    "# Accuraccy of clusters\n",
    "We fit a knn-classifier to known data embeddings (train set), then fit new predicted data embeddings (test set) and measure the accuracy of those new predictions\n",
    "\n",
    "random successful classification: houston 1/16=6.25%, drone 1/3=33%, audioset 1/18=5.6%, unlabeled 1/nP maybe?"
   ]
  },
  {
   "cell_type": "code",
   "execution_count": 19,
   "id": "2af63798",
   "metadata": {},
   "outputs": [
    {
     "name": "stdout",
     "output_type": "stream",
     "text": [
      "1655826423\n",
      "Prediction Average Accuracy: 0.18384615384615388\n",
      "Prediction Average Accuracy: 0.1769230769230769\n",
      "Prediction Average Accuracy: 0.17076923076923078\n",
      "Overall Accuracy: 0.17717948717948717\n"
     ]
    }
   ],
   "source": [
    "# 1651772574 train sm test sm trained on increasing data size from ub=300 to 1200\n",
    "\n",
    "# 1654530762  vggish on binary drone ~98%\n",
    "# 1654533394  vggish on multiclass drone ~94%\n",
    "# 1654535110  vggish on multiclass drone ~95%\n",
    "# 1654604493  vggish trained on unlabeled data, evaluated on drone data ~60%, on audioset data ~8%, on houston labels ~35%\n",
    "# 1654626712  vggish trained on unlabeled data (save houston)\n",
    "# 1654693012  vggish trained on drone (eval on houston 5.8%), trained further on houston (eval on houston 7.8%)\n",
    "\n",
    "# 1655215924 vggish trained on amsterdam (eval on amsterdam 30%)\n",
    "# 1655235311 vggish trained on amsterdam\n",
    "\n",
    "ctime = get_latest_model()\n",
    "print(ctime)\n",
    "\n",
    "times = [ctime]\n",
    "acc_log = more_folder+'/model_acc_log'\n",
    "ev_gen_trn = ['ts',0] # evaluation generators, 0, 1, and 2 are the options of train, validation, and test datasets\n",
    "ev_gen_tst = [] # [] default to using the same generator with its test dataset\n",
    "\n",
    "\n",
    "if ev_gen_tst == []: ev_gen_tst=[ev_gen_trn[0],2]\n",
    "true_accuracies=[]\n",
    "for timei in times:\n",
    "    pdict['iniW'] = timei\n",
    "    #model, model_name = load_custom_model(pdict, my_leaf)\n",
    "    #pdict = name2param(model_name)\n",
    "\n",
    "    # I just used generatorC to get random spectrograms from random groups and we have them all lined up and labelled already\n",
    "    pdict['numP'] = gen_selector[ev_gen_trn[0]][3] #must use the total number of classes the first go around, because the next generated y_pred2 will have all different classes and if all the classes are not in y_pred then this will make it miss values just because it doesn't know them\n",
    "    pdict['numK'] = 50\n",
    "    train_gen=eval(gen_selector[ev_gen_trn[0]][ev_gen_trn[1]])\n",
    "    o_acc=[]\n",
    "    for j in range(3):\n",
    "        spectrograms,ls=next(train_gen)\n",
    "        shuffled=np.random.permutation(len(ls)) #shuffle everything just incase\n",
    "        spectrograms=spectrograms[shuffled]\n",
    "        ls=ls[shuffled]\n",
    "        y_pred = model.predict(spectrograms)\n",
    "\n",
    "        k=9\n",
    "        kclass=KNeighborsClassifier(n_neighbors=k)\n",
    "        kclass.fit(y_pred,ls)\n",
    "\n",
    "        acc=[]\n",
    "        pdict['numP'] = gen_selector[ev_gen_trn[0]][3]\n",
    "        pdict['numK'] = 10\n",
    "\n",
    "        test_gen=eval(gen_selector[ev_gen_tst[0]][ev_gen_tst[1]])\n",
    "        for i in range(10):\n",
    "            spectrograms2,ls2=next(test_gen)\n",
    "            shuffled2=np.random.permutation(len(ls2))\n",
    "            spectrograms2=spectrograms2[shuffled2]\n",
    "            ls2=ls2[shuffled2]\n",
    "            y_pred2 = model.predict(spectrograms2)\n",
    "            ls2_pred= kclass.predict(y_pred2)\n",
    "            #print(np.unique(ls2_pred),np.unique(ls2))\n",
    "            acc.append((ls2_pred==ls2).mean())\n",
    "        o_acc.append(np.mean(acc))\n",
    "        print('Prediction Average Accuracy:',np.mean(acc))#,' std:',np.std(acc))\n",
    "    print('Overall Accuracy:',np.mean(o_acc))\n",
    "    true_accuracies.append(np.mean(o_acc))\n",
    "    model_acc_hist=np.load(acc_log,allow_pickle=True).tolist() if os.path.exists(acc_log) else []\n",
    "    model_acc_hist.append([timei,np.mean(o_acc),ev_gen_trn,ev_gen_tst])\n",
    "    np.save(acc_log,np.array(model_acc_hist,dtype='object'))"
   ]
  },
  {
   "cell_type": "markdown",
   "id": "dbada821",
   "metadata": {
    "id": "dbada821",
    "tags": []
   },
   "source": [
    "# Full GUI Cluster Viewer/Namer"
   ]
  },
  {
   "cell_type": "code",
   "execution_count": 75,
   "id": "4gDMaukOPoip",
   "metadata": {
    "colab": {
     "base_uri": "https://localhost:8080/"
    },
    "executionInfo": {
     "elapsed": 3910,
     "status": "ok",
     "timestamp": 1649088484043,
     "user": {
      "displayName": "Daniel Rabayda",
      "userId": "03984531504935332105"
     },
     "user_tz": 240
    },
    "id": "4gDMaukOPoip",
    "outputId": "8425d0c4-3dcd-40e2-8b59-72a1139489f6"
   },
   "outputs": [
    {
     "name": "stdout",
     "output_type": "stream",
     "text": [
      "|time:1655299113\n",
      "loading previous model:\n",
      " models/vggish:True|pat:10|d:256x128|od:128|n:1|ch:2|lr:0.0001|m:0.2|r_smp:44100|w_sec:6|vres:512|LRB:L|numP:5|numK:5|time:1655299113.h5\n",
      "38/38 [==============================] - 2s 49ms/step\n",
      "data/GUI/images/0.png saved\n",
      "data/GUI/images/1.png saved\n",
      "data/GUI/images/2.png saved\n",
      "data/GUI/images/3.png saved\n",
      "data/GUI/images/4.png saved\n",
      "data/GUI/images/5.png saved\n",
      "data/GUI/images/6.png saved\n",
      "data/GUI/images/7.png saved\n",
      "data/GUI/images/8.png saved\n",
      "data/GUI/images/9.png saved\n",
      "data/GUI/images/10.png saved\n",
      "data/GUI/images/11.png saved\n",
      "data/GUI/images/12.png saved\n",
      "data/GUI/images/13.png saved\n",
      "data/GUI/images/14.png saved\n",
      "data/GUI/images/15.png saved\n",
      "data/GUI/images/16.png saved\n",
      "data/GUI/images/17.png saved\n",
      "data/GUI/images/18.png saved\n",
      "data/GUI/images/19.png saved\n",
      "data/GUI/images/20.png saved\n",
      "data/GUI/images/21.png saved\n",
      "data/GUI/images/22.png saved\n",
      "data/GUI/images/23.png saved\n",
      "data/GUI/images/24.png saved\n",
      "data/GUI/images/25.png saved\n",
      "data/GUI/images/26.png saved\n",
      "data/GUI/images/27.png saved\n",
      "data/GUI/images/28.png saved\n",
      "data/GUI/images/29.png saved\n",
      "data/GUI/images/30.png saved\n",
      "data/GUI/images/31.png saved\n",
      "data/GUI/images/32.png saved\n",
      "data/GUI/images/33.png saved\n",
      "data/GUI/images/34.png saved\n",
      "data/GUI/images/35.png saved\n",
      "data/GUI/images/36.png saved\n",
      "data/GUI/images/37.png saved\n",
      "data/GUI/images/38.png saved\n",
      "data/GUI/images/39.png saved\n",
      "40 [8, 8, 8, 8, 8]\n"
     ]
    }
   ],
   "source": [
    "GUI_folder=vdir(data_folder+\"/GUI\")    \n",
    "images_folder=vdir(GUI_folder+\"/images\")\n",
    "\n",
    "\n",
    "# Define the cluster parameters\n",
    "pdict['iniW'] = ctime #ctime\n",
    "n_clusters = 100 #total number of clusters we are binning the embeddings into, remember to consider the output dimension (pdict['od']) (not too low a number) and the selection to choose from (not too high a number)\n",
    "bind=2 #which file from bigData to load\n",
    "x = amsterdamData[0] #The time-series data stream we are going to be splitting into spectrogram windows\n",
    "nc = 5 #show this many clusters total\n",
    "n_examples_range = [8,9] #show this many from a given cluster\n",
    "\n",
    "def get_spectrogram(x, pdict):\n",
    "    window_samps=int(pdict['w_sec']*pdict['r_smp'])\n",
    "    v_res=pdict['vres']\n",
    "    t_len=int((window_samps-(v_res/8))/(v_res*7/8))  \n",
    "    f_len=int(.75 * v_res/2)+1\n",
    "    spectrogram=np.zeros((f_len,t_len,2))\n",
    "    spectrogram[:,:,0]=norm_seq_to_spg(x[:,0],pdict['r_smp'],v_res,f_len,t_len,spectrogram_filter)\n",
    "    spectrogram[:,:,1]=norm_seq_to_spg(x[:,1],pdict['r_smp'],v_res,f_len,t_len,spectrogram_filter)\n",
    "    if pdict['ch']==3:\n",
    "        spectrogram_out=cm.viridis(spectrogram[:,:,xlr(pdict['LRB'])])[:,:,0:3]\n",
    "    elif pdict['ch']==2:\n",
    "        spectrogram_out=spectrogram\n",
    "    else:\n",
    "        spectrogram_out=spectrogram[:,:,xlr(pdict['LRB'])]\n",
    "    return spectrogram_out\n",
    "\n",
    "# Old Image Remover\n",
    "imageFiles=[os.path.join(images_folder, f) for f in os.listdir(images_folder) if Path(f).suffix == '.png']\n",
    "for imageFile in imageFiles:\n",
    "    os.remove(imageFile)             #clears our data/images so we have a clean slate\n",
    "\n",
    "# Load the model, split the data into spectrogram windows, and predict embeddings for them\n",
    "model, model_name = load_custom_model(pdict, my_leaf)\n",
    "pdict = name2param(model_name)\n",
    "w_len = int(pdict['r_smp']*pdict['w_sec'])\n",
    "x = np.reshape(x[:-(len(x)%w_len)], (-1, w_len,2))  #taking the chosen bit of dataTrain and dividing it all into equal sized windows\n",
    "\n",
    "spectrograms = []\n",
    "startpoints = []\n",
    "for i, my_x in enumerate(x):   #i is the index, my_x is the same as x[i]\n",
    "    spectrograms.append(get_spectrogram(my_x, pdict))    #we are just converting the entire dataTrain into spectrogram windows basically\n",
    "    startpoints.extend([0,i*len(my_x)])\n",
    "spectrograms=np.array(spectrograms)\n",
    "y_pred = model.predict(spectrograms) #the embeddings\n",
    "\n",
    "if pdict['ch']==2: spectrograms=spectrograms[:,:,:,xlr(pdict['LRB'])]\n",
    "\n",
    "# Cluster the embeddings\n",
    "KM = KMeans(n_clusters)\n",
    "labels = KM.fit_predict(y_pred)\n",
    "df = pd.DataFrame(labels, columns=['LABEL'])\n",
    "\n",
    "#Now make a startpoints (sps) list and print each spectrogram in our cluster to a file\n",
    "sps=[]\n",
    "kinp=[]\n",
    "i=0\n",
    "my_clusters = np.random.permutation([i for i in range(n_clusters)][:nc])\n",
    "for c, label in enumerate(my_clusters):\n",
    "    my_df = df[df.LABEL == label]\n",
    "    my_np=np.random.permutation(np.array(my_df.index))\n",
    "    kinp.append(np.random.randint(n_examples_range[0],n_examples_range[1]))\n",
    "    for e in range(kinp[c]):\n",
    "        idx = my_np[e] if e<len(my_np) else np.random.choice(my_np)\n",
    "        #print(my_df.sample(1, replace=True))\n",
    "        spectrogram = spectrograms[idx]\n",
    "        sps.extend([bind,startpoints[2*idx+1]])\n",
    "        path=images_folder+\"/\"+str(i)+\".png\"\n",
    "        scaleF=1\n",
    "        if kinp[c]>24:\n",
    "            scaleF=24/kinp[c]\n",
    "        plt.figure(figsize=(3*scaleF, 2*scaleF))                ###### I made this a scalable feature now but I have only done limited tests on it so far. We have the structure for scaling now though, we just need to change the function to whatever works best as we size up (my guess is something squared)\n",
    "        plt.tick_params(left=False,right=False,labelleft=False,labelbottom=False,bottom=False)\n",
    "        plt.xlabel(idx)\n",
    "        #plt.ylabel('Frequency [Hz]')\n",
    "        plt.imshow(spectrogram,interpolation='nearest', aspect='auto')\n",
    "        plt.savefig(path)\n",
    "        plt.close()\n",
    "        print(path+\" saved\")\n",
    "        i+=1\n",
    "\n",
    "print(sum(kinp),kinp)\n",
    "np.save(GUI_folder+'/kinp.npy',kinp)\n",
    "np.save(GUI_folder+'/startpoints.npy',sps)\n",
    "np.save(GUI_folder+'/pdict.npy',pdict)"
   ]
  },
  {
   "cell_type": "markdown",
   "id": "2282c9f5",
   "metadata": {
    "id": "2282c9f5"
   },
   "source": [
    "### Now run the next cell unless you have docker, then just make a new file called GUI.py in the same folder and run it with python3 GUI.py"
   ]
  },
  {
   "cell_type": "code",
   "execution_count": 77,
   "id": "003c3526",
   "metadata": {},
   "outputs": [
    {
     "name": "stdout",
     "output_type": "stream",
     "text": [
      "Entering Cluster 0\n"
     ]
    },
    {
     "name": "stderr",
     "output_type": "stream",
     "text": [
      "ffplay: /home/dan/miniconda3/envs/tf/lib/libtinfo.so.6: no version information available (required by /lib/x86_64-linux-gnu/libcaca.so.0)\n",
      "ffplay: /home/dan/miniconda3/envs/tf/lib/libncursesw.so.6: no version information available (required by /lib/x86_64-linux-gnu/libcaca.so.0)\n",
      "ffplay: /home/dan/miniconda3/envs/tf/lib/libncursesw.so.6: no version information available (required by /lib/x86_64-linux-gnu/libcaca.so.0)\n",
      "Input #0, wav, from '/tmp/tmp7xzl01ba.wav':   0KB sq=    0B f=0/0   \n",
      "  Duration: 00:00:06.00, bitrate: 1411 kb/s\n",
      "    Stream #0:0: Audio: pcm_s32le ([1][0][0][0] / 0x0001), 44100 Hz, 1 channels, s32, 1411 kb/s\n",
      "   5.93 M-A: -0.000 fd=   0 aq=    0KB vq=    0KB sq=    0B f=0/0   \r"
     ]
    },
    {
     "name": "stdout",
     "output_type": "stream",
     "text": [
      "\n",
      "Playing audios: 0\n"
     ]
    },
    {
     "name": "stderr",
     "output_type": "stream",
     "text": [
      "ffplay: /home/dan/miniconda3/envs/tf/lib/libtinfo.so.6: no version information available (required by /lib/x86_64-linux-gnu/libcaca.so.0)\n",
      "ffplay: /home/dan/miniconda3/envs/tf/lib/libncursesw.so.6: no version information available (required by /lib/x86_64-linux-gnu/libcaca.so.0)\n",
      "ffplay: /home/dan/miniconda3/envs/tf/lib/libncursesw.so.6: no version information available (required by /lib/x86_64-linux-gnu/libcaca.so.0)\n",
      "[wav @ 0x7f4fdc000bc0] Cannot check for SPDIF 0KB sq=    0B f=0/0   \n",
      "Input #0, wav, from '/tmp/tmpk4_6mr2g.wav':\n",
      "  Duration: N/A, bitrate: 1411 kb/s\n",
      "    Stream #0:0: Audio: pcm_s32le ([1][0][0][0] / 0x0001), 44100 Hz, 1 channels, s32, 1411 kb/s\n"
     ]
    },
    {
     "name": "stdout",
     "output_type": "stream",
     "text": [
      "\n",
      "Playing audios: 1\n"
     ]
    },
    {
     "name": "stderr",
     "output_type": "stream",
     "text": [
      "ffplay: /home/dan/miniconda3/envs/tf/lib/libtinfo.so.6: no version information available (required by /lib/x86_64-linux-gnu/libcaca.so.0)\n",
      "ffplay: /home/dan/miniconda3/envs/tf/lib/libncursesw.so.6: no version information available (required by /lib/x86_64-linux-gnu/libcaca.so.0)\n",
      "ffplay: /home/dan/miniconda3/envs/tf/lib/libncursesw.so.6: no version information available (required by /lib/x86_64-linux-gnu/libcaca.so.0)\n",
      "[wav @ 0x7f66b0000bc0] Cannot check for SPDIF 0KB sq=    0B f=0/0   \n",
      "Input #0, wav, from '/tmp/tmpv2kuq7ma.wav':\n",
      "  Duration: N/A, bitrate: 1411 kb/s\n",
      "    Stream #0:0: Audio: pcm_s32le ([1][0][0][0] / 0x0001), 44100 Hz, 1 channels, s32, 1411 kb/s\n"
     ]
    },
    {
     "name": "stdout",
     "output_type": "stream",
     "text": [
      "\n",
      "Playing audios: 1\n",
      "['0', '1', '2', '3', '4']\n"
     ]
    }
   ],
   "source": [
    "#GUI.py\n",
    "#Noise Cluster Viewer (will work for any data, but this version has only been tested with time-series aircraft audios)\n",
    "\n",
    "import io\n",
    "import os\n",
    "import scipy.io.wavfile\n",
    "from scipy import signal\n",
    "from pathlib import Path\n",
    "import numpy as np\n",
    "from pydub.playback import play\n",
    "from pydub import AudioSegment\n",
    "import ipywidgets as widgets\n",
    "from ipywidgets import interact\n",
    "from tkinter import *\n",
    "from tkinter import ttk\n",
    "from tkinter.ttk import *\n",
    "from IPython.display import display\n",
    "from IPython.display import Image\n",
    "data_folder=\"data\"\n",
    "npys_folder=data_folder+\"/npys/time_series_audio_npys\"\n",
    "GUI_folder=data_folder+\"/GUI\"\n",
    "images_folder=GUI_folder+\"/images\"\n",
    "\n",
    "numpy_files = [os.path.join(npys_folder, f) for f in os.listdir(npys_folder) if Path(f).suffix == '.npy']\n",
    "bigData=[np.load(f) for f in numpy_files]\n",
    "kinp=np.load(GUI_folder+'/kinp.npy')\n",
    "sps=np.load(GUI_folder+'/startpoints.npy')\n",
    "pdict=np.load(GUI_folder+'/pdict.npy',allow_pickle=True).item()\n",
    "#nK=pdict['numK']\n",
    "w_sec=pdict['w_sec'] #44100*2\n",
    "\n",
    "xlr = lambda lrb:0 if lrb=='L' else 1 if lrb=='R' else np.random.randint(2)\n",
    "\n",
    "def returnAudioSegment(data_array,startpoints,iP,iK,window_size):  #red is a reduction int where say red is 2, this takes every 2nd sample then thus halving the size of the data, the sample rate adjusts accordingly as well\n",
    "    dind,sind=startpoints[(sum(kinp[:iP])+iK)*2],startpoints[(sum(kinp[:iP])+iK)*2+1]   #replaced iP*nK with sum(kinp[:iP])\n",
    "    seg=data_array[dind][sind:sind+int(window_size*pdict['r_smp']),xlr(pdict['LRB'])]\n",
    "    wav_io = io.BytesIO()\n",
    "    scipy.io.wavfile.write(wav_io, pdict['r_smp'], seg)     #creates a quick audio snippet out of the segment\n",
    "    wav_io.seek(0)\n",
    "    return AudioSegment.from_wav(wav_io)  #returns an AudioSegment object for us to work with easily\n",
    "\n",
    "LARGE_FONT= (\"Verdana\", 12)\n",
    "nP=len(kinp)   #We need an nP which is the number of different clusters we want to look at in this case\n",
    "iP=0           #current cluster\n",
    "initial=True   #boolean for startup\n",
    "clusterNames=[str(cni) for cni in range(nP)]\n",
    "\n",
    "class App(Tk):\n",
    "\n",
    "    def __init__(self, *args, **kwargs):\n",
    "        Tk.__init__(self, *args, **kwargs)\n",
    "        self.title('Cluster Viewer 9000')\n",
    "        container = Frame(self)\n",
    "        container.pack(side=\"top\", fill=\"both\", expand = True)\n",
    "        container.grid_rowconfigure(0, weight=1)\n",
    "        container.grid_columnconfigure(0, weight=1)\n",
    "        self.frames = {}\n",
    "\n",
    "        for F in (StartPage, ClusteriP):\n",
    "            frame = F(container, self)\n",
    "            self.frames[F] = frame\n",
    "            frame.grid(row=0, column=0, sticky=\"nsew\")\n",
    "\n",
    "        if initial:\n",
    "            self.show_frame(StartPage)    #So I had to make it restart everytime on ClusteriP in order for it to refresh to the correct cluster number iP\n",
    "        else:                             #but this meant we would start the first time on the ClusteriP page so I made this boolean initial to say whether this is the first\n",
    "            self.show_frame(ClusteriP)    #start or not and set it to false as soon as a StartPage button is pushed\n",
    "\n",
    "    def show_frame(self, cont):\n",
    "        frame = self.frames[cont]\n",
    "        frame.tkraise()\n",
    "\n",
    "class StartPage(Frame):          #This viewer is the main screen and shows all the different clusters we can enter to look at\n",
    "\n",
    "    def __init__(self, parent, controller):\n",
    "        Frame.__init__(self,parent)\n",
    "        label = Label(self, text=\"Start Page\", font=LARGE_FONT)\n",
    "        label.pack(pady=10,padx=10)\n",
    "        buttonP_dict={}\n",
    "        for p in range(nP):\n",
    "\n",
    "            buttonP_dict[p] = Button(self, text=\"Visit Cluster: \"+clusterNames[p],command=lambda p=p:[self.buttonPCallback(p),refresh()])#controller.show_frame(ClusteriP)])\n",
    "            buttonP_dict[p].pack()\n",
    "\n",
    "    def buttonPCallback(self,h):\n",
    "        global iP,initial\n",
    "        initial=False\n",
    "        iP=h\n",
    "        print(\"Entering Cluster \"+str(iP))\n",
    "class ClusteriP(Frame):           #This frame is our individual cluster viewer and changes depending on which cluster we are entering.\n",
    "\n",
    "    def __init__(self, parent, controller):\n",
    "        Frame.__init__(self, parent)\n",
    "        label = Label(self, text=\"Cluster: \"+str(iP), font=LARGE_FONT)\n",
    "        label.grid(row=0,column=0)\n",
    "\n",
    "\n",
    "        def nameCluster(name):\n",
    "            name = name_C.get()\n",
    "            global clusterNames\n",
    "            clusterNames[iP]=name\n",
    "            print(\"New Name is: \"+name)\n",
    "        nRow=4                                 #I list everything in columns like this 1 3 5  and nRow is the number of rows (in this example it's 2)\n",
    "        buttonK_dict={}                        #                                       2 4 6         I did this because window sizes differ a lot so instead of making one standard program window I made it scalable\n",
    "        self.photoK_dict={}\n",
    "        audios=[]\n",
    "        for k in range(kinp[iP]):\n",
    "            audios.append(returnAudioSegment(bigData,sps,iP,k,w_sec))  #replaced bigData with x\n",
    "            def buttonKCallback(m=k): #sum(kinp[0:iP])+k): #This is a little clumsy but it works in the loop for now. in StartPage you can see that button callback is a bit more elegantly defined so if we get any errors we may want to do the same with this later\n",
    "                play(audios[m])\n",
    "                print(\"Playing audios: \"+str(m))\n",
    "            self.photoK_dict[k]=PhotoImage(file=images_folder+\"/\"+str(sum(kinp[0:iP])+k)+\".png\")      #This will occasionally give an error that it can't find \"pyimage304\" or something crazy which is something internal to tk.photoimage so I just run another cell calling that method and it works itself out\n",
    "            buttonK_dict[k] = Button(self, image=self.photoK_dict[k],command=buttonKCallback)\n",
    "            buttonK_dict[k].grid(row=1+(k%nRow),column=int(k/nRow))\n",
    "            #print(\"loaded \"+str(sum(kinp[0:w])+k)+\".png\")\n",
    "        Label(self, text = 'Name Cluster '+str(iP)+':', font = LARGE_FONT).grid(row=nRow+2,column=0)\n",
    "        name_C = Entry(self)\n",
    "        name_C.bind('<Return>',nameCluster)\n",
    "        name_C.grid(row=nRow+2,column=1)\n",
    "        homeButton = Button(self, text=\"Return to Start Page\",command=lambda:controller.show_frame(StartPage))\n",
    "        homeButton.grid(row=nRow+3,column=0)\n",
    "        nextP=iP+1\n",
    "        if nextP==nP:\n",
    "            nextP=0\n",
    "        nextCButton = Button(self, text=\"Next Cluster\",command=lambda:[StartPage.buttonPCallback(self,nextP),refresh()])\n",
    "        nextCButton.grid(row=nRow+4,column=0)\n",
    "\n",
    "\n",
    "\n",
    "def vp_start_gui():\n",
    "    global app\n",
    "    app = App()\n",
    "    app.mainloop()\n",
    "\n",
    "\n",
    "if __name__ == '__main__':\n",
    "    def refresh():\n",
    "        app.destroy()\n",
    "        vp_start_gui()\n",
    "\n",
    "    vp_start_gui()\n",
    "\n",
    "print(clusterNames)\n",
    "\n",
    "\n",
    "\n"
   ]
  },
  {
   "cell_type": "markdown",
   "id": "3538c195",
   "metadata": {
    "tags": []
   },
   "source": [
    "# GUI for checking generator audio"
   ]
  },
  {
   "cell_type": "code",
   "execution_count": 35,
   "id": "ba70b2ec",
   "metadata": {
    "colab": {
     "base_uri": "https://localhost:8080/"
    },
    "executionInfo": {
     "elapsed": 3910,
     "status": "ok",
     "timestamp": 1649088484043,
     "user": {
      "displayName": "Daniel Rabayda",
      "userId": "03984531504935332105"
     },
     "user_tz": 240
    },
    "id": "4gDMaukOPoip",
    "outputId": "8425d0c4-3dcd-40e2-8b59-72a1139489f6"
   },
   "outputs": [
    {
     "name": "stdout",
     "output_type": "stream",
     "text": [
      "data/GUI/gen_images/0.png saved\n",
      "data/GUI/gen_images/1.png saved\n",
      "data/GUI/gen_images/2.png saved\n",
      "data/GUI/gen_images/3.png saved\n",
      "data/GUI/gen_images/4.png saved\n",
      "data/GUI/gen_images/5.png saved\n",
      "data/GUI/gen_images/6.png saved\n",
      "data/GUI/gen_images/7.png saved\n",
      "data/GUI/gen_images/8.png saved\n",
      "data/GUI/gen_images/9.png saved\n",
      "data/GUI/gen_images/10.png saved\n",
      "data/GUI/gen_images/11.png saved\n",
      "data/GUI/gen_images/12.png saved\n",
      "data/GUI/gen_images/13.png saved\n",
      "data/GUI/gen_images/14.png saved\n",
      "data/GUI/gen_images/15.png saved\n",
      "data/GUI/gen_images/16.png saved\n",
      "data/GUI/gen_images/17.png saved\n",
      "data/GUI/gen_images/18.png saved\n",
      "data/GUI/gen_images/19.png saved\n",
      "data/GUI/gen_images/20.png saved\n",
      "data/GUI/gen_images/21.png saved\n",
      "data/GUI/gen_images/22.png saved\n",
      "data/GUI/gen_images/23.png saved\n",
      "data/GUI/gen_images/24.png saved\n",
      "data/GUI/gen_images/25.png saved\n",
      "data/GUI/gen_images/26.png saved\n",
      "data/GUI/gen_images/27.png saved\n",
      "data/GUI/gen_images/28.png saved\n",
      "data/GUI/gen_images/29.png saved\n",
      "data/GUI/gen_images/30.png saved\n",
      "data/GUI/gen_images/31.png saved\n",
      "data/GUI/gen_images/32.png saved\n",
      "data/GUI/gen_images/33.png saved\n",
      "data/GUI/gen_images/34.png saved\n",
      "data/GUI/gen_images/35.png saved\n",
      "data/GUI/gen_images/36.png saved\n",
      "data/GUI/gen_images/37.png saved\n",
      "data/GUI/gen_images/38.png saved\n",
      "data/GUI/gen_images/39.png saved\n",
      "data/GUI/gen_images/40.png saved\n",
      "data/GUI/gen_images/41.png saved\n",
      "data/GUI/gen_images/42.png saved\n",
      "data/GUI/gen_images/43.png saved\n",
      "data/GUI/gen_images/44.png saved\n",
      "data/GUI/gen_images/45.png saved\n",
      "data/GUI/gen_images/46.png saved\n",
      "data/GUI/gen_images/47.png saved\n",
      "data/GUI/gen_images/48.png saved\n",
      "data/GUI/gen_images/49.png saved\n",
      "data/GUI/gen_images/50.png saved\n",
      "data/GUI/gen_images/51.png saved\n",
      "data/GUI/gen_images/52.png saved\n",
      "data/GUI/gen_images/53.png saved\n",
      "data/GUI/gen_images/54.png saved\n",
      "data/GUI/gen_images/55.png saved\n",
      "data/GUI/gen_images/56.png saved\n",
      "data/GUI/gen_images/57.png saved\n",
      "data/GUI/gen_images/58.png saved\n",
      "data/GUI/gen_images/59.png saved\n",
      "data/GUI/gen_images/60.png saved\n",
      "data/GUI/gen_images/61.png saved\n",
      "data/GUI/gen_images/62.png saved\n",
      "data/GUI/gen_images/63.png saved\n",
      "data/GUI/gen_images/64.png saved\n",
      "data/GUI/gen_images/65.png saved\n",
      "data/GUI/gen_images/66.png saved\n",
      "data/GUI/gen_images/67.png saved\n",
      "data/GUI/gen_images/68.png saved\n",
      "data/GUI/gen_images/69.png saved\n",
      "data/GUI/gen_images/70.png saved\n",
      "data/GUI/gen_images/71.png saved\n",
      "data/GUI/gen_images/72.png saved\n",
      "data/GUI/gen_images/73.png saved\n",
      "data/GUI/gen_images/74.png saved\n",
      "data/GUI/gen_images/75.png saved\n",
      "data/GUI/gen_images/76.png saved\n",
      "data/GUI/gen_images/77.png saved\n",
      "data/GUI/gen_images/78.png saved\n",
      "data/GUI/gen_images/79.png saved\n",
      "data/GUI/gen_images/80.png saved\n",
      "data/GUI/gen_images/81.png saved\n",
      "data/GUI/gen_images/82.png saved\n",
      "data/GUI/gen_images/83.png saved\n",
      "data/GUI/gen_images/84.png saved\n",
      "data/GUI/gen_images/85.png saved\n",
      "data/GUI/gen_images/86.png saved\n",
      "data/GUI/gen_images/87.png saved\n",
      "data/GUI/gen_images/88.png saved\n",
      "data/GUI/gen_images/89.png saved\n",
      "data/GUI/gen_images/90.png saved\n",
      "data/GUI/gen_images/91.png saved\n",
      "data/GUI/gen_images/92.png saved\n",
      "data/GUI/gen_images/93.png saved\n",
      "data/GUI/gen_images/94.png saved\n",
      "data/GUI/gen_images/95.png saved\n",
      "data/GUI/gen_images/96.png saved\n",
      "data/GUI/gen_images/97.png saved\n",
      "data/GUI/gen_images/98.png saved\n",
      "data/GUI/gen_images/99.png saved\n",
      "data/GUI/gen_images/100.png saved\n",
      "data/GUI/gen_images/101.png saved\n",
      "data/GUI/gen_images/102.png saved\n",
      "data/GUI/gen_images/103.png saved\n",
      "data/GUI/gen_images/104.png saved\n",
      "data/GUI/gen_images/105.png saved\n",
      "data/GUI/gen_images/106.png saved\n",
      "data/GUI/gen_images/107.png saved\n",
      "data/GUI/gen_images/108.png saved\n",
      "data/GUI/gen_images/109.png saved\n",
      "data/GUI/gen_images/110.png saved\n",
      "data/GUI/gen_images/111.png saved\n",
      "data/GUI/gen_images/112.png saved\n",
      "data/GUI/gen_images/113.png saved\n",
      "data/GUI/gen_images/114.png saved\n",
      "data/GUI/gen_images/115.png saved\n",
      "data/GUI/gen_images/116.png saved\n",
      "data/GUI/gen_images/117.png saved\n",
      "data/GUI/gen_images/118.png saved\n",
      "data/GUI/gen_images/119.png saved\n",
      "data/GUI/gen_images/120.png saved\n",
      "data/GUI/gen_images/121.png saved\n",
      "data/GUI/gen_images/122.png saved\n",
      "data/GUI/gen_images/123.png saved\n",
      "data/GUI/gen_images/124.png saved\n",
      "data/GUI/gen_images/125.png saved\n",
      "data/GUI/gen_images/126.png saved\n",
      "data/GUI/gen_images/127.png saved\n",
      "data/GUI/gen_images/128.png saved\n",
      "data/GUI/gen_images/129.png saved\n",
      "data/GUI/gen_images/130.png saved\n",
      "data/GUI/gen_images/131.png saved\n",
      "data/GUI/gen_images/132.png saved\n",
      "data/GUI/gen_images/133.png saved\n",
      "data/GUI/gen_images/134.png saved\n",
      "data/GUI/gen_images/135.png saved\n",
      "data/GUI/gen_images/136.png saved\n",
      "data/GUI/gen_images/137.png saved\n",
      "data/GUI/gen_images/138.png saved\n",
      "data/GUI/gen_images/139.png saved\n",
      "data/GUI/gen_images/140.png saved\n",
      "data/GUI/gen_images/141.png saved\n",
      "data/GUI/gen_images/142.png saved\n",
      "data/GUI/gen_images/143.png saved\n",
      "data/GUI/gen_images/144.png saved\n",
      "data/GUI/gen_images/145.png saved\n",
      "data/GUI/gen_images/146.png saved\n",
      "data/GUI/gen_images/147.png saved\n",
      "data/GUI/gen_images/148.png saved\n",
      "data/GUI/gen_images/149.png saved\n",
      "data/GUI/gen_images/150.png saved\n",
      "data/GUI/gen_images/151.png saved\n",
      "data/GUI/gen_images/152.png saved\n",
      "data/GUI/gen_images/153.png saved\n",
      "data/GUI/gen_images/154.png saved\n",
      "data/GUI/gen_images/155.png saved\n",
      "data/GUI/gen_images/156.png saved\n",
      "data/GUI/gen_images/157.png saved\n",
      "data/GUI/gen_images/158.png saved\n",
      "data/GUI/gen_images/159.png saved\n",
      "data/GUI/gen_images/160.png saved\n",
      "data/GUI/gen_images/161.png saved\n",
      "data/GUI/gen_images/162.png saved\n",
      "data/GUI/gen_images/163.png saved\n",
      "data/GUI/gen_images/164.png saved\n",
      "data/GUI/gen_images/165.png saved\n",
      "data/GUI/gen_images/166.png saved\n",
      "data/GUI/gen_images/167.png saved\n",
      "data/GUI/gen_images/168.png saved\n",
      "data/GUI/gen_images/169.png saved\n",
      "data/GUI/gen_images/170.png saved\n",
      "data/GUI/gen_images/171.png saved\n",
      "data/GUI/gen_images/172.png saved\n",
      "data/GUI/gen_images/173.png saved\n",
      "data/GUI/gen_images/174.png saved\n",
      "data/GUI/gen_images/175.png saved\n",
      "data/GUI/gen_images/176.png saved\n",
      "data/GUI/gen_images/177.png saved\n",
      "data/GUI/gen_images/178.png saved\n",
      "data/GUI/gen_images/179.png saved\n"
     ]
    }
   ],
   "source": [
    "GUI_folder=vdir(data_folder+\"/GUI\")\n",
    "gen_images_folder=vdir(GUI_folder+\"/gen_images\")\n",
    "\n",
    "# Old Image Remover\n",
    "imageFiles=[os.path.join(gen_images_folder, f) for f in os.listdir(gen_images_folder) if Path(f).suffix == '.png']\n",
    "for imageFile in imageFiles:\n",
    "    os.remove(imageFile)             #clears our data/images so we have a clean slate\n",
    "\n",
    "# GeneratorC Parameters\n",
    "pdict['w_sec'] = 2\n",
    "pdict['numP'] = 18\n",
    "pdict['numK'] = 10\n",
    "pdict['LRB'] = 'L'   #options are 'L' 'R' or something else. if it's anything other than L or R it will default to using both channels at random\n",
    "pdict['vres'] = 2**9\n",
    "\n",
    "nP,nK=pdict['numP'],pdict['numK']\n",
    "# Generator instantiation\n",
    "test_genC=generatorC(smallData,pdict,smallLabels,smallTimes,smallClassgroups,return_startpoints=True)\n",
    "xy,ls,sps=next(test_genC)\n",
    "i=0\n",
    "for p in range(nP):\n",
    "    for k in range(nK):\n",
    "        idx = p*nK +k    \n",
    "        spectrogram = xy[idx]  #we are doing log10 to scale it so it's nicer to look at\n",
    "        path=gen_images_folder+\"/\"+str(i)+\".png\"\n",
    "        scaleF=1\n",
    "        if nK>8:\n",
    "            scaleF=24/(nK*2)\n",
    "        plt.figure(figsize=(3*scaleF, 2*scaleF))                ###### I made this a scalable feature now but I have only done limited tests on it so far. We have the structure for scaling now though, we just need to change the function to whatever works best as we size up (my guess is something squared)\n",
    "        plt.ylabel('Frequency [Hz]')\n",
    "        plt.xlabel('Time [sec]')   \n",
    "        plt.imshow(spectrogram,interpolation='nearest', aspect='auto')\n",
    "        plt.savefig(path)\n",
    "        plt.close()\n",
    "        print(path+\" saved\")\n",
    "        i+=1\n",
    "\n",
    "np.save(GUI_folder+'/gen_ls.npy',ls)\n",
    "np.save(GUI_folder+'/gen_startpoints.npy',sps)\n",
    "np.save(GUI_folder+'/gen_pdict.npy',pdict)"
   ]
  },
  {
   "cell_type": "markdown",
   "id": "759f6691",
   "metadata": {},
   "source": [
    "### run the above code then put the below code in a python file (in the same directory) and run it"
   ]
  },
  {
   "cell_type": "code",
   "execution_count": 1,
   "id": "e16f4534",
   "metadata": {},
   "outputs": [
    {
     "name": "stdout",
     "output_type": "stream",
     "text": [
      "Entering Cluster Motorcycle\n"
     ]
    },
    {
     "name": "stderr",
     "output_type": "stream",
     "text": [
      "Exception ignored in: <function Wave_write.__del__ at 0x7fb87446caf0>\n",
      "Traceback (most recent call last):\n",
      "  File \"/home/dan/miniconda3/envs/cjl/lib/python3.9/wave.py\", line 326, in __del__\n",
      "    self.close()\n",
      "  File \"/home/dan/miniconda3/envs/cjl/lib/python3.9/wave.py\", line 444, in close\n",
      "    self._ensure_header_written(0)\n",
      "  File \"/home/dan/miniconda3/envs/cjl/lib/python3.9/wave.py\", line 464, in _ensure_header_written\n",
      "    raise Error('sample width not specified')\n",
      "wave.Error: sample width not specified\n"
     ]
    },
    {
     "name": "stdout",
     "output_type": "stream",
     "text": [
      "Playing audio of k= 9\n",
      "ffmpeg is having trouble with this one\n",
      "Playing audio of k= 2\n"
     ]
    },
    {
     "name": "stderr",
     "output_type": "stream",
     "text": [
      "ffplay: /home/dan/miniconda3/envs/cjl/lib/libtinfo.so.6: no version information available (required by /lib/x86_64-linux-gnu/libcaca.so.0)\n",
      "ffplay: /home/dan/miniconda3/envs/cjl/lib/libncursesw.so.6: no version information available (required by /lib/x86_64-linux-gnu/libcaca.so.0)\n",
      "ffplay: /home/dan/miniconda3/envs/cjl/lib/libncursesw.so.6: no version information available (required by /lib/x86_64-linux-gnu/libcaca.so.0)\n",
      "Input #0, wav, from '/tmp/tmpclrdflo6.wav':   0KB sq=    0B f=0/0   \n",
      "  Duration: 00:00:02.00, bitrate: 1411 kb/s\n",
      "    Stream #0:0: Audio: pcm_s32le ([1][0][0][0] / 0x0001), 44100 Hz, 1 channels, s32, 1411 kb/s\n",
      "   1.94 M-A: -0.000 fd=   0 aq=    0KB vq=    0KB sq=    0B f=0/0   \r"
     ]
    },
    {
     "name": "stdout",
     "output_type": "stream",
     "text": [
      "\n",
      "Playing audio of k= 2\n"
     ]
    },
    {
     "name": "stderr",
     "output_type": "stream",
     "text": [
      "ffplay: /home/dan/miniconda3/envs/cjl/lib/libtinfo.so.6: no version information available (required by /lib/x86_64-linux-gnu/libcaca.so.0)\n",
      "ffplay: /home/dan/miniconda3/envs/cjl/lib/libncursesw.so.6: no version information available (required by /lib/x86_64-linux-gnu/libcaca.so.0)\n",
      "ffplay: /home/dan/miniconda3/envs/cjl/lib/libncursesw.so.6: no version information available (required by /lib/x86_64-linux-gnu/libcaca.so.0)\n",
      "Input #0, wav, from '/tmp/tmp7ze6t70y.wav':   0KB sq=    0B f=0/0   \n",
      "  Duration: 00:00:02.00, bitrate: 1411 kb/s\n",
      "    Stream #0:0: Audio: pcm_s32le ([1][0][0][0] / 0x0001), 44100 Hz, 1 channels, s32, 1411 kb/s\n",
      "   1.97 M-A:  0.000 fd=   0 aq=    0KB vq=    0KB sq=    0B f=0/0   \r"
     ]
    },
    {
     "name": "stdout",
     "output_type": "stream",
     "text": [
      "\n",
      "Playing audio of k= 7\n"
     ]
    },
    {
     "name": "stderr",
     "output_type": "stream",
     "text": [
      "ffplay: /home/dan/miniconda3/envs/cjl/lib/libtinfo.so.6: no version information available (required by /lib/x86_64-linux-gnu/libcaca.so.0)\n",
      "ffplay: /home/dan/miniconda3/envs/cjl/lib/libncursesw.so.6: no version information available (required by /lib/x86_64-linux-gnu/libcaca.so.0)\n",
      "ffplay: /home/dan/miniconda3/envs/cjl/lib/libncursesw.so.6: no version information available (required by /lib/x86_64-linux-gnu/libcaca.so.0)\n",
      "Input #0, wav, from '/tmp/tmp6j092ykc.wav':   0KB sq=    0B f=0/0   \n",
      "  Duration: 00:00:02.00, bitrate: 1411 kb/s\n",
      "    Stream #0:0: Audio: pcm_s32le ([1][0][0][0] / 0x0001), 44100 Hz, 1 channels, s32, 1411 kb/s\n",
      "   1.97 M-A:  0.000 fd=   0 aq=    0KB vq=    0KB sq=    0B f=0/0   \r"
     ]
    },
    {
     "name": "stdout",
     "output_type": "stream",
     "text": [
      "\n",
      "Playing audio of k= 6\n"
     ]
    },
    {
     "name": "stderr",
     "output_type": "stream",
     "text": [
      "ffplay: /home/dan/miniconda3/envs/cjl/lib/libtinfo.so.6: no version information available (required by /lib/x86_64-linux-gnu/libcaca.so.0)\n",
      "ffplay: /home/dan/miniconda3/envs/cjl/lib/libncursesw.so.6: no version information available (required by /lib/x86_64-linux-gnu/libcaca.so.0)\n",
      "ffplay: /home/dan/miniconda3/envs/cjl/lib/libncursesw.so.6: no version information available (required by /lib/x86_64-linux-gnu/libcaca.so.0)\n",
      "Input #0, wav, from '/tmp/tmpt0kq7hgf.wav':   0KB sq=    0B f=0/0   \n",
      "  Duration: 00:00:02.00, bitrate: 1411 kb/s\n",
      "    Stream #0:0: Audio: pcm_s32le ([1][0][0][0] / 0x0001), 44100 Hz, 1 channels, s32, 1411 kb/s\n",
      "   1.95 M-A:  0.000 fd=   0 aq=    0KB vq=    0KB sq=    0B f=0/0   \r"
     ]
    },
    {
     "name": "stdout",
     "output_type": "stream",
     "text": [
      "\n",
      "Playing audio of k= 4\n"
     ]
    },
    {
     "name": "stderr",
     "output_type": "stream",
     "text": [
      "ffplay: /home/dan/miniconda3/envs/cjl/lib/libtinfo.so.6: no version information available (required by /lib/x86_64-linux-gnu/libcaca.so.0)\n",
      "ffplay: /home/dan/miniconda3/envs/cjl/lib/libncursesw.so.6: no version information available (required by /lib/x86_64-linux-gnu/libcaca.so.0)\n",
      "ffplay: /home/dan/miniconda3/envs/cjl/lib/libncursesw.so.6: no version information available (required by /lib/x86_64-linux-gnu/libcaca.so.0)\n",
      "Input #0, wav, from '/tmp/tmppjqr_kty.wav':   0KB sq=    0B f=0/0   \n",
      "  Duration: 00:00:02.00, bitrate: 1411 kb/s\n",
      "    Stream #0:0: Audio: pcm_s32le ([1][0][0][0] / 0x0001), 44100 Hz, 1 channels, s32, 1411 kb/s\n",
      "   1.95 M-A:  0.000 fd=   0 aq=    0KB vq=    0KB sq=    0B f=0/0   \r"
     ]
    },
    {
     "name": "stdout",
     "output_type": "stream",
     "text": [
      "\n",
      "Playing audio of k= 1\n"
     ]
    },
    {
     "name": "stderr",
     "output_type": "stream",
     "text": [
      "ffplay: /home/dan/miniconda3/envs/cjl/lib/libtinfo.so.6: no version information available (required by /lib/x86_64-linux-gnu/libcaca.so.0)\n",
      "ffplay: /home/dan/miniconda3/envs/cjl/lib/libncursesw.so.6: no version information available (required by /lib/x86_64-linux-gnu/libcaca.so.0)\n",
      "ffplay: /home/dan/miniconda3/envs/cjl/lib/libncursesw.so.6: no version information available (required by /lib/x86_64-linux-gnu/libcaca.so.0)\n",
      "Input #0, wav, from '/tmp/tmp9m862b0b.wav':   0KB sq=    0B f=0/0   \n",
      "  Duration: 00:00:02.00, bitrate: 1411 kb/s\n",
      "    Stream #0:0: Audio: pcm_s32le ([1][0][0][0] / 0x0001), 44100 Hz, 1 channels, s32, 1411 kb/s\n",
      "   1.96 M-A:  0.000 fd=   0 aq=    0KB vq=    0KB sq=    0B f=0/0   \r"
     ]
    },
    {
     "name": "stdout",
     "output_type": "stream",
     "text": [
      "\n"
     ]
    },
    {
     "name": "stderr",
     "output_type": "stream",
     "text": [
      "Exception ignored in: <function Wave_write.__del__ at 0x7fb87446caf0>\n",
      "Traceback (most recent call last):\n",
      "  File \"/home/dan/miniconda3/envs/cjl/lib/python3.9/wave.py\", line 326, in __del__\n",
      "    self.close()\n",
      "  File \"/home/dan/miniconda3/envs/cjl/lib/python3.9/wave.py\", line 444, in close\n",
      "    self._ensure_header_written(0)\n",
      "  File \"/home/dan/miniconda3/envs/cjl/lib/python3.9/wave.py\", line 464, in _ensure_header_written\n",
      "    raise Error('sample width not specified')\n",
      "wave.Error: sample width not specified\n"
     ]
    },
    {
     "name": "stdout",
     "output_type": "stream",
     "text": [
      "Playing audio of k= 3\n",
      "ffmpeg is having trouble with this one\n",
      "Entering Cluster Airbrake\n"
     ]
    },
    {
     "name": "stderr",
     "output_type": "stream",
     "text": [
      "Exception ignored in: <function Wave_write.__del__ at 0x7fb87446caf0>\n",
      "Traceback (most recent call last):\n",
      "  File \"/home/dan/miniconda3/envs/cjl/lib/python3.9/wave.py\", line 326, in __del__\n",
      "    self.close()\n",
      "  File \"/home/dan/miniconda3/envs/cjl/lib/python3.9/wave.py\", line 444, in close\n",
      "    self._ensure_header_written(0)\n",
      "  File \"/home/dan/miniconda3/envs/cjl/lib/python3.9/wave.py\", line 464, in _ensure_header_written\n",
      "    raise Error('sample width not specified')\n",
      "wave.Error: sample width not specified\n"
     ]
    },
    {
     "name": "stdout",
     "output_type": "stream",
     "text": [
      "Playing audio of k= 5\n",
      "ffmpeg is having trouble with this one\n",
      "Playing audio of k= 1\n"
     ]
    },
    {
     "name": "stderr",
     "output_type": "stream",
     "text": [
      "ffplay: /home/dan/miniconda3/envs/cjl/lib/libtinfo.so.6: no version information available (required by /lib/x86_64-linux-gnu/libcaca.so.0)\n",
      "ffplay: /home/dan/miniconda3/envs/cjl/lib/libncursesw.so.6: no version information available (required by /lib/x86_64-linux-gnu/libcaca.so.0)\n",
      "ffplay: /home/dan/miniconda3/envs/cjl/lib/libncursesw.so.6: no version information available (required by /lib/x86_64-linux-gnu/libcaca.so.0)\n",
      "Input #0, wav, from '/tmp/tmpa9azrhw0.wav':   0KB sq=    0B f=0/0   \n",
      "  Duration: 00:00:02.00, bitrate: 1411 kb/s\n",
      "    Stream #0:0: Audio: pcm_s32le ([1][0][0][0] / 0x0001), 44100 Hz, 1 channels, s32, 1411 kb/s\n",
      "   1.96 M-A:  0.000 fd=   0 aq=    0KB vq=    0KB sq=    0B f=0/0   \r"
     ]
    },
    {
     "name": "stdout",
     "output_type": "stream",
     "text": [
      "\n",
      "Playing audio of k= 3\n"
     ]
    },
    {
     "name": "stderr",
     "output_type": "stream",
     "text": [
      "ffplay: /home/dan/miniconda3/envs/cjl/lib/libtinfo.so.6: no version information available (required by /lib/x86_64-linux-gnu/libcaca.so.0)\n",
      "ffplay: /home/dan/miniconda3/envs/cjl/lib/libncursesw.so.6: no version information available (required by /lib/x86_64-linux-gnu/libcaca.so.0)\n",
      "ffplay: /home/dan/miniconda3/envs/cjl/lib/libncursesw.so.6: no version information available (required by /lib/x86_64-linux-gnu/libcaca.so.0)\n",
      "Input #0, wav, from '/tmp/tmpk39y9e1k.wav':   0KB sq=    0B f=0/0   \n",
      "  Duration: 00:00:02.00, bitrate: 1411 kb/s\n",
      "    Stream #0:0: Audio: pcm_s32le ([1][0][0][0] / 0x0001), 44100 Hz, 1 channels, s32, 1411 kb/s\n",
      "   1.95 M-A:  0.000 fd=   0 aq=    0KB vq=    0KB sq=    0B f=0/0   \r"
     ]
    },
    {
     "name": "stdout",
     "output_type": "stream",
     "text": [
      "\n",
      "Playing audio of k= 7\n"
     ]
    },
    {
     "name": "stderr",
     "output_type": "stream",
     "text": [
      "ffplay: /home/dan/miniconda3/envs/cjl/lib/libtinfo.so.6: no version information available (required by /lib/x86_64-linux-gnu/libcaca.so.0)\n",
      "ffplay: /home/dan/miniconda3/envs/cjl/lib/libncursesw.so.6: no version information available (required by /lib/x86_64-linux-gnu/libcaca.so.0)\n",
      "ffplay: /home/dan/miniconda3/envs/cjl/lib/libncursesw.so.6: no version information available (required by /lib/x86_64-linux-gnu/libcaca.so.0)\n",
      "Input #0, wav, from '/tmp/tmpj_vmuxzw.wav':   0KB sq=    0B f=0/0   \n",
      "  Duration: 00:00:02.00, bitrate: 1411 kb/s\n",
      "    Stream #0:0: Audio: pcm_s32le ([1][0][0][0] / 0x0001), 44100 Hz, 1 channels, s32, 1411 kb/s\n",
      "   1.95 M-A:  0.000 fd=   0 aq=    0KB vq=    0KB sq=    0B f=0/0   \r"
     ]
    },
    {
     "name": "stdout",
     "output_type": "stream",
     "text": [
      "\n"
     ]
    },
    {
     "name": "stderr",
     "output_type": "stream",
     "text": [
      "Exception ignored in: <function Wave_write.__del__ at 0x7fb87446caf0>\n",
      "Traceback (most recent call last):\n",
      "  File \"/home/dan/miniconda3/envs/cjl/lib/python3.9/wave.py\", line 326, in __del__\n",
      "    self.close()\n",
      "  File \"/home/dan/miniconda3/envs/cjl/lib/python3.9/wave.py\", line 444, in close\n",
      "    self._ensure_header_written(0)\n",
      "  File \"/home/dan/miniconda3/envs/cjl/lib/python3.9/wave.py\", line 464, in _ensure_header_written\n",
      "    raise Error('sample width not specified')\n",
      "wave.Error: sample width not specified\n"
     ]
    },
    {
     "name": "stdout",
     "output_type": "stream",
     "text": [
      "Playing audio of k= 9\n",
      "ffmpeg is having trouble with this one\n",
      "Playing audio of k= 8\n"
     ]
    },
    {
     "name": "stderr",
     "output_type": "stream",
     "text": [
      "ffplay: /home/dan/miniconda3/envs/cjl/lib/libtinfo.so.6: no version information available (required by /lib/x86_64-linux-gnu/libcaca.so.0)\n",
      "ffplay: /home/dan/miniconda3/envs/cjl/lib/libncursesw.so.6: no version information available (required by /lib/x86_64-linux-gnu/libcaca.so.0)\n",
      "ffplay: /home/dan/miniconda3/envs/cjl/lib/libncursesw.so.6: no version information available (required by /lib/x86_64-linux-gnu/libcaca.so.0)\n",
      "Input #0, wav, from '/tmp/tmpxbw6nppn.wav':   0KB sq=    0B f=0/0   \n",
      "  Duration: 00:00:02.00, bitrate: 1411 kb/s\n",
      "    Stream #0:0: Audio: pcm_s32le ([1][0][0][0] / 0x0001), 44100 Hz, 1 channels, s32, 1411 kb/s\n",
      "   1.93 M-A:  0.000 fd=   0 aq=    0KB vq=    0KB sq=    0B f=0/0   \r"
     ]
    },
    {
     "name": "stdout",
     "output_type": "stream",
     "text": [
      "\n",
      "Playing audio of k= 4\n"
     ]
    },
    {
     "name": "stderr",
     "output_type": "stream",
     "text": [
      "ffplay: /home/dan/miniconda3/envs/cjl/lib/libtinfo.so.6: no version information available (required by /lib/x86_64-linux-gnu/libcaca.so.0)\n",
      "ffplay: /home/dan/miniconda3/envs/cjl/lib/libncursesw.so.6: no version information available (required by /lib/x86_64-linux-gnu/libcaca.so.0)\n",
      "ffplay: /home/dan/miniconda3/envs/cjl/lib/libncursesw.so.6: no version information available (required by /lib/x86_64-linux-gnu/libcaca.so.0)\n",
      "Input #0, wav, from '/tmp/tmp68awzg6s.wav':   0KB sq=    0B f=0/0   \n",
      "  Duration: 00:00:02.00, bitrate: 1411 kb/s\n",
      "    Stream #0:0: Audio: pcm_s32le ([1][0][0][0] / 0x0001), 44100 Hz, 1 channels, s32, 1411 kb/s\n",
      "   1.95 M-A:  0.000 fd=   0 aq=    0KB vq=    0KB sq=    0B f=0/0   \r"
     ]
    },
    {
     "name": "stdout",
     "output_type": "stream",
     "text": [
      "\n"
     ]
    },
    {
     "name": "stderr",
     "output_type": "stream",
     "text": [
      "Exception ignored in: <function Wave_write.__del__ at 0x7fb87446caf0>\n",
      "Traceback (most recent call last):\n",
      "  File \"/home/dan/miniconda3/envs/cjl/lib/python3.9/wave.py\", line 326, in __del__\n",
      "    self.close()\n",
      "  File \"/home/dan/miniconda3/envs/cjl/lib/python3.9/wave.py\", line 444, in close\n",
      "    self._ensure_header_written(0)\n",
      "  File \"/home/dan/miniconda3/envs/cjl/lib/python3.9/wave.py\", line 464, in _ensure_header_written\n",
      "    raise Error('sample width not specified')\n",
      "wave.Error: sample width not specified\n"
     ]
    },
    {
     "name": "stdout",
     "output_type": "stream",
     "text": [
      "Playing audio of k= 0\n",
      "ffmpeg is having trouble with this one\n",
      "Playing audio of k= 1\n"
     ]
    },
    {
     "name": "stderr",
     "output_type": "stream",
     "text": [
      "ffplay: /home/dan/miniconda3/envs/cjl/lib/libtinfo.so.6: no version information available (required by /lib/x86_64-linux-gnu/libcaca.so.0)\n",
      "ffplay: /home/dan/miniconda3/envs/cjl/lib/libncursesw.so.6: no version information available (required by /lib/x86_64-linux-gnu/libcaca.so.0)\n",
      "ffplay: /home/dan/miniconda3/envs/cjl/lib/libncursesw.so.6: no version information available (required by /lib/x86_64-linux-gnu/libcaca.so.0)\n",
      "Input #0, wav, from '/tmp/tmpx7psjhdt.wav':   0KB sq=    0B f=0/0   \n",
      "  Duration: 00:00:02.00, bitrate: 1411 kb/s\n",
      "    Stream #0:0: Audio: pcm_s32le ([1][0][0][0] / 0x0001), 44100 Hz, 1 channels, s32, 1411 kb/s\n",
      "   1.95 M-A:  0.000 fd=   0 aq=    0KB vq=    0KB sq=    0B f=0/0   \r"
     ]
    },
    {
     "name": "stdout",
     "output_type": "stream",
     "text": [
      "\n",
      "Playing audio of k= 4\n"
     ]
    },
    {
     "name": "stderr",
     "output_type": "stream",
     "text": [
      "ffplay: /home/dan/miniconda3/envs/cjl/lib/libtinfo.so.6: no version information available (required by /lib/x86_64-linux-gnu/libcaca.so.0)\n",
      "ffplay: /home/dan/miniconda3/envs/cjl/lib/libncursesw.so.6: no version information available (required by /lib/x86_64-linux-gnu/libcaca.so.0)\n",
      "ffplay: /home/dan/miniconda3/envs/cjl/lib/libncursesw.so.6: no version information available (required by /lib/x86_64-linux-gnu/libcaca.so.0)\n",
      "Input #0, wav, from '/tmp/tmpxeq0yyzx.wav':   0KB sq=    0B f=0/0   \n",
      "  Duration: 00:00:02.00, bitrate: 1411 kb/s\n",
      "    Stream #0:0: Audio: pcm_s32le ([1][0][0][0] / 0x0001), 44100 Hz, 1 channels, s32, 1411 kb/s\n",
      "   1.95 M-A:  0.000 fd=   0 aq=    0KB vq=    0KB sq=    0B f=0/0   \r"
     ]
    },
    {
     "name": "stdout",
     "output_type": "stream",
     "text": [
      "\n",
      "Playing audio of k= 8\n"
     ]
    },
    {
     "name": "stderr",
     "output_type": "stream",
     "text": [
      "ffplay: /home/dan/miniconda3/envs/cjl/lib/libtinfo.so.6: no version information available (required by /lib/x86_64-linux-gnu/libcaca.so.0)\n",
      "ffplay: /home/dan/miniconda3/envs/cjl/lib/libncursesw.so.6: no version information available (required by /lib/x86_64-linux-gnu/libcaca.so.0)\n",
      "ffplay: /home/dan/miniconda3/envs/cjl/lib/libncursesw.so.6: no version information available (required by /lib/x86_64-linux-gnu/libcaca.so.0)\n",
      "Input #0, wav, from '/tmp/tmpnnf1mwr5.wav':   0KB sq=    0B f=0/0   \n",
      "  Duration: 00:00:02.00, bitrate: 1411 kb/s\n",
      "    Stream #0:0: Audio: pcm_s32le ([1][0][0][0] / 0x0001), 44100 Hz, 1 channels, s32, 1411 kb/s\n",
      "   1.95 M-A:  0.000 fd=   0 aq=    0KB vq=    0KB sq=    0B f=0/0   \r"
     ]
    },
    {
     "name": "stdout",
     "output_type": "stream",
     "text": [
      "\n"
     ]
    },
    {
     "name": "stderr",
     "output_type": "stream",
     "text": [
      "Exception ignored in: <function Wave_write.__del__ at 0x7fb87446caf0>\n",
      "Traceback (most recent call last):\n",
      "  File \"/home/dan/miniconda3/envs/cjl/lib/python3.9/wave.py\", line 326, in __del__\n",
      "    self.close()\n",
      "  File \"/home/dan/miniconda3/envs/cjl/lib/python3.9/wave.py\", line 444, in close\n",
      "    self._ensure_header_written(0)\n",
      "  File \"/home/dan/miniconda3/envs/cjl/lib/python3.9/wave.py\", line 464, in _ensure_header_written\n",
      "    raise Error('sample width not specified')\n",
      "wave.Error: sample width not specified\n"
     ]
    },
    {
     "name": "stdout",
     "output_type": "stream",
     "text": [
      "Playing audio of k= 9\n",
      "ffmpeg is having trouble with this one\n"
     ]
    },
    {
     "name": "stderr",
     "output_type": "stream",
     "text": [
      "Exception ignored in: <function Wave_write.__del__ at 0x7fb87446caf0>\n",
      "Traceback (most recent call last):\n",
      "  File \"/home/dan/miniconda3/envs/cjl/lib/python3.9/wave.py\", line 326, in __del__\n",
      "    self.close()\n",
      "  File \"/home/dan/miniconda3/envs/cjl/lib/python3.9/wave.py\", line 444, in close\n",
      "    self._ensure_header_written(0)\n",
      "  File \"/home/dan/miniconda3/envs/cjl/lib/python3.9/wave.py\", line 464, in _ensure_header_written\n",
      "    raise Error('sample width not specified')\n",
      "wave.Error: sample width not specified\n"
     ]
    },
    {
     "name": "stdout",
     "output_type": "stream",
     "text": [
      "Playing audio of k= 5\n",
      "ffmpeg is having trouble with this one\n"
     ]
    },
    {
     "name": "stderr",
     "output_type": "stream",
     "text": [
      "Exception ignored in: <function Wave_write.__del__ at 0x7fb87446caf0>\n",
      "Traceback (most recent call last):\n",
      "  File \"/home/dan/miniconda3/envs/cjl/lib/python3.9/wave.py\", line 326, in __del__\n",
      "    self.close()\n",
      "  File \"/home/dan/miniconda3/envs/cjl/lib/python3.9/wave.py\", line 444, in close\n",
      "    self._ensure_header_written(0)\n",
      "  File \"/home/dan/miniconda3/envs/cjl/lib/python3.9/wave.py\", line 464, in _ensure_header_written\n",
      "    raise Error('sample width not specified')\n",
      "wave.Error: sample width not specified\n"
     ]
    },
    {
     "name": "stdout",
     "output_type": "stream",
     "text": [
      "Playing audio of k= 2\n",
      "ffmpeg is having trouble with this one\n",
      "Playing audio of k= 3\n"
     ]
    },
    {
     "name": "stderr",
     "output_type": "stream",
     "text": [
      "ffplay: /home/dan/miniconda3/envs/cjl/lib/libtinfo.so.6: no version information available (required by /lib/x86_64-linux-gnu/libcaca.so.0)\n",
      "ffplay: /home/dan/miniconda3/envs/cjl/lib/libncursesw.so.6: no version information available (required by /lib/x86_64-linux-gnu/libcaca.so.0)\n",
      "ffplay: /home/dan/miniconda3/envs/cjl/lib/libncursesw.so.6: no version information available (required by /lib/x86_64-linux-gnu/libcaca.so.0)\n",
      "Input #0, wav, from '/tmp/tmp4jz9j3iz.wav':   0KB sq=    0B f=0/0   \n",
      "  Duration: 00:00:02.00, bitrate: 1411 kb/s\n",
      "    Stream #0:0: Audio: pcm_s32le ([1][0][0][0] / 0x0001), 44100 Hz, 1 channels, s32, 1411 kb/s\n",
      "   1.96 M-A:  0.000 fd=   0 aq=    0KB vq=    0KB sq=    0B f=0/0   \r"
     ]
    },
    {
     "name": "stdout",
     "output_type": "stream",
     "text": [
      "\n",
      "Playing audio of k= 6\n"
     ]
    },
    {
     "name": "stderr",
     "output_type": "stream",
     "text": [
      "ffplay: /home/dan/miniconda3/envs/cjl/lib/libtinfo.so.6: no version information available (required by /lib/x86_64-linux-gnu/libcaca.so.0)\n",
      "ffplay: /home/dan/miniconda3/envs/cjl/lib/libncursesw.so.6: no version information available (required by /lib/x86_64-linux-gnu/libcaca.so.0)\n",
      "ffplay: /home/dan/miniconda3/envs/cjl/lib/libncursesw.so.6: no version information available (required by /lib/x86_64-linux-gnu/libcaca.so.0)\n",
      "Input #0, wav, from '/tmp/tmppfbrdx8u.wav':   0KB sq=    0B f=0/0   \n",
      "  Duration: 00:00:02.00, bitrate: 1411 kb/s\n",
      "    Stream #0:0: Audio: pcm_s32le ([1][0][0][0] / 0x0001), 44100 Hz, 1 channels, s32, 1411 kb/s\n",
      "   1.95 M-A:  0.000 fd=   0 aq=    0KB vq=    0KB sq=    0B f=0/0   \r"
     ]
    },
    {
     "name": "stdout",
     "output_type": "stream",
     "text": [
      "\n",
      "Playing audio of k= 7\n"
     ]
    },
    {
     "name": "stderr",
     "output_type": "stream",
     "text": [
      "ffplay: /home/dan/miniconda3/envs/cjl/lib/libtinfo.so.6: no version information available (required by /lib/x86_64-linux-gnu/libcaca.so.0)\n",
      "ffplay: /home/dan/miniconda3/envs/cjl/lib/libncursesw.so.6: no version information available (required by /lib/x86_64-linux-gnu/libcaca.so.0)\n",
      "ffplay: /home/dan/miniconda3/envs/cjl/lib/libncursesw.so.6: no version information available (required by /lib/x86_64-linux-gnu/libcaca.so.0)\n",
      "Input #0, wav, from '/tmp/tmpzn3hccyf.wav':   0KB sq=    0B f=0/0   \n",
      "  Duration: 00:00:02.00, bitrate: 1411 kb/s\n",
      "    Stream #0:0: Audio: pcm_s32le ([1][0][0][0] / 0x0001), 44100 Hz, 1 channels, s32, 1411 kb/s\n",
      "   1.96 M-A:  0.000 fd=   0 aq=    0KB vq=    0KB sq=    0B f=0/0   \r"
     ]
    },
    {
     "name": "stdout",
     "output_type": "stream",
     "text": [
      "\n",
      "Entering Cluster Vehiclehorn_carhorn_honking\n",
      "Playing audio of k= 0\n"
     ]
    },
    {
     "name": "stderr",
     "output_type": "stream",
     "text": [
      "ffplay: /home/dan/miniconda3/envs/cjl/lib/libtinfo.so.6: no version information available (required by /lib/x86_64-linux-gnu/libcaca.so.0)\n",
      "ffplay: /home/dan/miniconda3/envs/cjl/lib/libncursesw.so.6: no version information available (required by /lib/x86_64-linux-gnu/libcaca.so.0)\n",
      "ffplay: /home/dan/miniconda3/envs/cjl/lib/libncursesw.so.6: no version information available (required by /lib/x86_64-linux-gnu/libcaca.so.0)\n",
      "Input #0, wav, from '/tmp/tmpa94g5auy.wav':   0KB sq=    0B f=0/0   \n",
      "  Duration: 00:00:02.00, bitrate: 1411 kb/s\n",
      "    Stream #0:0: Audio: pcm_s32le ([1][0][0][0] / 0x0001), 44100 Hz, 1 channels, s32, 1411 kb/s\n",
      "   1.95 M-A: -0.000 fd=   0 aq=    0KB vq=    0KB sq=    0B f=0/0   \r"
     ]
    },
    {
     "name": "stdout",
     "output_type": "stream",
     "text": [
      "\n",
      "Playing audio of k= 1\n"
     ]
    },
    {
     "name": "stderr",
     "output_type": "stream",
     "text": [
      "ffplay: /home/dan/miniconda3/envs/cjl/lib/libtinfo.so.6: no version information available (required by /lib/x86_64-linux-gnu/libcaca.so.0)\n",
      "ffplay: /home/dan/miniconda3/envs/cjl/lib/libncursesw.so.6: no version information available (required by /lib/x86_64-linux-gnu/libcaca.so.0)\n",
      "ffplay: /home/dan/miniconda3/envs/cjl/lib/libncursesw.so.6: no version information available (required by /lib/x86_64-linux-gnu/libcaca.so.0)\n",
      "Input #0, wav, from '/tmp/tmpwm9kw9bf.wav':   0KB sq=    0B f=0/0   \n",
      "  Duration: 00:00:02.00, bitrate: 1411 kb/s\n",
      "    Stream #0:0: Audio: pcm_s32le ([1][0][0][0] / 0x0001), 44100 Hz, 1 channels, s32, 1411 kb/s\n",
      "   1.95 M-A: -0.000 fd=   0 aq=    0KB vq=    0KB sq=    0B f=0/0   \r"
     ]
    },
    {
     "name": "stdout",
     "output_type": "stream",
     "text": [
      "\n",
      "Playing audio of k= 5\n"
     ]
    },
    {
     "name": "stderr",
     "output_type": "stream",
     "text": [
      "ffplay: /home/dan/miniconda3/envs/cjl/lib/libtinfo.so.6: no version information available (required by /lib/x86_64-linux-gnu/libcaca.so.0)\n",
      "ffplay: /home/dan/miniconda3/envs/cjl/lib/libncursesw.so.6: no version information available (required by /lib/x86_64-linux-gnu/libcaca.so.0)\n",
      "ffplay: /home/dan/miniconda3/envs/cjl/lib/libncursesw.so.6: no version information available (required by /lib/x86_64-linux-gnu/libcaca.so.0)\n",
      "Input #0, wav, from '/tmp/tmpr1kgmsyp.wav':   0KB sq=    0B f=0/0   \n",
      "  Duration: 00:00:02.00, bitrate: 1411 kb/s\n",
      "    Stream #0:0: Audio: pcm_s32le ([1][0][0][0] / 0x0001), 44100 Hz, 1 channels, s32, 1411 kb/s\n",
      "   1.96 M-A:  0.000 fd=   0 aq=    0KB vq=    0KB sq=    0B f=0/0   \r"
     ]
    },
    {
     "name": "stdout",
     "output_type": "stream",
     "text": [
      "\n",
      "Playing audio of k= 9\n"
     ]
    },
    {
     "name": "stderr",
     "output_type": "stream",
     "text": [
      "ffplay: /home/dan/miniconda3/envs/cjl/lib/libtinfo.so.6: no version information available (required by /lib/x86_64-linux-gnu/libcaca.so.0)\n",
      "ffplay: /home/dan/miniconda3/envs/cjl/lib/libncursesw.so.6: no version information available (required by /lib/x86_64-linux-gnu/libcaca.so.0)\n",
      "ffplay: /home/dan/miniconda3/envs/cjl/lib/libncursesw.so.6: no version information available (required by /lib/x86_64-linux-gnu/libcaca.so.0)\n",
      "Input #0, wav, from '/tmp/tmp9blwyvdr.wav':   0KB sq=    0B f=0/0   \n",
      "  Duration: 00:00:02.00, bitrate: 1411 kb/s\n",
      "    Stream #0:0: Audio: pcm_s32le ([1][0][0][0] / 0x0001), 44100 Hz, 1 channels, s32, 1411 kb/s\n",
      "   1.95 M-A:  0.000 fd=   0 aq=    0KB vq=    0KB sq=    0B f=0/0   \r"
     ]
    },
    {
     "name": "stdout",
     "output_type": "stream",
     "text": [
      "\n"
     ]
    },
    {
     "name": "stderr",
     "output_type": "stream",
     "text": [
      "Exception ignored in: <function Wave_write.__del__ at 0x7fb87446caf0>\n",
      "Traceback (most recent call last):\n",
      "  File \"/home/dan/miniconda3/envs/cjl/lib/python3.9/wave.py\", line 326, in __del__\n",
      "    self.close()\n",
      "  File \"/home/dan/miniconda3/envs/cjl/lib/python3.9/wave.py\", line 444, in close\n",
      "    self._ensure_header_written(0)\n",
      "  File \"/home/dan/miniconda3/envs/cjl/lib/python3.9/wave.py\", line 464, in _ensure_header_written\n",
      "    raise Error('sample width not specified')\n",
      "wave.Error: sample width not specified\n"
     ]
    },
    {
     "name": "stdout",
     "output_type": "stream",
     "text": [
      "Playing audio of k= 8\n",
      "ffmpeg is having trouble with this one\n"
     ]
    },
    {
     "name": "stderr",
     "output_type": "stream",
     "text": [
      "Exception ignored in: <function Wave_write.__del__ at 0x7fb87446caf0>\n",
      "Traceback (most recent call last):\n",
      "  File \"/home/dan/miniconda3/envs/cjl/lib/python3.9/wave.py\", line 326, in __del__\n",
      "    self.close()\n",
      "  File \"/home/dan/miniconda3/envs/cjl/lib/python3.9/wave.py\", line 444, in close\n",
      "    self._ensure_header_written(0)\n",
      "  File \"/home/dan/miniconda3/envs/cjl/lib/python3.9/wave.py\", line 464, in _ensure_header_written\n",
      "    raise Error('sample width not specified')\n",
      "wave.Error: sample width not specified\n"
     ]
    },
    {
     "name": "stdout",
     "output_type": "stream",
     "text": [
      "Playing audio of k= 3\n",
      "ffmpeg is having trouble with this one\n",
      "Playing audio of k= 2\n"
     ]
    },
    {
     "name": "stderr",
     "output_type": "stream",
     "text": [
      "ffplay: /home/dan/miniconda3/envs/cjl/lib/libtinfo.so.6: no version information available (required by /lib/x86_64-linux-gnu/libcaca.so.0)\n",
      "ffplay: /home/dan/miniconda3/envs/cjl/lib/libncursesw.so.6: no version information available (required by /lib/x86_64-linux-gnu/libcaca.so.0)\n",
      "ffplay: /home/dan/miniconda3/envs/cjl/lib/libncursesw.so.6: no version information available (required by /lib/x86_64-linux-gnu/libcaca.so.0)\n",
      "Input #0, wav, from '/tmp/tmp2vtwcap0.wav':   0KB sq=    0B f=0/0   \n",
      "  Duration: 00:00:02.00, bitrate: 1411 kb/s\n",
      "    Stream #0:0: Audio: pcm_s32le ([1][0][0][0] / 0x0001), 44100 Hz, 1 channels, s32, 1411 kb/s\n",
      "   1.94 M-A:  0.000 fd=   0 aq=    0KB vq=    0KB sq=    0B f=0/0   \r"
     ]
    },
    {
     "name": "stdout",
     "output_type": "stream",
     "text": [
      "\n",
      "Playing audio of k= 2\n"
     ]
    },
    {
     "name": "stderr",
     "output_type": "stream",
     "text": [
      "ffplay: /home/dan/miniconda3/envs/cjl/lib/libtinfo.so.6: no version information available (required by /lib/x86_64-linux-gnu/libcaca.so.0)\n",
      "ffplay: /home/dan/miniconda3/envs/cjl/lib/libncursesw.so.6: no version information available (required by /lib/x86_64-linux-gnu/libcaca.so.0)\n",
      "ffplay: /home/dan/miniconda3/envs/cjl/lib/libncursesw.so.6: no version information available (required by /lib/x86_64-linux-gnu/libcaca.so.0)\n",
      "Input #0, wav, from '/tmp/tmp4lqs725o.wav':   0KB sq=    0B f=0/0   \n",
      "  Duration: 00:00:02.00, bitrate: 1411 kb/s\n",
      "    Stream #0:0: Audio: pcm_s32le ([1][0][0][0] / 0x0001), 44100 Hz, 1 channels, s32, 1411 kb/s\n",
      "   1.96 M-A:  0.000 fd=   0 aq=    0KB vq=    0KB sq=    0B f=0/0   \r"
     ]
    },
    {
     "name": "stdout",
     "output_type": "stream",
     "text": [
      "\n",
      "Playing audio of k= 2\n"
     ]
    },
    {
     "name": "stderr",
     "output_type": "stream",
     "text": [
      "ffplay: /home/dan/miniconda3/envs/cjl/lib/libtinfo.so.6: no version information available (required by /lib/x86_64-linux-gnu/libcaca.so.0)\n",
      "ffplay: /home/dan/miniconda3/envs/cjl/lib/libncursesw.so.6: no version information available (required by /lib/x86_64-linux-gnu/libcaca.so.0)\n",
      "ffplay: /home/dan/miniconda3/envs/cjl/lib/libncursesw.so.6: no version information available (required by /lib/x86_64-linux-gnu/libcaca.so.0)\n",
      "Input #0, wav, from '/tmp/tmpabydm3v3.wav':   0KB sq=    0B f=0/0   \n",
      "  Duration: 00:00:02.00, bitrate: 1411 kb/s\n",
      "    Stream #0:0: Audio: pcm_s32le ([1][0][0][0] / 0x0001), 44100 Hz, 1 channels, s32, 1411 kb/s\n",
      "   1.95 M-A:  0.000 fd=   0 aq=    0KB vq=    0KB sq=    0B f=0/0   \r"
     ]
    },
    {
     "name": "stdout",
     "output_type": "stream",
     "text": [
      "\n",
      "Playing audio of k= 2\n"
     ]
    },
    {
     "name": "stderr",
     "output_type": "stream",
     "text": [
      "ffplay: /home/dan/miniconda3/envs/cjl/lib/libtinfo.so.6: no version information available (required by /lib/x86_64-linux-gnu/libcaca.so.0)\n",
      "ffplay: /home/dan/miniconda3/envs/cjl/lib/libncursesw.so.6: no version information available (required by /lib/x86_64-linux-gnu/libcaca.so.0)\n",
      "ffplay: /home/dan/miniconda3/envs/cjl/lib/libncursesw.so.6: no version information available (required by /lib/x86_64-linux-gnu/libcaca.so.0)\n",
      "Input #0, wav, from '/tmp/tmp_s0ahsh1.wav':   0KB sq=    0B f=0/0   \n",
      "  Duration: 00:00:02.00, bitrate: 1411 kb/s\n",
      "    Stream #0:0: Audio: pcm_s32le ([1][0][0][0] / 0x0001), 44100 Hz, 1 channels, s32, 1411 kb/s\n",
      "   1.95 M-A:  0.000 fd=   0 aq=    0KB vq=    0KB sq=    0B f=0/0   \r"
     ]
    },
    {
     "name": "stdout",
     "output_type": "stream",
     "text": [
      "\n",
      "Playing audio of k= 1\n"
     ]
    },
    {
     "name": "stderr",
     "output_type": "stream",
     "text": [
      "ffplay: /home/dan/miniconda3/envs/cjl/lib/libtinfo.so.6: no version information available (required by /lib/x86_64-linux-gnu/libcaca.so.0)\n",
      "ffplay: /home/dan/miniconda3/envs/cjl/lib/libncursesw.so.6: no version information available (required by /lib/x86_64-linux-gnu/libcaca.so.0)\n",
      "ffplay: /home/dan/miniconda3/envs/cjl/lib/libncursesw.so.6: no version information available (required by /lib/x86_64-linux-gnu/libcaca.so.0)\n",
      "Input #0, wav, from '/tmp/tmp8pxgkv43.wav':   0KB sq=    0B f=0/0   \n",
      "  Duration: 00:00:02.00, bitrate: 1411 kb/s\n",
      "    Stream #0:0: Audio: pcm_s32le ([1][0][0][0] / 0x0001), 44100 Hz, 1 channels, s32, 1411 kb/s\n",
      "   1.95 M-A:  0.000 fd=   0 aq=    0KB vq=    0KB sq=    0B f=0/0   \r"
     ]
    },
    {
     "name": "stdout",
     "output_type": "stream",
     "text": [
      "\n",
      "Playing audio of k= 0\n"
     ]
    },
    {
     "name": "stderr",
     "output_type": "stream",
     "text": [
      "ffplay: /home/dan/miniconda3/envs/cjl/lib/libtinfo.so.6: no version information available (required by /lib/x86_64-linux-gnu/libcaca.so.0)\n",
      "ffplay: /home/dan/miniconda3/envs/cjl/lib/libncursesw.so.6: no version information available (required by /lib/x86_64-linux-gnu/libcaca.so.0)\n",
      "ffplay: /home/dan/miniconda3/envs/cjl/lib/libncursesw.so.6: no version information available (required by /lib/x86_64-linux-gnu/libcaca.so.0)\n",
      "Input #0, wav, from '/tmp/tmpr5bp4ssi.wav':   0KB sq=    0B f=0/0   \n",
      "  Duration: 00:00:02.00, bitrate: 1411 kb/s\n",
      "    Stream #0:0: Audio: pcm_s32le ([1][0][0][0] / 0x0001), 44100 Hz, 1 channels, s32, 1411 kb/s\n",
      "   1.94 M-A:  0.000 fd=   0 aq=    0KB vq=    0KB sq=    0B f=0/0   \r"
     ]
    },
    {
     "name": "stdout",
     "output_type": "stream",
     "text": [
      "\n",
      "Playing audio of k= 5\n"
     ]
    },
    {
     "name": "stderr",
     "output_type": "stream",
     "text": [
      "ffplay: /home/dan/miniconda3/envs/cjl/lib/libtinfo.so.6: no version information available (required by /lib/x86_64-linux-gnu/libcaca.so.0)\n",
      "ffplay: /home/dan/miniconda3/envs/cjl/lib/libncursesw.so.6: no version information available (required by /lib/x86_64-linux-gnu/libcaca.so.0)\n",
      "ffplay: /home/dan/miniconda3/envs/cjl/lib/libncursesw.so.6: no version information available (required by /lib/x86_64-linux-gnu/libcaca.so.0)\n",
      "Input #0, wav, from '/tmp/tmpi4s5queb.wav':   0KB sq=    0B f=0/0   \n",
      "  Duration: 00:00:02.00, bitrate: 1411 kb/s\n",
      "    Stream #0:0: Audio: pcm_s32le ([1][0][0][0] / 0x0001), 44100 Hz, 1 channels, s32, 1411 kb/s\n",
      "   1.93 M-A:  0.000 fd=   0 aq=    0KB vq=    0KB sq=    0B f=0/0   \r"
     ]
    },
    {
     "name": "stdout",
     "output_type": "stream",
     "text": [
      "\n",
      "Entering Cluster Tiresqueal\n",
      "Playing audio of k= 5\n"
     ]
    },
    {
     "name": "stderr",
     "output_type": "stream",
     "text": [
      "ffplay: /home/dan/miniconda3/envs/cjl/lib/libtinfo.so.6: no version information available (required by /lib/x86_64-linux-gnu/libcaca.so.0)\n",
      "ffplay: /home/dan/miniconda3/envs/cjl/lib/libncursesw.so.6: no version information available (required by /lib/x86_64-linux-gnu/libcaca.so.0)\n",
      "ffplay: /home/dan/miniconda3/envs/cjl/lib/libncursesw.so.6: no version information available (required by /lib/x86_64-linux-gnu/libcaca.so.0)\n",
      "Input #0, wav, from '/tmp/tmpkgd70669.wav':   0KB sq=    0B f=0/0   \n",
      "  Duration: 00:00:02.00, bitrate: 1411 kb/s\n",
      "    Stream #0:0: Audio: pcm_s32le ([1][0][0][0] / 0x0001), 44100 Hz, 1 channels, s32, 1411 kb/s\n",
      "   1.95 M-A:  0.000 fd=   0 aq=    0KB vq=    0KB sq=    0B f=0/0   \r"
     ]
    },
    {
     "name": "stdout",
     "output_type": "stream",
     "text": [
      "\n",
      "Playing audio of k= 1\n"
     ]
    },
    {
     "name": "stderr",
     "output_type": "stream",
     "text": [
      "ffplay: /home/dan/miniconda3/envs/cjl/lib/libtinfo.so.6: no version information available (required by /lib/x86_64-linux-gnu/libcaca.so.0)\n",
      "ffplay: /home/dan/miniconda3/envs/cjl/lib/libncursesw.so.6: no version information available (required by /lib/x86_64-linux-gnu/libcaca.so.0)\n",
      "ffplay: /home/dan/miniconda3/envs/cjl/lib/libncursesw.so.6: no version information available (required by /lib/x86_64-linux-gnu/libcaca.so.0)\n",
      "Input #0, wav, from '/tmp/tmpk68qpl7r.wav':   0KB sq=    0B f=0/0   \n",
      "  Duration: 00:00:02.00, bitrate: 1411 kb/s\n",
      "    Stream #0:0: Audio: pcm_s32le ([1][0][0][0] / 0x0001), 44100 Hz, 1 channels, s32, 1411 kb/s\n",
      "   1.96 M-A:  0.000 fd=   0 aq=    0KB vq=    0KB sq=    0B f=0/0   \r"
     ]
    },
    {
     "name": "stdout",
     "output_type": "stream",
     "text": [
      "\n",
      "Playing audio of k= 2\n"
     ]
    },
    {
     "name": "stderr",
     "output_type": "stream",
     "text": [
      "ffplay: /home/dan/miniconda3/envs/cjl/lib/libtinfo.so.6: no version information available (required by /lib/x86_64-linux-gnu/libcaca.so.0)\n",
      "ffplay: /home/dan/miniconda3/envs/cjl/lib/libncursesw.so.6: no version information available (required by /lib/x86_64-linux-gnu/libcaca.so.0)\n",
      "ffplay: /home/dan/miniconda3/envs/cjl/lib/libncursesw.so.6: no version information available (required by /lib/x86_64-linux-gnu/libcaca.so.0)\n",
      "Input #0, wav, from '/tmp/tmp2c47kce3.wav':   0KB sq=    0B f=0/0   \n",
      "  Duration: 00:00:02.00, bitrate: 1411 kb/s\n",
      "    Stream #0:0: Audio: pcm_s32le ([1][0][0][0] / 0x0001), 44100 Hz, 1 channels, s32, 1411 kb/s\n",
      "   1.96 M-A:  0.000 fd=   0 aq=    0KB vq=    0KB sq=    0B f=0/0   \r"
     ]
    },
    {
     "name": "stdout",
     "output_type": "stream",
     "text": [
      "\n",
      "Playing audio of k= 3\n"
     ]
    },
    {
     "name": "stderr",
     "output_type": "stream",
     "text": [
      "ffplay: /home/dan/miniconda3/envs/cjl/lib/libtinfo.so.6: no version information available (required by /lib/x86_64-linux-gnu/libcaca.so.0)\n",
      "ffplay: /home/dan/miniconda3/envs/cjl/lib/libncursesw.so.6: no version information available (required by /lib/x86_64-linux-gnu/libcaca.so.0)\n",
      "ffplay: /home/dan/miniconda3/envs/cjl/lib/libncursesw.so.6: no version information available (required by /lib/x86_64-linux-gnu/libcaca.so.0)\n",
      "Input #0, wav, from '/tmp/tmp63mvsxf2.wav':   0KB sq=    0B f=0/0   \n",
      "  Duration: 00:00:02.00, bitrate: 1411 kb/s\n",
      "    Stream #0:0: Audio: pcm_s32le ([1][0][0][0] / 0x0001), 44100 Hz, 1 channels, s32, 1411 kb/s\n",
      "   1.96 M-A:  0.000 fd=   0 aq=    0KB vq=    0KB sq=    0B f=0/0   \r"
     ]
    },
    {
     "name": "stdout",
     "output_type": "stream",
     "text": [
      "\n",
      "Playing audio of k= 6\n"
     ]
    },
    {
     "name": "stderr",
     "output_type": "stream",
     "text": [
      "ffplay: /home/dan/miniconda3/envs/cjl/lib/libtinfo.so.6: no version information available (required by /lib/x86_64-linux-gnu/libcaca.so.0)\n",
      "ffplay: /home/dan/miniconda3/envs/cjl/lib/libncursesw.so.6: no version information available (required by /lib/x86_64-linux-gnu/libcaca.so.0)\n",
      "ffplay: /home/dan/miniconda3/envs/cjl/lib/libncursesw.so.6: no version information available (required by /lib/x86_64-linux-gnu/libcaca.so.0)\n",
      "Input #0, wav, from '/tmp/tmpyq6aqxjq.wav':   0KB sq=    0B f=0/0   \n",
      "  Duration: 00:00:02.00, bitrate: 1411 kb/s\n",
      "    Stream #0:0: Audio: pcm_s32le ([1][0][0][0] / 0x0001), 44100 Hz, 1 channels, s32, 1411 kb/s\n",
      "   1.95 M-A:  0.000 fd=   0 aq=    0KB vq=    0KB sq=    0B f=0/0   \r"
     ]
    },
    {
     "name": "stdout",
     "output_type": "stream",
     "text": [
      "\n",
      "Playing audio of k= 0\n"
     ]
    },
    {
     "name": "stderr",
     "output_type": "stream",
     "text": [
      "ffplay: /home/dan/miniconda3/envs/cjl/lib/libtinfo.so.6: no version information available (required by /lib/x86_64-linux-gnu/libcaca.so.0)\n",
      "ffplay: /home/dan/miniconda3/envs/cjl/lib/libncursesw.so.6: no version information available (required by /lib/x86_64-linux-gnu/libcaca.so.0)\n",
      "ffplay: /home/dan/miniconda3/envs/cjl/lib/libncursesw.so.6: no version information available (required by /lib/x86_64-linux-gnu/libcaca.so.0)\n",
      "Input #0, wav, from '/tmp/tmp_afptvn9.wav':   0KB sq=    0B f=0/0   \n",
      "  Duration: 00:00:02.00, bitrate: 1411 kb/s\n",
      "    Stream #0:0: Audio: pcm_s32le ([1][0][0][0] / 0x0001), 44100 Hz, 1 channels, s32, 1411 kb/s\n",
      "   1.95 M-A:  0.000 fd=   0 aq=    0KB vq=    0KB sq=    0B f=0/0   \r"
     ]
    },
    {
     "name": "stdout",
     "output_type": "stream",
     "text": [
      "\n",
      "Playing audio of k= 6\n"
     ]
    },
    {
     "name": "stderr",
     "output_type": "stream",
     "text": [
      "ffplay: /home/dan/miniconda3/envs/cjl/lib/libtinfo.so.6: no version information available (required by /lib/x86_64-linux-gnu/libcaca.so.0)\n",
      "ffplay: /home/dan/miniconda3/envs/cjl/lib/libncursesw.so.6: no version information available (required by /lib/x86_64-linux-gnu/libcaca.so.0)\n",
      "ffplay: /home/dan/miniconda3/envs/cjl/lib/libncursesw.so.6: no version information available (required by /lib/x86_64-linux-gnu/libcaca.so.0)\n",
      "Input #0, wav, from '/tmp/tmpyztvx9aj.wav':   0KB sq=    0B f=0/0   \n",
      "  Duration: 00:00:02.00, bitrate: 1411 kb/s\n",
      "    Stream #0:0: Audio: pcm_s32le ([1][0][0][0] / 0x0001), 44100 Hz, 1 channels, s32, 1411 kb/s\n",
      "   1.94 M-A:  0.000 fd=   0 aq=    0KB vq=    0KB sq=    0B f=0/0   \r"
     ]
    },
    {
     "name": "stdout",
     "output_type": "stream",
     "text": [
      "\n"
     ]
    },
    {
     "name": "stderr",
     "output_type": "stream",
     "text": [
      "Exception ignored in: <function Wave_write.__del__ at 0x7fb87446caf0>\n",
      "Traceback (most recent call last):\n",
      "  File \"/home/dan/miniconda3/envs/cjl/lib/python3.9/wave.py\", line 326, in __del__\n",
      "    self.close()\n",
      "  File \"/home/dan/miniconda3/envs/cjl/lib/python3.9/wave.py\", line 444, in close\n",
      "    self._ensure_header_written(0)\n",
      "  File \"/home/dan/miniconda3/envs/cjl/lib/python3.9/wave.py\", line 464, in _ensure_header_written\n",
      "    raise Error('sample width not specified')\n",
      "wave.Error: sample width not specified\n"
     ]
    },
    {
     "name": "stdout",
     "output_type": "stream",
     "text": [
      "Playing audio of k= 4\n",
      "ffmpeg is having trouble with this one\n",
      "Playing audio of k= 8\n"
     ]
    },
    {
     "name": "stderr",
     "output_type": "stream",
     "text": [
      "ffplay: /home/dan/miniconda3/envs/cjl/lib/libtinfo.so.6: no version information available (required by /lib/x86_64-linux-gnu/libcaca.so.0)\n",
      "ffplay: /home/dan/miniconda3/envs/cjl/lib/libncursesw.so.6: no version information available (required by /lib/x86_64-linux-gnu/libcaca.so.0)\n",
      "ffplay: /home/dan/miniconda3/envs/cjl/lib/libncursesw.so.6: no version information available (required by /lib/x86_64-linux-gnu/libcaca.so.0)\n",
      "Input #0, wav, from '/tmp/tmpg5z_a_5h.wav':   0KB sq=    0B f=0/0   \n",
      "  Duration: 00:00:02.00, bitrate: 1411 kb/s\n",
      "    Stream #0:0: Audio: pcm_s32le ([1][0][0][0] / 0x0001), 44100 Hz, 1 channels, s32, 1411 kb/s\n",
      "   1.95 M-A:  0.000 fd=   0 aq=    0KB vq=    0KB sq=    0B f=0/0   \r"
     ]
    },
    {
     "name": "stdout",
     "output_type": "stream",
     "text": [
      "\n",
      "Playing audio of k= 1\n"
     ]
    },
    {
     "name": "stderr",
     "output_type": "stream",
     "text": [
      "ffplay: /home/dan/miniconda3/envs/cjl/lib/libtinfo.so.6: no version information available (required by /lib/x86_64-linux-gnu/libcaca.so.0)\n",
      "ffplay: /home/dan/miniconda3/envs/cjl/lib/libncursesw.so.6: no version information available (required by /lib/x86_64-linux-gnu/libcaca.so.0)\n",
      "ffplay: /home/dan/miniconda3/envs/cjl/lib/libncursesw.so.6: no version information available (required by /lib/x86_64-linux-gnu/libcaca.so.0)\n",
      "Input #0, wav, from '/tmp/tmp2vwj1f1o.wav':   0KB sq=    0B f=0/0   \n",
      "  Duration: 00:00:02.00, bitrate: 1411 kb/s\n",
      "    Stream #0:0: Audio: pcm_s32le ([1][0][0][0] / 0x0001), 44100 Hz, 1 channels, s32, 1411 kb/s\n",
      "   1.96 M-A:  0.000 fd=   0 aq=    0KB vq=    0KB sq=    0B f=0/0   \r"
     ]
    },
    {
     "name": "stdout",
     "output_type": "stream",
     "text": [
      "\n",
      "Entering Cluster Motorboat_speedboat\n",
      "Playing audio of k= 4\n"
     ]
    },
    {
     "name": "stderr",
     "output_type": "stream",
     "text": [
      "ffplay: /home/dan/miniconda3/envs/cjl/lib/libtinfo.so.6: no version information available (required by /lib/x86_64-linux-gnu/libcaca.so.0)\n",
      "ffplay: /home/dan/miniconda3/envs/cjl/lib/libncursesw.so.6: no version information available (required by /lib/x86_64-linux-gnu/libcaca.so.0)\n",
      "ffplay: /home/dan/miniconda3/envs/cjl/lib/libncursesw.so.6: no version information available (required by /lib/x86_64-linux-gnu/libcaca.so.0)\n",
      "Input #0, wav, from '/tmp/tmpmfi1xgv7.wav':   0KB sq=    0B f=0/0   \n",
      "  Duration: 00:00:02.00, bitrate: 1411 kb/s\n",
      "    Stream #0:0: Audio: pcm_s32le ([1][0][0][0] / 0x0001), 44100 Hz, 1 channels, s32, 1411 kb/s\n",
      "   1.95 M-A:  0.000 fd=   0 aq=    0KB vq=    0KB sq=    0B f=0/0   \r"
     ]
    },
    {
     "name": "stdout",
     "output_type": "stream",
     "text": [
      "\n",
      "Playing audio of k= 1\n"
     ]
    },
    {
     "name": "stderr",
     "output_type": "stream",
     "text": [
      "ffplay: /home/dan/miniconda3/envs/cjl/lib/libtinfo.so.6: no version information available (required by /lib/x86_64-linux-gnu/libcaca.so.0)\n",
      "ffplay: /home/dan/miniconda3/envs/cjl/lib/libncursesw.so.6: no version information available (required by /lib/x86_64-linux-gnu/libcaca.so.0)\n",
      "ffplay: /home/dan/miniconda3/envs/cjl/lib/libncursesw.so.6: no version information available (required by /lib/x86_64-linux-gnu/libcaca.so.0)\n",
      "Input #0, wav, from '/tmp/tmpadeod2rr.wav':   0KB sq=    0B f=0/0   \n",
      "  Duration: 00:00:02.00, bitrate: 1411 kb/s\n",
      "    Stream #0:0: Audio: pcm_s32le ([1][0][0][0] / 0x0001), 44100 Hz, 1 channels, s32, 1411 kb/s\n",
      "   1.96 M-A:  0.000 fd=   0 aq=    0KB vq=    0KB sq=    0B f=0/0   \r"
     ]
    },
    {
     "name": "stdout",
     "output_type": "stream",
     "text": [
      "\n",
      "Playing audio of k= 2\n"
     ]
    },
    {
     "name": "stderr",
     "output_type": "stream",
     "text": [
      "ffplay: /home/dan/miniconda3/envs/cjl/lib/libtinfo.so.6: no version information available (required by /lib/x86_64-linux-gnu/libcaca.so.0)\n",
      "ffplay: /home/dan/miniconda3/envs/cjl/lib/libncursesw.so.6: no version information available (required by /lib/x86_64-linux-gnu/libcaca.so.0)\n",
      "ffplay: /home/dan/miniconda3/envs/cjl/lib/libncursesw.so.6: no version information available (required by /lib/x86_64-linux-gnu/libcaca.so.0)\n",
      "Input #0, wav, from '/tmp/tmpdikwuk65.wav':   0KB sq=    0B f=0/0   \n",
      "  Duration: 00:00:02.00, bitrate: 1411 kb/s\n",
      "    Stream #0:0: Audio: pcm_s32le ([1][0][0][0] / 0x0001), 44100 Hz, 1 channels, s32, 1411 kb/s\n",
      "   1.96 M-A:  0.000 fd=   0 aq=    0KB vq=    0KB sq=    0B f=0/0   \r"
     ]
    },
    {
     "name": "stdout",
     "output_type": "stream",
     "text": [
      "\n",
      "Playing audio of k= 3\n"
     ]
    },
    {
     "name": "stderr",
     "output_type": "stream",
     "text": [
      "ffplay: /home/dan/miniconda3/envs/cjl/lib/libtinfo.so.6: no version information available (required by /lib/x86_64-linux-gnu/libcaca.so.0)\n",
      "ffplay: /home/dan/miniconda3/envs/cjl/lib/libncursesw.so.6: no version information available (required by /lib/x86_64-linux-gnu/libcaca.so.0)\n",
      "ffplay: /home/dan/miniconda3/envs/cjl/lib/libncursesw.so.6: no version information available (required by /lib/x86_64-linux-gnu/libcaca.so.0)\n",
      "Input #0, wav, from '/tmp/tmp87ktrx0z.wav':   0KB sq=    0B f=0/0   \n",
      "  Duration: 00:00:02.00, bitrate: 1411 kb/s\n",
      "    Stream #0:0: Audio: pcm_s32le ([1][0][0][0] / 0x0001), 44100 Hz, 1 channels, s32, 1411 kb/s\n",
      "   1.96 M-A:  0.000 fd=   0 aq=    0KB vq=    0KB sq=    0B f=0/0   \r"
     ]
    },
    {
     "name": "stdout",
     "output_type": "stream",
     "text": [
      "\n",
      "Entering Cluster Airhorn_truckhorn\n",
      "Playing audio of k= 8\n"
     ]
    },
    {
     "name": "stderr",
     "output_type": "stream",
     "text": [
      "ffplay: /home/dan/miniconda3/envs/cjl/lib/libtinfo.so.6: no version information available (required by /lib/x86_64-linux-gnu/libcaca.so.0)\n",
      "ffplay: /home/dan/miniconda3/envs/cjl/lib/libncursesw.so.6: no version information available (required by /lib/x86_64-linux-gnu/libcaca.so.0)\n",
      "ffplay: /home/dan/miniconda3/envs/cjl/lib/libncursesw.so.6: no version information available (required by /lib/x86_64-linux-gnu/libcaca.so.0)\n",
      "Input #0, wav, from '/tmp/tmp9vlx3v2s.wav':   0KB sq=    0B f=0/0   \n",
      "  Duration: 00:00:02.00, bitrate: 1411 kb/s\n",
      "    Stream #0:0: Audio: pcm_s32le ([1][0][0][0] / 0x0001), 44100 Hz, 1 channels, s32, 1411 kb/s\n",
      "   1.95 M-A:  0.000 fd=   0 aq=    0KB vq=    0KB sq=    0B f=0/0   \r"
     ]
    },
    {
     "name": "stdout",
     "output_type": "stream",
     "text": [
      "\n"
     ]
    },
    {
     "name": "stderr",
     "output_type": "stream",
     "text": [
      "Exception ignored in: <function Wave_write.__del__ at 0x7fb87446caf0>\n",
      "Traceback (most recent call last):\n",
      "  File \"/home/dan/miniconda3/envs/cjl/lib/python3.9/wave.py\", line 326, in __del__\n",
      "    self.close()\n",
      "  File \"/home/dan/miniconda3/envs/cjl/lib/python3.9/wave.py\", line 444, in close\n",
      "    self._ensure_header_written(0)\n",
      "  File \"/home/dan/miniconda3/envs/cjl/lib/python3.9/wave.py\", line 464, in _ensure_header_written\n",
      "    raise Error('sample width not specified')\n",
      "wave.Error: sample width not specified\n"
     ]
    },
    {
     "name": "stdout",
     "output_type": "stream",
     "text": [
      "Playing audio of k= 5\n",
      "ffmpeg is having trouble with this one\n",
      "Playing audio of k= 1\n"
     ]
    },
    {
     "name": "stderr",
     "output_type": "stream",
     "text": [
      "ffplay: /home/dan/miniconda3/envs/cjl/lib/libtinfo.so.6: no version information available (required by /lib/x86_64-linux-gnu/libcaca.so.0)\n",
      "ffplay: /home/dan/miniconda3/envs/cjl/lib/libncursesw.so.6: no version information available (required by /lib/x86_64-linux-gnu/libcaca.so.0)\n",
      "ffplay: /home/dan/miniconda3/envs/cjl/lib/libncursesw.so.6: no version information available (required by /lib/x86_64-linux-gnu/libcaca.so.0)\n",
      "Input #0, wav, from '/tmp/tmp1eoz0tyb.wav':   0KB sq=    0B f=0/0   \n",
      "  Duration: 00:00:02.00, bitrate: 1411 kb/s\n",
      "    Stream #0:0: Audio: pcm_s32le ([1][0][0][0] / 0x0001), 44100 Hz, 1 channels, s32, 1411 kb/s\n",
      "   1.95 M-A:  0.000 fd=   0 aq=    0KB vq=    0KB sq=    0B f=0/0   \r"
     ]
    },
    {
     "name": "stdout",
     "output_type": "stream",
     "text": [
      "\n"
     ]
    },
    {
     "name": "stderr",
     "output_type": "stream",
     "text": [
      "Exception ignored in: <function Wave_write.__del__ at 0x7fb87446caf0>\n",
      "Traceback (most recent call last):\n",
      "  File \"/home/dan/miniconda3/envs/cjl/lib/python3.9/wave.py\", line 326, in __del__\n",
      "    self.close()\n",
      "  File \"/home/dan/miniconda3/envs/cjl/lib/python3.9/wave.py\", line 444, in close\n",
      "    self._ensure_header_written(0)\n",
      "  File \"/home/dan/miniconda3/envs/cjl/lib/python3.9/wave.py\", line 464, in _ensure_header_written\n",
      "    raise Error('sample width not specified')\n",
      "wave.Error: sample width not specified\n"
     ]
    },
    {
     "name": "stdout",
     "output_type": "stream",
     "text": [
      "Playing audio of k= 2\n",
      "ffmpeg is having trouble with this one\n",
      "Playing audio of k= 6\n"
     ]
    },
    {
     "name": "stderr",
     "output_type": "stream",
     "text": [
      "ffplay: /home/dan/miniconda3/envs/cjl/lib/libtinfo.so.6: no version information available (required by /lib/x86_64-linux-gnu/libcaca.so.0)\n",
      "ffplay: /home/dan/miniconda3/envs/cjl/lib/libncursesw.so.6: no version information available (required by /lib/x86_64-linux-gnu/libcaca.so.0)\n",
      "ffplay: /home/dan/miniconda3/envs/cjl/lib/libncursesw.so.6: no version information available (required by /lib/x86_64-linux-gnu/libcaca.so.0)\n",
      "Input #0, wav, from '/tmp/tmp5cqxsscy.wav':   0KB sq=    0B f=0/0   \n",
      "  Duration: 00:00:02.00, bitrate: 1411 kb/s\n",
      "    Stream #0:0: Audio: pcm_s32le ([1][0][0][0] / 0x0001), 44100 Hz, 1 channels, s32, 1411 kb/s\n",
      "   1.95 M-A:  0.000 fd=   0 aq=    0KB vq=    0KB sq=    0B f=0/0   \r"
     ]
    },
    {
     "name": "stdout",
     "output_type": "stream",
     "text": [
      "\n"
     ]
    },
    {
     "name": "stderr",
     "output_type": "stream",
     "text": [
      "Exception ignored in: <function Wave_write.__del__ at 0x7fb87446caf0>\n",
      "Traceback (most recent call last):\n",
      "  File \"/home/dan/miniconda3/envs/cjl/lib/python3.9/wave.py\", line 326, in __del__\n",
      "    self.close()\n",
      "  File \"/home/dan/miniconda3/envs/cjl/lib/python3.9/wave.py\", line 444, in close\n",
      "    self._ensure_header_written(0)\n",
      "  File \"/home/dan/miniconda3/envs/cjl/lib/python3.9/wave.py\", line 464, in _ensure_header_written\n",
      "    raise Error('sample width not specified')\n",
      "wave.Error: sample width not specified\n"
     ]
    },
    {
     "name": "stdout",
     "output_type": "stream",
     "text": [
      "Playing audio of k= 7\n",
      "ffmpeg is having trouble with this one\n"
     ]
    },
    {
     "name": "stderr",
     "output_type": "stream",
     "text": [
      "Exception ignored in: <function Wave_write.__del__ at 0x7fb87446caf0>\n",
      "Traceback (most recent call last):\n",
      "  File \"/home/dan/miniconda3/envs/cjl/lib/python3.9/wave.py\", line 326, in __del__\n",
      "    self.close()\n",
      "  File \"/home/dan/miniconda3/envs/cjl/lib/python3.9/wave.py\", line 444, in close\n",
      "    self._ensure_header_written(0)\n",
      "  File \"/home/dan/miniconda3/envs/cjl/lib/python3.9/wave.py\", line 464, in _ensure_header_written\n",
      "    raise Error('sample width not specified')\n",
      "wave.Error: sample width not specified\n"
     ]
    },
    {
     "name": "stdout",
     "output_type": "stream",
     "text": [
      "Playing audio of k= 9\n",
      "ffmpeg is having trouble with this one\n",
      "Playing audio of k= 0\n"
     ]
    },
    {
     "name": "stderr",
     "output_type": "stream",
     "text": [
      "ffplay: /home/dan/miniconda3/envs/cjl/lib/libtinfo.so.6: no version information available (required by /lib/x86_64-linux-gnu/libcaca.so.0)\n",
      "ffplay: /home/dan/miniconda3/envs/cjl/lib/libncursesw.so.6: no version information available (required by /lib/x86_64-linux-gnu/libcaca.so.0)\n",
      "ffplay: /home/dan/miniconda3/envs/cjl/lib/libncursesw.so.6: no version information available (required by /lib/x86_64-linux-gnu/libcaca.so.0)\n",
      "Input #0, wav, from '/tmp/tmp_5fi_74n.wav':   0KB sq=    0B f=0/0   \n",
      "  Duration: 00:00:02.00, bitrate: 1411 kb/s\n",
      "    Stream #0:0: Audio: pcm_s32le ([1][0][0][0] / 0x0001), 44100 Hz, 1 channels, s32, 1411 kb/s\n",
      "   1.95 M-A:  0.000 fd=   0 aq=    0KB vq=    0KB sq=    0B f=0/0   \r"
     ]
    },
    {
     "name": "stdout",
     "output_type": "stream",
     "text": [
      "\n",
      "Entering Cluster Racecar_autoracing\n",
      "Playing audio of k= 1\n"
     ]
    },
    {
     "name": "stderr",
     "output_type": "stream",
     "text": [
      "ffplay: /home/dan/miniconda3/envs/cjl/lib/libtinfo.so.6: no version information available (required by /lib/x86_64-linux-gnu/libcaca.so.0)\n",
      "ffplay: /home/dan/miniconda3/envs/cjl/lib/libncursesw.so.6: no version information available (required by /lib/x86_64-linux-gnu/libcaca.so.0)\n",
      "ffplay: /home/dan/miniconda3/envs/cjl/lib/libncursesw.so.6: no version information available (required by /lib/x86_64-linux-gnu/libcaca.so.0)\n",
      "Input #0, wav, from '/tmp/tmp80_jro7y.wav':   0KB sq=    0B f=0/0   \n",
      "  Duration: 00:00:02.00, bitrate: 1411 kb/s\n",
      "    Stream #0:0: Audio: pcm_s32le ([1][0][0][0] / 0x0001), 44100 Hz, 1 channels, s32, 1411 kb/s\n",
      "   1.94 M-A:  0.000 fd=   0 aq=    0KB vq=    0KB sq=    0B f=0/0   \r"
     ]
    },
    {
     "name": "stdout",
     "output_type": "stream",
     "text": [
      "\n",
      "Playing audio of k= 9\n"
     ]
    },
    {
     "name": "stderr",
     "output_type": "stream",
     "text": [
      "ffplay: /home/dan/miniconda3/envs/cjl/lib/libtinfo.so.6: no version information available (required by /lib/x86_64-linux-gnu/libcaca.so.0)\n",
      "ffplay: /home/dan/miniconda3/envs/cjl/lib/libncursesw.so.6: no version information available (required by /lib/x86_64-linux-gnu/libcaca.so.0)\n",
      "ffplay: /home/dan/miniconda3/envs/cjl/lib/libncursesw.so.6: no version information available (required by /lib/x86_64-linux-gnu/libcaca.so.0)\n",
      "Input #0, wav, from '/tmp/tmpz3ez1n4g.wav':   0KB sq=    0B f=0/0   \n",
      "  Duration: 00:00:02.00, bitrate: 1411 kb/s\n",
      "    Stream #0:0: Audio: pcm_s32le ([1][0][0][0] / 0x0001), 44100 Hz, 1 channels, s32, 1411 kb/s\n",
      "   1.95 M-A:  0.000 fd=   0 aq=    0KB vq=    0KB sq=    0B f=0/0   \r"
     ]
    },
    {
     "name": "stdout",
     "output_type": "stream",
     "text": [
      "\n",
      "Playing audio of k= 2\n"
     ]
    },
    {
     "name": "stderr",
     "output_type": "stream",
     "text": [
      "ffplay: /home/dan/miniconda3/envs/cjl/lib/libtinfo.so.6: no version information available (required by /lib/x86_64-linux-gnu/libcaca.so.0)\n",
      "ffplay: /home/dan/miniconda3/envs/cjl/lib/libncursesw.so.6: no version information available (required by /lib/x86_64-linux-gnu/libcaca.so.0)\n",
      "ffplay: /home/dan/miniconda3/envs/cjl/lib/libncursesw.so.6: no version information available (required by /lib/x86_64-linux-gnu/libcaca.so.0)\n",
      "Input #0, wav, from '/tmp/tmpls59hwr0.wav':   0KB sq=    0B f=0/0   \n",
      "  Duration: 00:00:02.00, bitrate: 1411 kb/s\n",
      "    Stream #0:0: Audio: pcm_s32le ([1][0][0][0] / 0x0001), 44100 Hz, 1 channels, s32, 1411 kb/s\n",
      "   1.95 M-A:  0.000 fd=   0 aq=    0KB vq=    0KB sq=    0B f=0/0   \r"
     ]
    },
    {
     "name": "stdout",
     "output_type": "stream",
     "text": [
      "\n",
      "Playing audio of k= 3\n"
     ]
    },
    {
     "name": "stderr",
     "output_type": "stream",
     "text": [
      "ffplay: /home/dan/miniconda3/envs/cjl/lib/libtinfo.so.6: no version information available (required by /lib/x86_64-linux-gnu/libcaca.so.0)\n",
      "ffplay: /home/dan/miniconda3/envs/cjl/lib/libncursesw.so.6: no version information available (required by /lib/x86_64-linux-gnu/libcaca.so.0)\n",
      "ffplay: /home/dan/miniconda3/envs/cjl/lib/libncursesw.so.6: no version information available (required by /lib/x86_64-linux-gnu/libcaca.so.0)\n",
      "Input #0, wav, from '/tmp/tmprkn0y0q_.wav':   0KB sq=    0B f=0/0   \n",
      "  Duration: 00:00:02.00, bitrate: 1411 kb/s\n",
      "    Stream #0:0: Audio: pcm_s32le ([1][0][0][0] / 0x0001), 44100 Hz, 1 channels, s32, 1411 kb/s\n",
      "   1.95 M-A:  0.000 fd=   0 aq=    0KB vq=    0KB sq=    0B f=0/0   \r"
     ]
    },
    {
     "name": "stdout",
     "output_type": "stream",
     "text": [
      "\n",
      "Playing audio of k= 7\n"
     ]
    },
    {
     "name": "stderr",
     "output_type": "stream",
     "text": [
      "ffplay: /home/dan/miniconda3/envs/cjl/lib/libtinfo.so.6: no version information available (required by /lib/x86_64-linux-gnu/libcaca.so.0)\n",
      "ffplay: /home/dan/miniconda3/envs/cjl/lib/libncursesw.so.6: no version information available (required by /lib/x86_64-linux-gnu/libcaca.so.0)\n",
      "ffplay: /home/dan/miniconda3/envs/cjl/lib/libncursesw.so.6: no version information available (required by /lib/x86_64-linux-gnu/libcaca.so.0)\n",
      "Input #0, wav, from '/tmp/tmpyomi_u68.wav':   0KB sq=    0B f=0/0   \n",
      "  Duration: 00:00:02.00, bitrate: 1411 kb/s\n",
      "    Stream #0:0: Audio: pcm_s32le ([1][0][0][0] / 0x0001), 44100 Hz, 1 channels, s32, 1411 kb/s\n",
      "   1.95 M-A:  0.000 fd=   0 aq=    0KB vq=    0KB sq=    0B f=0/0   \r"
     ]
    },
    {
     "name": "stdout",
     "output_type": "stream",
     "text": [
      "\n",
      "Playing audio of k= 6\n"
     ]
    },
    {
     "name": "stderr",
     "output_type": "stream",
     "text": [
      "ffplay: /home/dan/miniconda3/envs/cjl/lib/libtinfo.so.6: no version information available (required by /lib/x86_64-linux-gnu/libcaca.so.0)\n",
      "ffplay: /home/dan/miniconda3/envs/cjl/lib/libncursesw.so.6: no version information available (required by /lib/x86_64-linux-gnu/libcaca.so.0)\n",
      "ffplay: /home/dan/miniconda3/envs/cjl/lib/libncursesw.so.6: no version information available (required by /lib/x86_64-linux-gnu/libcaca.so.0)\n",
      "Input #0, wav, from '/tmp/tmpu2kedi14.wav':   0KB sq=    0B f=0/0   \n",
      "  Duration: 00:00:02.00, bitrate: 1411 kb/s\n",
      "    Stream #0:0: Audio: pcm_s32le ([1][0][0][0] / 0x0001), 44100 Hz, 1 channels, s32, 1411 kb/s\n",
      "   1.94 M-A:  0.000 fd=   0 aq=    0KB vq=    0KB sq=    0B f=0/0   \r"
     ]
    },
    {
     "name": "stdout",
     "output_type": "stream",
     "text": [
      "\n",
      "Entering Cluster Heavyengine(lowfrequency)\n",
      "Playing audio of k= 1\n"
     ]
    },
    {
     "name": "stderr",
     "output_type": "stream",
     "text": [
      "ffplay: /home/dan/miniconda3/envs/cjl/lib/libtinfo.so.6: no version information available (required by /lib/x86_64-linux-gnu/libcaca.so.0)\n",
      "ffplay: /home/dan/miniconda3/envs/cjl/lib/libncursesw.so.6: no version information available (required by /lib/x86_64-linux-gnu/libcaca.so.0)\n",
      "ffplay: /home/dan/miniconda3/envs/cjl/lib/libncursesw.so.6: no version information available (required by /lib/x86_64-linux-gnu/libcaca.so.0)\n",
      "Input #0, wav, from '/tmp/tmpk6oyurf4.wav':   0KB sq=    0B f=0/0   \n",
      "  Duration: 00:00:02.00, bitrate: 1411 kb/s\n",
      "    Stream #0:0: Audio: pcm_s32le ([1][0][0][0] / 0x0001), 44100 Hz, 1 channels, s32, 1411 kb/s\n",
      "   1.94 M-A:  0.000 fd=   0 aq=    0KB vq=    0KB sq=    0B f=0/0   \r"
     ]
    },
    {
     "name": "stdout",
     "output_type": "stream",
     "text": [
      "\n"
     ]
    },
    {
     "name": "stderr",
     "output_type": "stream",
     "text": [
      "Exception ignored in: <function Wave_write.__del__ at 0x7fb87446caf0>\n",
      "Traceback (most recent call last):\n",
      "  File \"/home/dan/miniconda3/envs/cjl/lib/python3.9/wave.py\", line 326, in __del__\n",
      "    self.close()\n",
      "  File \"/home/dan/miniconda3/envs/cjl/lib/python3.9/wave.py\", line 444, in close\n",
      "    self._ensure_header_written(0)\n",
      "  File \"/home/dan/miniconda3/envs/cjl/lib/python3.9/wave.py\", line 464, in _ensure_header_written\n",
      "    raise Error('sample width not specified')\n",
      "wave.Error: sample width not specified\n"
     ]
    },
    {
     "name": "stdout",
     "output_type": "stream",
     "text": [
      "Playing audio of k= 4\n",
      "ffmpeg is having trouble with this one\n",
      "Playing audio of k= 8\n"
     ]
    },
    {
     "name": "stderr",
     "output_type": "stream",
     "text": [
      "ffplay: /home/dan/miniconda3/envs/cjl/lib/libtinfo.so.6: no version information available (required by /lib/x86_64-linux-gnu/libcaca.so.0)\n",
      "ffplay: /home/dan/miniconda3/envs/cjl/lib/libncursesw.so.6: no version information available (required by /lib/x86_64-linux-gnu/libcaca.so.0)\n",
      "ffplay: /home/dan/miniconda3/envs/cjl/lib/libncursesw.so.6: no version information available (required by /lib/x86_64-linux-gnu/libcaca.so.0)\n",
      "Input #0, wav, from '/tmp/tmpiozpndp_.wav':   0KB sq=    0B f=0/0   \n",
      "  Duration: 00:00:02.00, bitrate: 1411 kb/s\n",
      "    Stream #0:0: Audio: pcm_s32le ([1][0][0][0] / 0x0001), 44100 Hz, 1 channels, s32, 1411 kb/s\n",
      "   1.97 M-A:  0.000 fd=   0 aq=    0KB vq=    0KB sq=    0B f=0/0   \r"
     ]
    },
    {
     "name": "stdout",
     "output_type": "stream",
     "text": [
      "\n"
     ]
    },
    {
     "name": "stderr",
     "output_type": "stream",
     "text": [
      "Exception ignored in: <function Wave_write.__del__ at 0x7fb87446caf0>\n",
      "Traceback (most recent call last):\n",
      "  File \"/home/dan/miniconda3/envs/cjl/lib/python3.9/wave.py\", line 326, in __del__\n",
      "    self.close()\n",
      "  File \"/home/dan/miniconda3/envs/cjl/lib/python3.9/wave.py\", line 444, in close\n",
      "    self._ensure_header_written(0)\n",
      "  File \"/home/dan/miniconda3/envs/cjl/lib/python3.9/wave.py\", line 464, in _ensure_header_written\n",
      "    raise Error('sample width not specified')\n",
      "wave.Error: sample width not specified\n"
     ]
    },
    {
     "name": "stdout",
     "output_type": "stream",
     "text": [
      "Playing audio of k= 5\n",
      "ffmpeg is having trouble with this one\n"
     ]
    },
    {
     "name": "stderr",
     "output_type": "stream",
     "text": [
      "Exception ignored in: <function Wave_write.__del__ at 0x7fb87446caf0>\n",
      "Traceback (most recent call last):\n",
      "  File \"/home/dan/miniconda3/envs/cjl/lib/python3.9/wave.py\", line 326, in __del__\n",
      "    self.close()\n",
      "  File \"/home/dan/miniconda3/envs/cjl/lib/python3.9/wave.py\", line 444, in close\n",
      "    self._ensure_header_written(0)\n",
      "  File \"/home/dan/miniconda3/envs/cjl/lib/python3.9/wave.py\", line 464, in _ensure_header_written\n",
      "    raise Error('sample width not specified')\n",
      "wave.Error: sample width not specified\n"
     ]
    },
    {
     "name": "stdout",
     "output_type": "stream",
     "text": [
      "Playing audio of k= 9\n",
      "ffmpeg is having trouble with this one\n",
      "Playing audio of k= 2\n"
     ]
    },
    {
     "name": "stderr",
     "output_type": "stream",
     "text": [
      "ffplay: /home/dan/miniconda3/envs/cjl/lib/libtinfo.so.6: no version information available (required by /lib/x86_64-linux-gnu/libcaca.so.0)\n",
      "ffplay: /home/dan/miniconda3/envs/cjl/lib/libncursesw.so.6: no version information available (required by /lib/x86_64-linux-gnu/libcaca.so.0)\n",
      "ffplay: /home/dan/miniconda3/envs/cjl/lib/libncursesw.so.6: no version information available (required by /lib/x86_64-linux-gnu/libcaca.so.0)\n",
      "Input #0, wav, from '/tmp/tmp1309835o.wav':   0KB sq=    0B f=0/0   \n",
      "  Duration: 00:00:02.00, bitrate: 1411 kb/s\n",
      "    Stream #0:0: Audio: pcm_s32le ([1][0][0][0] / 0x0001), 44100 Hz, 1 channels, s32, 1411 kb/s\n",
      "   1.95 M-A:  0.000 fd=   0 aq=    0KB vq=    0KB sq=    0B f=0/0   \r"
     ]
    },
    {
     "name": "stdout",
     "output_type": "stream",
     "text": [
      "\n",
      "Playing audio of k= 6\n"
     ]
    },
    {
     "name": "stderr",
     "output_type": "stream",
     "text": [
      "ffplay: /home/dan/miniconda3/envs/cjl/lib/libtinfo.so.6: no version information available (required by /lib/x86_64-linux-gnu/libcaca.so.0)\n",
      "ffplay: /home/dan/miniconda3/envs/cjl/lib/libncursesw.so.6: no version information available (required by /lib/x86_64-linux-gnu/libcaca.so.0)\n",
      "ffplay: /home/dan/miniconda3/envs/cjl/lib/libncursesw.so.6: no version information available (required by /lib/x86_64-linux-gnu/libcaca.so.0)\n",
      "Input #0, wav, from '/tmp/tmptob0cs58.wav':   0KB sq=    0B f=0/0   \n",
      "  Duration: 00:00:02.00, bitrate: 1411 kb/s\n",
      "    Stream #0:0: Audio: pcm_s32le ([1][0][0][0] / 0x0001), 44100 Hz, 1 channels, s32, 1411 kb/s\n",
      "   1.93 M-A:  0.000 fd=   0 aq=    0KB vq=    0KB sq=    0B f=0/0   \r"
     ]
    },
    {
     "name": "stdout",
     "output_type": "stream",
     "text": [
      "\n",
      "Entering Cluster Mediumengine(midfrequency)\n",
      "Playing audio of k= 0\n"
     ]
    },
    {
     "name": "stderr",
     "output_type": "stream",
     "text": [
      "ffplay: /home/dan/miniconda3/envs/cjl/lib/libtinfo.so.6: no version information available (required by /lib/x86_64-linux-gnu/libcaca.so.0)\n",
      "ffplay: /home/dan/miniconda3/envs/cjl/lib/libncursesw.so.6: no version information available (required by /lib/x86_64-linux-gnu/libcaca.so.0)\n",
      "ffplay: /home/dan/miniconda3/envs/cjl/lib/libncursesw.so.6: no version information available (required by /lib/x86_64-linux-gnu/libcaca.so.0)\n",
      "Input #0, wav, from '/tmp/tmph7adh9r8.wav':   0KB sq=    0B f=0/0   \n",
      "  Duration: 00:00:02.00, bitrate: 1411 kb/s\n",
      "    Stream #0:0: Audio: pcm_s32le ([1][0][0][0] / 0x0001), 44100 Hz, 1 channels, s32, 1411 kb/s\n",
      "   1.95 M-A:  0.000 fd=   0 aq=    0KB vq=    0KB sq=    0B f=0/0   \r"
     ]
    },
    {
     "name": "stdout",
     "output_type": "stream",
     "text": [
      "\n"
     ]
    },
    {
     "name": "stderr",
     "output_type": "stream",
     "text": [
      "Exception ignored in: <function Wave_write.__del__ at 0x7fb87446caf0>\n",
      "Traceback (most recent call last):\n",
      "  File \"/home/dan/miniconda3/envs/cjl/lib/python3.9/wave.py\", line 326, in __del__\n",
      "    self.close()\n",
      "  File \"/home/dan/miniconda3/envs/cjl/lib/python3.9/wave.py\", line 444, in close\n",
      "    self._ensure_header_written(0)\n",
      "  File \"/home/dan/miniconda3/envs/cjl/lib/python3.9/wave.py\", line 464, in _ensure_header_written\n",
      "    raise Error('sample width not specified')\n",
      "wave.Error: sample width not specified\n"
     ]
    },
    {
     "name": "stdout",
     "output_type": "stream",
     "text": [
      "Playing audio of k= 4\n",
      "ffmpeg is having trouble with this one\n",
      "Playing audio of k= 1\n"
     ]
    },
    {
     "name": "stderr",
     "output_type": "stream",
     "text": [
      "ffplay: /home/dan/miniconda3/envs/cjl/lib/libtinfo.so.6: no version information available (required by /lib/x86_64-linux-gnu/libcaca.so.0)\n",
      "ffplay: /home/dan/miniconda3/envs/cjl/lib/libncursesw.so.6: no version information available (required by /lib/x86_64-linux-gnu/libcaca.so.0)\n",
      "ffplay: /home/dan/miniconda3/envs/cjl/lib/libncursesw.so.6: no version information available (required by /lib/x86_64-linux-gnu/libcaca.so.0)\n",
      "Input #0, wav, from '/tmp/tmpq7daymfb.wav':   0KB sq=    0B f=0/0   \n",
      "  Duration: 00:00:02.00, bitrate: 1411 kb/s\n",
      "    Stream #0:0: Audio: pcm_s32le ([1][0][0][0] / 0x0001), 44100 Hz, 1 channels, s32, 1411 kb/s\n",
      "   1.95 M-A:  0.000 fd=   0 aq=    0KB vq=    0KB sq=    0B f=0/0   \r"
     ]
    },
    {
     "name": "stdout",
     "output_type": "stream",
     "text": [
      "\n",
      "Playing audio of k= 7\n"
     ]
    },
    {
     "name": "stderr",
     "output_type": "stream",
     "text": [
      "ffplay: /home/dan/miniconda3/envs/cjl/lib/libtinfo.so.6: no version information available (required by /lib/x86_64-linux-gnu/libcaca.so.0)\n",
      "ffplay: /home/dan/miniconda3/envs/cjl/lib/libncursesw.so.6: no version information available (required by /lib/x86_64-linux-gnu/libcaca.so.0)\n",
      "ffplay: /home/dan/miniconda3/envs/cjl/lib/libncursesw.so.6: no version information available (required by /lib/x86_64-linux-gnu/libcaca.so.0)\n",
      "Input #0, wav, from '/tmp/tmp0185eoe4.wav':   0KB sq=    0B f=0/0   \n",
      "  Duration: 00:00:02.00, bitrate: 1411 kb/s\n",
      "    Stream #0:0: Audio: pcm_s32le ([1][0][0][0] / 0x0001), 44100 Hz, 1 channels, s32, 1411 kb/s\n",
      "   1.96 M-A:  0.000 fd=   0 aq=    0KB vq=    0KB sq=    0B f=0/0   \r"
     ]
    },
    {
     "name": "stdout",
     "output_type": "stream",
     "text": [
      "\n",
      "Playing audio of k= 3\n"
     ]
    },
    {
     "name": "stderr",
     "output_type": "stream",
     "text": [
      "ffplay: /home/dan/miniconda3/envs/cjl/lib/libtinfo.so.6: no version information available (required by /lib/x86_64-linux-gnu/libcaca.so.0)\n",
      "ffplay: /home/dan/miniconda3/envs/cjl/lib/libncursesw.so.6: no version information available (required by /lib/x86_64-linux-gnu/libcaca.so.0)\n",
      "ffplay: /home/dan/miniconda3/envs/cjl/lib/libncursesw.so.6: no version information available (required by /lib/x86_64-linux-gnu/libcaca.so.0)\n",
      "Input #0, wav, from '/tmp/tmp1lz9dgvs.wav':   0KB sq=    0B f=0/0   \n",
      "  Duration: 00:00:02.00, bitrate: 1411 kb/s\n",
      "    Stream #0:0: Audio: pcm_s32le ([1][0][0][0] / 0x0001), 44100 Hz, 1 channels, s32, 1411 kb/s\n",
      "Exception ignored in: <function Wave_write.__del__ at 0x7fb87446caf0>\n",
      "Traceback (most recent call last):\n",
      "  File \"/home/dan/miniconda3/envs/cjl/lib/python3.9/wave.py\", line 326, in __del__\n",
      "    self.close()\n",
      "  File \"/home/dan/miniconda3/envs/cjl/lib/python3.9/wave.py\", line 444, in close\n",
      "    self._ensure_header_written(0)\n",
      "  File \"/home/dan/miniconda3/envs/cjl/lib/python3.9/wave.py\", line 464, in _ensure_header_written\n",
      "    raise Error('sample width not specified')\n",
      "wave.Error: sample width not specified\n"
     ]
    },
    {
     "name": "stdout",
     "output_type": "stream",
     "text": [
      "\n",
      "Playing audio of k= 6\n",
      "ffmpeg is having trouble with this one\n",
      "Playing audio of k= 2\n"
     ]
    },
    {
     "name": "stderr",
     "output_type": "stream",
     "text": [
      "ffplay: /home/dan/miniconda3/envs/cjl/lib/libtinfo.so.6: no version information available (required by /lib/x86_64-linux-gnu/libcaca.so.0)\n",
      "ffplay: /home/dan/miniconda3/envs/cjl/lib/libncursesw.so.6: no version information available (required by /lib/x86_64-linux-gnu/libcaca.so.0)\n",
      "ffplay: /home/dan/miniconda3/envs/cjl/lib/libncursesw.so.6: no version information available (required by /lib/x86_64-linux-gnu/libcaca.so.0)\n",
      "Input #0, wav, from '/tmp/tmpvzkig4f3.wav':   0KB sq=    0B f=0/0   \n",
      "  Duration: 00:00:02.00, bitrate: 1411 kb/s\n",
      "    Stream #0:0: Audio: pcm_s32le ([1][0][0][0] / 0x0001), 44100 Hz, 1 channels, s32, 1411 kb/s\n",
      "   1.96 M-A:  0.000 fd=   0 aq=    0KB vq=    0KB sq=    0B f=0/0   \r"
     ]
    },
    {
     "name": "stdout",
     "output_type": "stream",
     "text": [
      "\n",
      "Playing audio of k= 9\n"
     ]
    },
    {
     "name": "stderr",
     "output_type": "stream",
     "text": [
      "ffplay: /home/dan/miniconda3/envs/cjl/lib/libtinfo.so.6: no version information available (required by /lib/x86_64-linux-gnu/libcaca.so.0)\n",
      "ffplay: /home/dan/miniconda3/envs/cjl/lib/libncursesw.so.6: no version information available (required by /lib/x86_64-linux-gnu/libcaca.so.0)\n",
      "ffplay: /home/dan/miniconda3/envs/cjl/lib/libncursesw.so.6: no version information available (required by /lib/x86_64-linux-gnu/libcaca.so.0)\n",
      "Input #0, wav, from '/tmp/tmp2e875grv.wav':   0KB sq=    0B f=0/0   \n",
      "  Duration: 00:00:02.00, bitrate: 1411 kb/s\n",
      "    Stream #0:0: Audio: pcm_s32le ([1][0][0][0] / 0x0001), 44100 Hz, 1 channels, s32, 1411 kb/s\n",
      "   1.93 M-A:  0.000 fd=   0 aq=    0KB vq=    0KB sq=    0B f=0/0   \r"
     ]
    },
    {
     "name": "stdout",
     "output_type": "stream",
     "text": [
      "\n",
      "Playing audio of k= 5\n"
     ]
    },
    {
     "name": "stderr",
     "output_type": "stream",
     "text": [
      "ffplay: /home/dan/miniconda3/envs/cjl/lib/libtinfo.so.6: no version information available (required by /lib/x86_64-linux-gnu/libcaca.so.0)\n",
      "ffplay: /home/dan/miniconda3/envs/cjl/lib/libncursesw.so.6: no version information available (required by /lib/x86_64-linux-gnu/libcaca.so.0)\n",
      "ffplay: /home/dan/miniconda3/envs/cjl/lib/libncursesw.so.6: no version information available (required by /lib/x86_64-linux-gnu/libcaca.so.0)\n",
      "Input #0, wav, from '/tmp/tmpcgytrjnx.wav':   0KB sq=    0B f=0/0   \n",
      "  Duration: 00:00:02.00, bitrate: 1411 kb/s\n",
      "    Stream #0:0: Audio: pcm_s32le ([1][0][0][0] / 0x0001), 44100 Hz, 1 channels, s32, 1411 kb/s\n",
      "   1.95 M-A:  0.000 fd=   0 aq=    0KB vq=    0KB sq=    0B f=0/0   \r"
     ]
    },
    {
     "name": "stdout",
     "output_type": "stream",
     "text": [
      "\n",
      "Entering Cluster Caralarm\n",
      "Playing audio of k= 1\n"
     ]
    },
    {
     "name": "stderr",
     "output_type": "stream",
     "text": [
      "ffplay: /home/dan/miniconda3/envs/cjl/lib/libtinfo.so.6: no version information available (required by /lib/x86_64-linux-gnu/libcaca.so.0)\n",
      "ffplay: /home/dan/miniconda3/envs/cjl/lib/libncursesw.so.6: no version information available (required by /lib/x86_64-linux-gnu/libcaca.so.0)\n",
      "ffplay: /home/dan/miniconda3/envs/cjl/lib/libncursesw.so.6: no version information available (required by /lib/x86_64-linux-gnu/libcaca.so.0)\n",
      "Input #0, wav, from '/tmp/tmpcg5aqxau.wav':   0KB sq=    0B f=0/0   \n",
      "  Duration: 00:00:02.00, bitrate: 1411 kb/s\n",
      "    Stream #0:0: Audio: pcm_s32le ([1][0][0][0] / 0x0001), 44100 Hz, 1 channels, s32, 1411 kb/s\n",
      "   1.95 M-A:  0.000 fd=   0 aq=    0KB vq=    0KB sq=    0B f=0/0   \r"
     ]
    },
    {
     "name": "stdout",
     "output_type": "stream",
     "text": [
      "\n",
      "Playing audio of k= 6\n"
     ]
    },
    {
     "name": "stderr",
     "output_type": "stream",
     "text": [
      "ffplay: /home/dan/miniconda3/envs/cjl/lib/libtinfo.so.6: no version information available (required by /lib/x86_64-linux-gnu/libcaca.so.0)\n",
      "ffplay: /home/dan/miniconda3/envs/cjl/lib/libncursesw.so.6: no version information available (required by /lib/x86_64-linux-gnu/libcaca.so.0)\n",
      "ffplay: /home/dan/miniconda3/envs/cjl/lib/libncursesw.so.6: no version information available (required by /lib/x86_64-linux-gnu/libcaca.so.0)\n",
      "Input #0, wav, from '/tmp/tmpxoicp96c.wav':   0KB sq=    0B f=0/0   \n",
      "  Duration: 00:00:02.00, bitrate: 1411 kb/s\n",
      "    Stream #0:0: Audio: pcm_s32le ([1][0][0][0] / 0x0001), 44100 Hz, 1 channels, s32, 1411 kb/s\n",
      "   1.95 M-A:  0.000 fd=   0 aq=    0KB vq=    0KB sq=    0B f=0/0   \r"
     ]
    },
    {
     "name": "stdout",
     "output_type": "stream",
     "text": [
      "\n",
      "Playing audio of k= 5\n"
     ]
    },
    {
     "name": "stderr",
     "output_type": "stream",
     "text": [
      "ffplay: /home/dan/miniconda3/envs/cjl/lib/libtinfo.so.6: no version information available (required by /lib/x86_64-linux-gnu/libcaca.so.0)\n",
      "ffplay: /home/dan/miniconda3/envs/cjl/lib/libncursesw.so.6: no version information available (required by /lib/x86_64-linux-gnu/libcaca.so.0)\n",
      "ffplay: /home/dan/miniconda3/envs/cjl/lib/libncursesw.so.6: no version information available (required by /lib/x86_64-linux-gnu/libcaca.so.0)\n",
      "Input #0, wav, from '/tmp/tmpsp372_p7.wav':   0KB sq=    0B f=0/0   \n",
      "  Duration: 00:00:02.00, bitrate: 1411 kb/s\n",
      "    Stream #0:0: Audio: pcm_s32le ([1][0][0][0] / 0x0001), 44100 Hz, 1 channels, s32, 1411 kb/s\n",
      "   1.96 M-A:  0.000 fd=   0 aq=    0KB vq=    0KB sq=    0B f=0/0   \r"
     ]
    },
    {
     "name": "stdout",
     "output_type": "stream",
     "text": [
      "\n"
     ]
    },
    {
     "name": "stderr",
     "output_type": "stream",
     "text": [
      "Exception ignored in: <function Wave_write.__del__ at 0x7fb87446caf0>\n",
      "Traceback (most recent call last):\n",
      "  File \"/home/dan/miniconda3/envs/cjl/lib/python3.9/wave.py\", line 326, in __del__\n",
      "    self.close()\n",
      "  File \"/home/dan/miniconda3/envs/cjl/lib/python3.9/wave.py\", line 444, in close\n",
      "    self._ensure_header_written(0)\n",
      "  File \"/home/dan/miniconda3/envs/cjl/lib/python3.9/wave.py\", line 464, in _ensure_header_written\n",
      "    raise Error('sample width not specified')\n",
      "wave.Error: sample width not specified\n"
     ]
    },
    {
     "name": "stdout",
     "output_type": "stream",
     "text": [
      "Playing audio of k= 0\n",
      "ffmpeg is having trouble with this one\n"
     ]
    },
    {
     "name": "stderr",
     "output_type": "stream",
     "text": [
      "Exception ignored in: <function Wave_write.__del__ at 0x7fb87446caf0>\n",
      "Traceback (most recent call last):\n",
      "  File \"/home/dan/miniconda3/envs/cjl/lib/python3.9/wave.py\", line 326, in __del__\n",
      "    self.close()\n",
      "  File \"/home/dan/miniconda3/envs/cjl/lib/python3.9/wave.py\", line 444, in close\n",
      "    self._ensure_header_written(0)\n",
      "  File \"/home/dan/miniconda3/envs/cjl/lib/python3.9/wave.py\", line 464, in _ensure_header_written\n",
      "    raise Error('sample width not specified')\n",
      "wave.Error: sample width not specified\n"
     ]
    },
    {
     "name": "stdout",
     "output_type": "stream",
     "text": [
      "Playing audio of k= 8\n",
      "ffmpeg is having trouble with this one\n"
     ]
    },
    {
     "name": "stderr",
     "output_type": "stream",
     "text": [
      "Exception ignored in: <function Wave_write.__del__ at 0x7fb87446caf0>\n",
      "Traceback (most recent call last):\n",
      "  File \"/home/dan/miniconda3/envs/cjl/lib/python3.9/wave.py\", line 326, in __del__\n",
      "    self.close()\n",
      "  File \"/home/dan/miniconda3/envs/cjl/lib/python3.9/wave.py\", line 444, in close\n",
      "    self._ensure_header_written(0)\n",
      "  File \"/home/dan/miniconda3/envs/cjl/lib/python3.9/wave.py\", line 464, in _ensure_header_written\n",
      "    raise Error('sample width not specified')\n",
      "wave.Error: sample width not specified\n"
     ]
    },
    {
     "name": "stdout",
     "output_type": "stream",
     "text": [
      "Playing audio of k= 9\n",
      "ffmpeg is having trouble with this one\n"
     ]
    },
    {
     "name": "stderr",
     "output_type": "stream",
     "text": [
      "Exception ignored in: <function Wave_write.__del__ at 0x7fb87446caf0>\n",
      "Traceback (most recent call last):\n",
      "  File \"/home/dan/miniconda3/envs/cjl/lib/python3.9/wave.py\", line 326, in __del__\n",
      "    self.close()\n",
      "  File \"/home/dan/miniconda3/envs/cjl/lib/python3.9/wave.py\", line 444, in close\n",
      "    self._ensure_header_written(0)\n",
      "  File \"/home/dan/miniconda3/envs/cjl/lib/python3.9/wave.py\", line 464, in _ensure_header_written\n",
      "    raise Error('sample width not specified')\n",
      "wave.Error: sample width not specified\n"
     ]
    },
    {
     "name": "stdout",
     "output_type": "stream",
     "text": [
      "Playing audio of k= 4\n",
      "ffmpeg is having trouble with this one\n",
      "Entering Cluster Helicopter\n",
      "Playing audio of k= 2\n"
     ]
    },
    {
     "name": "stderr",
     "output_type": "stream",
     "text": [
      "ffplay: /home/dan/miniconda3/envs/cjl/lib/libtinfo.so.6: no version information available (required by /lib/x86_64-linux-gnu/libcaca.so.0)\n",
      "ffplay: /home/dan/miniconda3/envs/cjl/lib/libncursesw.so.6: no version information available (required by /lib/x86_64-linux-gnu/libcaca.so.0)\n",
      "ffplay: /home/dan/miniconda3/envs/cjl/lib/libncursesw.so.6: no version information available (required by /lib/x86_64-linux-gnu/libcaca.so.0)\n",
      "Input #0, wav, from '/tmp/tmpy94o6wox.wav':   0KB sq=    0B f=0/0   \n",
      "  Duration: 00:00:02.00, bitrate: 1411 kb/s\n",
      "    Stream #0:0: Audio: pcm_s32le ([1][0][0][0] / 0x0001), 44100 Hz, 1 channels, s32, 1411 kb/s\n",
      "   1.94 M-A:  0.000 fd=   0 aq=    0KB vq=    0KB sq=    0B f=0/0   \r"
     ]
    },
    {
     "name": "stdout",
     "output_type": "stream",
     "text": [
      "\n"
     ]
    },
    {
     "name": "stderr",
     "output_type": "stream",
     "text": [
      "Exception ignored in: <function Wave_write.__del__ at 0x7fb87446caf0>\n",
      "Traceback (most recent call last):\n",
      "  File \"/home/dan/miniconda3/envs/cjl/lib/python3.9/wave.py\", line 326, in __del__\n",
      "    self.close()\n",
      "  File \"/home/dan/miniconda3/envs/cjl/lib/python3.9/wave.py\", line 444, in close\n",
      "    self._ensure_header_written(0)\n",
      "  File \"/home/dan/miniconda3/envs/cjl/lib/python3.9/wave.py\", line 464, in _ensure_header_written\n",
      "    raise Error('sample width not specified')\n",
      "wave.Error: sample width not specified\n"
     ]
    },
    {
     "name": "stdout",
     "output_type": "stream",
     "text": [
      "Playing audio of k= 7\n",
      "ffmpeg is having trouble with this one\n",
      "Playing audio of k= 6\n"
     ]
    },
    {
     "name": "stderr",
     "output_type": "stream",
     "text": [
      "ffplay: /home/dan/miniconda3/envs/cjl/lib/libtinfo.so.6: no version information available (required by /lib/x86_64-linux-gnu/libcaca.so.0)\n",
      "ffplay: /home/dan/miniconda3/envs/cjl/lib/libncursesw.so.6: no version information available (required by /lib/x86_64-linux-gnu/libcaca.so.0)\n",
      "ffplay: /home/dan/miniconda3/envs/cjl/lib/libncursesw.so.6: no version information available (required by /lib/x86_64-linux-gnu/libcaca.so.0)\n",
      "Input #0, wav, from '/tmp/tmp864u233b.wav':   0KB sq=    0B f=0/0   \n",
      "  Duration: 00:00:02.00, bitrate: 1411 kb/s\n",
      "    Stream #0:0: Audio: pcm_s32le ([1][0][0][0] / 0x0001), 44100 Hz, 1 channels, s32, 1411 kb/s\n",
      "   1.95 M-A:  0.000 fd=   0 aq=    0KB vq=    0KB sq=    0B f=0/0   \r"
     ]
    },
    {
     "name": "stdout",
     "output_type": "stream",
     "text": [
      "\n",
      "Playing audio of k= 8\n"
     ]
    },
    {
     "name": "stderr",
     "output_type": "stream",
     "text": [
      "ffplay: /home/dan/miniconda3/envs/cjl/lib/libtinfo.so.6: no version information available (required by /lib/x86_64-linux-gnu/libcaca.so.0)\n",
      "ffplay: /home/dan/miniconda3/envs/cjl/lib/libncursesw.so.6: no version information available (required by /lib/x86_64-linux-gnu/libcaca.so.0)\n",
      "ffplay: /home/dan/miniconda3/envs/cjl/lib/libncursesw.so.6: no version information available (required by /lib/x86_64-linux-gnu/libcaca.so.0)\n",
      "Input #0, wav, from '/tmp/tmpkpo7rc1i.wav':   0KB sq=    0B f=0/0   \n",
      "  Duration: 00:00:02.00, bitrate: 1411 kb/s\n",
      "    Stream #0:0: Audio: pcm_s32le ([1][0][0][0] / 0x0001), 44100 Hz, 1 channels, s32, 1411 kb/s\n",
      "   1.96 M-A:  0.000 fd=   0 aq=    0KB vq=    0KB sq=    0B f=0/0   \r"
     ]
    },
    {
     "name": "stdout",
     "output_type": "stream",
     "text": [
      "\n"
     ]
    },
    {
     "name": "stderr",
     "output_type": "stream",
     "text": [
      "Exception ignored in: <function Wave_write.__del__ at 0x7fb87446caf0>\n",
      "Traceback (most recent call last):\n",
      "  File \"/home/dan/miniconda3/envs/cjl/lib/python3.9/wave.py\", line 326, in __del__\n",
      "    self.close()\n",
      "  File \"/home/dan/miniconda3/envs/cjl/lib/python3.9/wave.py\", line 444, in close\n",
      "    self._ensure_header_written(0)\n",
      "  File \"/home/dan/miniconda3/envs/cjl/lib/python3.9/wave.py\", line 464, in _ensure_header_written\n",
      "    raise Error('sample width not specified')\n",
      "wave.Error: sample width not specified\n"
     ]
    },
    {
     "name": "stdout",
     "output_type": "stream",
     "text": [
      "Playing audio of k= 9\n",
      "ffmpeg is having trouble with this one\n",
      "Playing audio of k= 4\n"
     ]
    },
    {
     "name": "stderr",
     "output_type": "stream",
     "text": [
      "ffplay: /home/dan/miniconda3/envs/cjl/lib/libtinfo.so.6: no version information available (required by /lib/x86_64-linux-gnu/libcaca.so.0)\n",
      "ffplay: /home/dan/miniconda3/envs/cjl/lib/libncursesw.so.6: no version information available (required by /lib/x86_64-linux-gnu/libcaca.so.0)\n",
      "ffplay: /home/dan/miniconda3/envs/cjl/lib/libncursesw.so.6: no version information available (required by /lib/x86_64-linux-gnu/libcaca.so.0)\n",
      "Input #0, wav, from '/tmp/tmpptr_eyng.wav':   0KB sq=    0B f=0/0   \n",
      "  Duration: 00:00:02.00, bitrate: 1411 kb/s\n",
      "    Stream #0:0: Audio: pcm_s32le ([1][0][0][0] / 0x0001), 44100 Hz, 1 channels, s32, 1411 kb/s\n",
      "   1.95 M-A:  0.000 fd=   0 aq=    0KB vq=    0KB sq=    0B f=0/0   \r"
     ]
    },
    {
     "name": "stdout",
     "output_type": "stream",
     "text": [
      "\n",
      "Playing audio of k= 1\n"
     ]
    },
    {
     "name": "stderr",
     "output_type": "stream",
     "text": [
      "ffplay: /home/dan/miniconda3/envs/cjl/lib/libtinfo.so.6: no version information available (required by /lib/x86_64-linux-gnu/libcaca.so.0)\n",
      "ffplay: /home/dan/miniconda3/envs/cjl/lib/libncursesw.so.6: no version information available (required by /lib/x86_64-linux-gnu/libcaca.so.0)\n",
      "ffplay: /home/dan/miniconda3/envs/cjl/lib/libncursesw.so.6: no version information available (required by /lib/x86_64-linux-gnu/libcaca.so.0)\n",
      "Input #0, wav, from '/tmp/tmpo_r2fgin.wav':   0KB sq=    0B f=0/0   \n",
      "  Duration: 00:00:02.00, bitrate: 1411 kb/s\n",
      "    Stream #0:0: Audio: pcm_s32le ([1][0][0][0] / 0x0001), 44100 Hz, 1 channels, s32, 1411 kb/s\n",
      "   1.96 M-A:  0.000 fd=   0 aq=    0KB vq=    0KB sq=    0B f=0/0   \r"
     ]
    },
    {
     "name": "stdout",
     "output_type": "stream",
     "text": [
      "\n",
      "Entering Cluster Trainwheelssquealing\n",
      "Playing audio of k= 7\n"
     ]
    },
    {
     "name": "stderr",
     "output_type": "stream",
     "text": [
      "ffplay: /home/dan/miniconda3/envs/cjl/lib/libtinfo.so.6: no version information available (required by /lib/x86_64-linux-gnu/libcaca.so.0)\n",
      "ffplay: /home/dan/miniconda3/envs/cjl/lib/libncursesw.so.6: no version information available (required by /lib/x86_64-linux-gnu/libcaca.so.0)\n",
      "ffplay: /home/dan/miniconda3/envs/cjl/lib/libncursesw.so.6: no version information available (required by /lib/x86_64-linux-gnu/libcaca.so.0)\n",
      "Input #0, wav, from '/tmp/tmpjsgy3pbv.wav':   0KB sq=    0B f=0/0   \n",
      "  Duration: 00:00:02.00, bitrate: 1411 kb/s\n",
      "    Stream #0:0: Audio: pcm_s32le ([1][0][0][0] / 0x0001), 44100 Hz, 1 channels, s32, 1411 kb/s\n",
      "   1.95 M-A:  0.000 fd=   0 aq=    0KB vq=    0KB sq=    0B f=0/0   \r"
     ]
    },
    {
     "name": "stdout",
     "output_type": "stream",
     "text": [
      "\n",
      "Playing audio of k= 6\n"
     ]
    },
    {
     "name": "stderr",
     "output_type": "stream",
     "text": [
      "ffplay: /home/dan/miniconda3/envs/cjl/lib/libtinfo.so.6: no version information available (required by /lib/x86_64-linux-gnu/libcaca.so.0)\n",
      "ffplay: /home/dan/miniconda3/envs/cjl/lib/libncursesw.so.6: no version information available (required by /lib/x86_64-linux-gnu/libcaca.so.0)\n",
      "ffplay: /home/dan/miniconda3/envs/cjl/lib/libncursesw.so.6: no version information available (required by /lib/x86_64-linux-gnu/libcaca.so.0)\n",
      "Input #0, wav, from '/tmp/tmpp32nutag.wav':   0KB sq=    0B f=0/0   \n",
      "  Duration: 00:00:02.00, bitrate: 1411 kb/s\n",
      "    Stream #0:0: Audio: pcm_s32le ([1][0][0][0] / 0x0001), 44100 Hz, 1 channels, s32, 1411 kb/s\n",
      "   1.96 M-A:  0.000 fd=   0 aq=    0KB vq=    0KB sq=    0B f=0/0   \r"
     ]
    },
    {
     "name": "stdout",
     "output_type": "stream",
     "text": [
      "\n",
      "Entering Cluster Bus\n",
      "Playing audio of k= 1\n"
     ]
    },
    {
     "name": "stderr",
     "output_type": "stream",
     "text": [
      "ffplay: /home/dan/miniconda3/envs/cjl/lib/libtinfo.so.6: no version information available (required by /lib/x86_64-linux-gnu/libcaca.so.0)\n",
      "ffplay: /home/dan/miniconda3/envs/cjl/lib/libncursesw.so.6: no version information available (required by /lib/x86_64-linux-gnu/libcaca.so.0)\n",
      "ffplay: /home/dan/miniconda3/envs/cjl/lib/libncursesw.so.6: no version information available (required by /lib/x86_64-linux-gnu/libcaca.so.0)\n",
      "Input #0, wav, from '/tmp/tmpy5hsaouk.wav':   0KB sq=    0B f=0/0   \n",
      "  Duration: 00:00:02.00, bitrate: 1411 kb/s\n",
      "    Stream #0:0: Audio: pcm_s32le ([1][0][0][0] / 0x0001), 44100 Hz, 1 channels, s32, 1411 kb/s\n",
      "   1.95 M-A:  0.000 fd=   0 aq=    0KB vq=    0KB sq=    0B f=0/0   \r"
     ]
    },
    {
     "name": "stdout",
     "output_type": "stream",
     "text": [
      "\n",
      "Playing audio of k= 2\n"
     ]
    },
    {
     "name": "stderr",
     "output_type": "stream",
     "text": [
      "ffplay: /home/dan/miniconda3/envs/cjl/lib/libtinfo.so.6: no version information available (required by /lib/x86_64-linux-gnu/libcaca.so.0)\n",
      "ffplay: /home/dan/miniconda3/envs/cjl/lib/libncursesw.so.6: no version information available (required by /lib/x86_64-linux-gnu/libcaca.so.0)\n",
      "ffplay: /home/dan/miniconda3/envs/cjl/lib/libncursesw.so.6: no version information available (required by /lib/x86_64-linux-gnu/libcaca.so.0)\n",
      "Input #0, wav, from '/tmp/tmpb_9ah68q.wav':   0KB sq=    0B f=0/0   \n",
      "  Duration: 00:00:02.00, bitrate: 1411 kb/s\n",
      "    Stream #0:0: Audio: pcm_s32le ([1][0][0][0] / 0x0001), 44100 Hz, 1 channels, s32, 1411 kb/s\n",
      "   1.96 M-A:  0.000 fd=   0 aq=    0KB vq=    0KB sq=    0B f=0/0   \r"
     ]
    },
    {
     "name": "stdout",
     "output_type": "stream",
     "text": [
      "\n",
      "Playing audio of k= 6\n"
     ]
    },
    {
     "name": "stderr",
     "output_type": "stream",
     "text": [
      "ffplay: /home/dan/miniconda3/envs/cjl/lib/libtinfo.so.6: no version information available (required by /lib/x86_64-linux-gnu/libcaca.so.0)\n",
      "ffplay: /home/dan/miniconda3/envs/cjl/lib/libncursesw.so.6: no version information available (required by /lib/x86_64-linux-gnu/libcaca.so.0)\n",
      "ffplay: /home/dan/miniconda3/envs/cjl/lib/libncursesw.so.6: no version information available (required by /lib/x86_64-linux-gnu/libcaca.so.0)\n",
      "Input #0, wav, from '/tmp/tmp05pptfpb.wav':   0KB sq=    0B f=0/0   \n",
      "  Duration: 00:00:02.00, bitrate: 1411 kb/s\n",
      "    Stream #0:0: Audio: pcm_s32le ([1][0][0][0] / 0x0001), 44100 Hz, 1 channels, s32, 1411 kb/s\n",
      "   1.95 M-A:  0.000 fd=   0 aq=    0KB vq=    0KB sq=    0B f=0/0   \r"
     ]
    },
    {
     "name": "stdout",
     "output_type": "stream",
     "text": [
      "\n",
      "Playing audio of k= 5\n"
     ]
    },
    {
     "name": "stderr",
     "output_type": "stream",
     "text": [
      "ffplay: /home/dan/miniconda3/envs/cjl/lib/libtinfo.so.6: no version information available (required by /lib/x86_64-linux-gnu/libcaca.so.0)\n",
      "ffplay: /home/dan/miniconda3/envs/cjl/lib/libncursesw.so.6: no version information available (required by /lib/x86_64-linux-gnu/libcaca.so.0)\n",
      "ffplay: /home/dan/miniconda3/envs/cjl/lib/libncursesw.so.6: no version information available (required by /lib/x86_64-linux-gnu/libcaca.so.0)\n",
      "Input #0, wav, from '/tmp/tmp2fi4n4ry.wav':   0KB sq=    0B f=0/0   \n",
      "  Duration: 00:00:02.00, bitrate: 1411 kb/s\n",
      "    Stream #0:0: Audio: pcm_s32le ([1][0][0][0] / 0x0001), 44100 Hz, 1 channels, s32, 1411 kb/s\n",
      "   1.96 M-A:  0.000 fd=   0 aq=    0KB vq=    0KB sq=    0B f=0/0   \r"
     ]
    },
    {
     "name": "stdout",
     "output_type": "stream",
     "text": [
      "\n",
      "Playing audio of k= 9\n"
     ]
    },
    {
     "name": "stderr",
     "output_type": "stream",
     "text": [
      "ffplay: /home/dan/miniconda3/envs/cjl/lib/libtinfo.so.6: no version information available (required by /lib/x86_64-linux-gnu/libcaca.so.0)\n",
      "ffplay: /home/dan/miniconda3/envs/cjl/lib/libncursesw.so.6: no version information available (required by /lib/x86_64-linux-gnu/libcaca.so.0)\n",
      "ffplay: /home/dan/miniconda3/envs/cjl/lib/libncursesw.so.6: no version information available (required by /lib/x86_64-linux-gnu/libcaca.so.0)\n",
      "Input #0, wav, from '/tmp/tmpqm5gjan9.wav':   0KB sq=    0B f=0/0   \n",
      "  Duration: 00:00:02.00, bitrate: 1411 kb/s\n",
      "    Stream #0:0: Audio: pcm_s32le ([1][0][0][0] / 0x0001), 44100 Hz, 1 channels, s32, 1411 kb/s\n",
      "   1.97 M-A:  0.000 fd=   0 aq=    0KB vq=    0KB sq=    0B f=0/0   \r"
     ]
    },
    {
     "name": "stdout",
     "output_type": "stream",
     "text": [
      "\n",
      "Playing audio of k= 4\n"
     ]
    },
    {
     "name": "stderr",
     "output_type": "stream",
     "text": [
      "ffplay: /home/dan/miniconda3/envs/cjl/lib/libtinfo.so.6: no version information available (required by /lib/x86_64-linux-gnu/libcaca.so.0)\n",
      "ffplay: /home/dan/miniconda3/envs/cjl/lib/libncursesw.so.6: no version information available (required by /lib/x86_64-linux-gnu/libcaca.so.0)\n",
      "ffplay: /home/dan/miniconda3/envs/cjl/lib/libncursesw.so.6: no version information available (required by /lib/x86_64-linux-gnu/libcaca.so.0)\n",
      "Input #0, wav, from '/tmp/tmpzmsjfayl.wav':   0KB sq=    0B f=0/0   \n",
      "  Duration: 00:00:02.00, bitrate: 1411 kb/s\n",
      "    Stream #0:0: Audio: pcm_s32le ([1][0][0][0] / 0x0001), 44100 Hz, 1 channels, s32, 1411 kb/s\n",
      "   1.95 M-A:  0.000 fd=   0 aq=    0KB vq=    0KB sq=    0B f=0/0   \r"
     ]
    },
    {
     "name": "stdout",
     "output_type": "stream",
     "text": [
      "\n"
     ]
    },
    {
     "name": "stderr",
     "output_type": "stream",
     "text": [
      "Exception ignored in: <function Wave_write.__del__ at 0x7fb87446caf0>\n",
      "Traceback (most recent call last):\n",
      "  File \"/home/dan/miniconda3/envs/cjl/lib/python3.9/wave.py\", line 326, in __del__\n",
      "    self.close()\n",
      "  File \"/home/dan/miniconda3/envs/cjl/lib/python3.9/wave.py\", line 444, in close\n",
      "    self._ensure_header_written(0)\n",
      "  File \"/home/dan/miniconda3/envs/cjl/lib/python3.9/wave.py\", line 464, in _ensure_header_written\n",
      "    raise Error('sample width not specified')\n",
      "wave.Error: sample width not specified\n"
     ]
    },
    {
     "name": "stdout",
     "output_type": "stream",
     "text": [
      "Playing audio of k= 7\n",
      "ffmpeg is having trouble with this one\n"
     ]
    },
    {
     "name": "stderr",
     "output_type": "stream",
     "text": [
      "Exception ignored in: <function Wave_write.__del__ at 0x7fb87446caf0>\n",
      "Traceback (most recent call last):\n",
      "  File \"/home/dan/miniconda3/envs/cjl/lib/python3.9/wave.py\", line 326, in __del__\n",
      "    self.close()\n",
      "  File \"/home/dan/miniconda3/envs/cjl/lib/python3.9/wave.py\", line 444, in close\n",
      "    self._ensure_header_written(0)\n",
      "  File \"/home/dan/miniconda3/envs/cjl/lib/python3.9/wave.py\", line 464, in _ensure_header_written\n",
      "    raise Error('sample width not specified')\n",
      "wave.Error: sample width not specified\n"
     ]
    },
    {
     "name": "stdout",
     "output_type": "stream",
     "text": [
      "Playing audio of k= 3\n",
      "ffmpeg is having trouble with this one\n",
      "Entering Cluster Lightengine(highfrequency)\n",
      "Playing audio of k= 2\n"
     ]
    },
    {
     "name": "stderr",
     "output_type": "stream",
     "text": [
      "ffplay: /home/dan/miniconda3/envs/cjl/lib/libtinfo.so.6: no version information available (required by /lib/x86_64-linux-gnu/libcaca.so.0)\n",
      "ffplay: /home/dan/miniconda3/envs/cjl/lib/libncursesw.so.6: no version information available (required by /lib/x86_64-linux-gnu/libcaca.so.0)\n",
      "ffplay: /home/dan/miniconda3/envs/cjl/lib/libncursesw.so.6: no version information available (required by /lib/x86_64-linux-gnu/libcaca.so.0)\n",
      "Input #0, wav, from '/tmp/tmp0687qwkx.wav':   0KB sq=    0B f=0/0   \n",
      "  Duration: 00:00:02.00, bitrate: 1411 kb/s\n",
      "    Stream #0:0: Audio: pcm_s32le ([1][0][0][0] / 0x0001), 44100 Hz, 1 channels, s32, 1411 kb/s\n",
      "   1.96 M-A:  0.000 fd=   0 aq=    0KB vq=    0KB sq=    0B f=0/0   \r"
     ]
    },
    {
     "name": "stdout",
     "output_type": "stream",
     "text": [
      "\n",
      "Playing audio of k= 1\n"
     ]
    },
    {
     "name": "stderr",
     "output_type": "stream",
     "text": [
      "ffplay: /home/dan/miniconda3/envs/cjl/lib/libtinfo.so.6: no version information available (required by /lib/x86_64-linux-gnu/libcaca.so.0)\n",
      "ffplay: /home/dan/miniconda3/envs/cjl/lib/libncursesw.so.6: no version information available (required by /lib/x86_64-linux-gnu/libcaca.so.0)\n",
      "ffplay: /home/dan/miniconda3/envs/cjl/lib/libncursesw.so.6: no version information available (required by /lib/x86_64-linux-gnu/libcaca.so.0)\n",
      "Input #0, wav, from '/tmp/tmpzttbx34m.wav':   0KB sq=    0B f=0/0   \n",
      "  Duration: 00:00:02.00, bitrate: 1411 kb/s\n",
      "    Stream #0:0: Audio: pcm_s32le ([1][0][0][0] / 0x0001), 44100 Hz, 1 channels, s32, 1411 kb/s\n",
      "   1.95 M-A:  0.000 fd=   0 aq=    0KB vq=    0KB sq=    0B f=0/0   \r"
     ]
    },
    {
     "name": "stdout",
     "output_type": "stream",
     "text": [
      "\n",
      "Playing audio of k= 0\n"
     ]
    },
    {
     "name": "stderr",
     "output_type": "stream",
     "text": [
      "ffplay: /home/dan/miniconda3/envs/cjl/lib/libtinfo.so.6: no version information available (required by /lib/x86_64-linux-gnu/libcaca.so.0)\n",
      "ffplay: /home/dan/miniconda3/envs/cjl/lib/libncursesw.so.6: no version information available (required by /lib/x86_64-linux-gnu/libcaca.so.0)\n",
      "ffplay: /home/dan/miniconda3/envs/cjl/lib/libncursesw.so.6: no version information available (required by /lib/x86_64-linux-gnu/libcaca.so.0)\n",
      "Input #0, wav, from '/tmp/tmp09q7nfem.wav':   0KB sq=    0B f=0/0   \n",
      "  Duration: 00:00:02.00, bitrate: 1411 kb/s\n",
      "    Stream #0:0: Audio: pcm_s32le ([1][0][0][0] / 0x0001), 44100 Hz, 1 channels, s32, 1411 kb/s\n",
      "   1.96 M-A:  0.000 fd=   0 aq=    0KB vq=    0KB sq=    0B f=0/0   \r"
     ]
    },
    {
     "name": "stdout",
     "output_type": "stream",
     "text": [
      "\n",
      "Entering Cluster Fixed-wingaircraft_airplane\n",
      "Playing audio of k= 6\n"
     ]
    },
    {
     "name": "stderr",
     "output_type": "stream",
     "text": [
      "ffplay: /home/dan/miniconda3/envs/cjl/lib/libtinfo.so.6: no version information available (required by /lib/x86_64-linux-gnu/libcaca.so.0)\n",
      "ffplay: /home/dan/miniconda3/envs/cjl/lib/libncursesw.so.6: no version information available (required by /lib/x86_64-linux-gnu/libcaca.so.0)\n",
      "ffplay: /home/dan/miniconda3/envs/cjl/lib/libncursesw.so.6: no version information available (required by /lib/x86_64-linux-gnu/libcaca.so.0)\n",
      "Input #0, wav, from '/tmp/tmpa6az72_q.wav':   0KB sq=    0B f=0/0   \n",
      "  Duration: 00:00:02.00, bitrate: 1411 kb/s\n",
      "    Stream #0:0: Audio: pcm_s32le ([1][0][0][0] / 0x0001), 44100 Hz, 1 channels, s32, 1411 kb/s\n",
      "   1.96 M-A: -0.000 fd=   0 aq=    0KB vq=    0KB sq=    0B f=0/0   \r"
     ]
    },
    {
     "name": "stdout",
     "output_type": "stream",
     "text": [
      "\n",
      "Playing audio of k= 2\n"
     ]
    },
    {
     "name": "stderr",
     "output_type": "stream",
     "text": [
      "ffplay: /home/dan/miniconda3/envs/cjl/lib/libtinfo.so.6: no version information available (required by /lib/x86_64-linux-gnu/libcaca.so.0)\n",
      "ffplay: /home/dan/miniconda3/envs/cjl/lib/libncursesw.so.6: no version information available (required by /lib/x86_64-linux-gnu/libcaca.so.0)\n",
      "ffplay: /home/dan/miniconda3/envs/cjl/lib/libncursesw.so.6: no version information available (required by /lib/x86_64-linux-gnu/libcaca.so.0)\n",
      "Input #0, wav, from '/tmp/tmprp6532mx.wav':   0KB sq=    0B f=0/0   \n",
      "  Duration: 00:00:02.00, bitrate: 1411 kb/s\n",
      "    Stream #0:0: Audio: pcm_s32le ([1][0][0][0] / 0x0001), 44100 Hz, 1 channels, s32, 1411 kb/s\n",
      "   1.95 M-A:  0.000 fd=   0 aq=    0KB vq=    0KB sq=    0B f=0/0   \r"
     ]
    },
    {
     "name": "stdout",
     "output_type": "stream",
     "text": [
      "\n",
      "Playing audio of k= 8\n"
     ]
    },
    {
     "name": "stderr",
     "output_type": "stream",
     "text": [
      "ffplay: /home/dan/miniconda3/envs/cjl/lib/libtinfo.so.6: no version information available (required by /lib/x86_64-linux-gnu/libcaca.so.0)\n",
      "ffplay: /home/dan/miniconda3/envs/cjl/lib/libncursesw.so.6: no version information available (required by /lib/x86_64-linux-gnu/libcaca.so.0)\n",
      "ffplay: /home/dan/miniconda3/envs/cjl/lib/libncursesw.so.6: no version information available (required by /lib/x86_64-linux-gnu/libcaca.so.0)\n",
      "Input #0, wav, from '/tmp/tmppepc2_dy.wav':   0KB sq=    0B f=0/0   \n",
      "  Duration: 00:00:02.00, bitrate: 1411 kb/s\n",
      "    Stream #0:0: Audio: pcm_s32le ([1][0][0][0] / 0x0001), 44100 Hz, 1 channels, s32, 1411 kb/s\n",
      "   1.94 M-A:  0.000 fd=   0 aq=    0KB vq=    0KB sq=    0B f=0/0   \r"
     ]
    },
    {
     "name": "stdout",
     "output_type": "stream",
     "text": [
      "\n",
      "Entering Cluster Trafficnoise_roadwaynoise\n",
      "Playing audio of k= 8\n"
     ]
    },
    {
     "name": "stderr",
     "output_type": "stream",
     "text": [
      "ffplay: /home/dan/miniconda3/envs/cjl/lib/libtinfo.so.6: no version information available (required by /lib/x86_64-linux-gnu/libcaca.so.0)\n",
      "ffplay: /home/dan/miniconda3/envs/cjl/lib/libncursesw.so.6: no version information available (required by /lib/x86_64-linux-gnu/libcaca.so.0)\n",
      "ffplay: /home/dan/miniconda3/envs/cjl/lib/libncursesw.so.6: no version information available (required by /lib/x86_64-linux-gnu/libcaca.so.0)\n",
      "Input #0, wav, from '/tmp/tmpzcv8s6_p.wav':   0KB sq=    0B f=0/0   \n",
      "  Duration: 00:00:02.00, bitrate: 1411 kb/s\n",
      "    Stream #0:0: Audio: pcm_s32le ([1][0][0][0] / 0x0001), 44100 Hz, 1 channels, s32, 1411 kb/s\n",
      "   1.96 M-A:  0.000 fd=   0 aq=    0KB vq=    0KB sq=    0B f=0/0   \r"
     ]
    },
    {
     "name": "stdout",
     "output_type": "stream",
     "text": [
      "\n",
      "Playing audio of k= 0\n"
     ]
    },
    {
     "name": "stderr",
     "output_type": "stream",
     "text": [
      "ffplay: /home/dan/miniconda3/envs/cjl/lib/libtinfo.so.6: no version information available (required by /lib/x86_64-linux-gnu/libcaca.so.0)\n",
      "ffplay: /home/dan/miniconda3/envs/cjl/lib/libncursesw.so.6: no version information available (required by /lib/x86_64-linux-gnu/libcaca.so.0)\n",
      "ffplay: /home/dan/miniconda3/envs/cjl/lib/libncursesw.so.6: no version information available (required by /lib/x86_64-linux-gnu/libcaca.so.0)\n",
      "Input #0, wav, from '/tmp/tmpoi00quyt.wav':   0KB sq=    0B f=0/0   \n",
      "  Duration: 00:00:02.00, bitrate: 1411 kb/s\n",
      "    Stream #0:0: Audio: pcm_s32le ([1][0][0][0] / 0x0001), 44100 Hz, 1 channels, s32, 1411 kb/s\n",
      "   1.95 M-A:  0.000 fd=   0 aq=    0KB vq=    0KB sq=    0B f=0/0   \r"
     ]
    },
    {
     "name": "stdout",
     "output_type": "stream",
     "text": [
      "\n",
      "Playing audio of k= 0\n"
     ]
    },
    {
     "name": "stderr",
     "output_type": "stream",
     "text": [
      "ffplay: /home/dan/miniconda3/envs/cjl/lib/libtinfo.so.6: no version information available (required by /lib/x86_64-linux-gnu/libcaca.so.0)\n",
      "ffplay: /home/dan/miniconda3/envs/cjl/lib/libncursesw.so.6: no version information available (required by /lib/x86_64-linux-gnu/libcaca.so.0)\n",
      "ffplay: /home/dan/miniconda3/envs/cjl/lib/libncursesw.so.6: no version information available (required by /lib/x86_64-linux-gnu/libcaca.so.0)\n",
      "Input #0, wav, from '/tmp/tmplr3ucm8w.wav':   0KB sq=    0B f=0/0   \n",
      "  Duration: 00:00:02.00, bitrate: 1411 kb/s\n",
      "    Stream #0:0: Audio: pcm_s32le ([1][0][0][0] / 0x0001), 44100 Hz, 1 channels, s32, 1411 kb/s\n",
      "   1.95 M-A:  0.000 fd=   0 aq=    0KB vq=    0KB sq=    0B f=0/0   \r"
     ]
    },
    {
     "name": "stdout",
     "output_type": "stream",
     "text": [
      "\n",
      "Playing audio of k= 7\n"
     ]
    },
    {
     "name": "stderr",
     "output_type": "stream",
     "text": [
      "ffplay: /home/dan/miniconda3/envs/cjl/lib/libtinfo.so.6: no version information available (required by /lib/x86_64-linux-gnu/libcaca.so.0)\n",
      "ffplay: /home/dan/miniconda3/envs/cjl/lib/libncursesw.so.6: no version information available (required by /lib/x86_64-linux-gnu/libcaca.so.0)\n",
      "ffplay: /home/dan/miniconda3/envs/cjl/lib/libncursesw.so.6: no version information available (required by /lib/x86_64-linux-gnu/libcaca.so.0)\n",
      "Input #0, wav, from '/tmp/tmpcnffzcml.wav':   0KB sq=    0B f=0/0   \n",
      "  Duration: 00:00:02.00, bitrate: 1411 kb/s\n",
      "    Stream #0:0: Audio: pcm_s32le ([1][0][0][0] / 0x0001), 44100 Hz, 1 channels, s32, 1411 kb/s\n",
      "   1.95 M-A:  0.000 fd=   0 aq=    0KB vq=    0KB sq=    0B f=0/0   \r"
     ]
    },
    {
     "name": "stdout",
     "output_type": "stream",
     "text": [
      "\n",
      "Entering Cluster Carpassingby\n"
     ]
    },
    {
     "name": "stderr",
     "output_type": "stream",
     "text": [
      "Exception ignored in: <function Wave_write.__del__ at 0x7fb87446caf0>\n",
      "Traceback (most recent call last):\n",
      "  File \"/home/dan/miniconda3/envs/cjl/lib/python3.9/wave.py\", line 326, in __del__\n",
      "    self.close()\n",
      "  File \"/home/dan/miniconda3/envs/cjl/lib/python3.9/wave.py\", line 444, in close\n",
      "    self._ensure_header_written(0)\n",
      "  File \"/home/dan/miniconda3/envs/cjl/lib/python3.9/wave.py\", line 464, in _ensure_header_written\n",
      "    raise Error('sample width not specified')\n",
      "wave.Error: sample width not specified\n"
     ]
    },
    {
     "name": "stdout",
     "output_type": "stream",
     "text": [
      "Playing audio of k= 1\n",
      "ffmpeg is having trouble with this one\n"
     ]
    },
    {
     "name": "stderr",
     "output_type": "stream",
     "text": [
      "Exception ignored in: <function Wave_write.__del__ at 0x7fb87446caf0>\n",
      "Traceback (most recent call last):\n",
      "  File \"/home/dan/miniconda3/envs/cjl/lib/python3.9/wave.py\", line 326, in __del__\n",
      "    self.close()\n",
      "  File \"/home/dan/miniconda3/envs/cjl/lib/python3.9/wave.py\", line 444, in close\n",
      "    self._ensure_header_written(0)\n",
      "  File \"/home/dan/miniconda3/envs/cjl/lib/python3.9/wave.py\", line 464, in _ensure_header_written\n",
      "    raise Error('sample width not specified')\n",
      "wave.Error: sample width not specified\n"
     ]
    },
    {
     "name": "stdout",
     "output_type": "stream",
     "text": [
      "Playing audio of k= 5\n",
      "ffmpeg is having trouble with this one\n",
      "Playing audio of k= 9\n"
     ]
    },
    {
     "name": "stderr",
     "output_type": "stream",
     "text": [
      "ffplay: /home/dan/miniconda3/envs/cjl/lib/libtinfo.so.6: no version information available (required by /lib/x86_64-linux-gnu/libcaca.so.0)\n",
      "ffplay: /home/dan/miniconda3/envs/cjl/lib/libncursesw.so.6: no version information available (required by /lib/x86_64-linux-gnu/libcaca.so.0)\n",
      "ffplay: /home/dan/miniconda3/envs/cjl/lib/libncursesw.so.6: no version information available (required by /lib/x86_64-linux-gnu/libcaca.so.0)\n",
      "Input #0, wav, from '/tmp/tmp7riww0r_.wav':   0KB sq=    0B f=0/0   \n",
      "  Duration: 00:00:02.00, bitrate: 1411 kb/s\n",
      "    Stream #0:0: Audio: pcm_s32le ([1][0][0][0] / 0x0001), 44100 Hz, 1 channels, s32, 1411 kb/s\n",
      "   1.94 M-A:  0.000 fd=   0 aq=    0KB vq=    0KB sq=    0B f=0/0   \r"
     ]
    },
    {
     "name": "stdout",
     "output_type": "stream",
     "text": [
      "\n",
      "Entering Cluster Railroadcar_trainwagon\n",
      "['Motorcycle', 'Airbrake', 'Vehiclehorn_carhorn_honking', 'Tiresqueal', 'Motorboat_speedboat', 'Airhorn_truckhorn', 'Racecar_autoracing', 'Heavyengine(lowfrequency)', 'Mediumengine(midfrequency)', 'Caralarm', 'Helicopter', 'Trainwheelssquealing', 'Bus', 'Lightengine(highfrequency)', 'Fixed-wingaircraft_airplane', 'Trafficnoise_roadwaynoise', 'Carpassingby', 'Railroadcar_trainwagon']\n"
     ]
    }
   ],
   "source": [
    "#genGUI.py\n",
    "#Generator Viewer\n",
    "\n",
    "import io\n",
    "import os\n",
    "import scipy.io.wavfile\n",
    "from scipy import signal\n",
    "from pathlib import Path\n",
    "import numpy as np\n",
    "import pandas as pd\n",
    "from pydub.playback import play\n",
    "from pydub import AudioSegment\n",
    "import ipywidgets as widgets\n",
    "from ipywidgets import interact\n",
    "from tkinter import *\n",
    "from tkinter import ttk\n",
    "from tkinter.ttk import *\n",
    "from IPython.display import display\n",
    "from IPython.display import Image\n",
    "data_folder=\"data\"\n",
    "mp4s_folder=data_folder+\"/downloads/audio_set_mp4s\"\n",
    "npys_folder=data_folder+\"/npys/audio_set_npys\"\n",
    "GUI_folder=data_folder+\"/GUI\"\n",
    "images_folder=GUI_folder+\"/gen_images\"\n",
    "\n",
    "classes = [\"Motorboat_speedboat\",\"Racecar_autoracing\",\"Carpassingby\",\"Tiresqueal\",\"Caralarm\",\"Vehiclehorn_carhorn_honking\",\"Airbrake\",\"Airhorn_truckhorn\",\"Bus\",\"Motorcycle\",\"Trafficnoise_roadwaynoise\",\"Railroadcar_trainwagon\",\"Trainwheelssquealing\",\"Helicopter\",\"Fixed-wingaircraft_airplane\",\"Lightengine(highfrequency)\",\"Mediumengine(midfrequency)\",\"Heavyengine(lowfrequency)\"]\n",
    "\n",
    "ls=np.load(GUI_folder+'/gen_ls.npy')\n",
    "sps=np.load(GUI_folder+'/gen_startpoints.npy')\n",
    "pdict=np.load(GUI_folder+'/gen_pdict.npy',allow_pickle=True).item()\n",
    "\n",
    "files_labels_times_raw = pd.read_csv('clean_download.csv')[['segment_id','name','time_interval']].to_numpy()\n",
    "files_raw=[npys_folder+'/'+files_labels_times_raw[:,0][i]+'_'+str(pdict['r_smp'])+'.npy' for i in range(len(files_labels_times_raw))]\n",
    "pop_arr=np.load('more/pop_arr.npy')\n",
    "[files_raw.pop(i) for i in pop_arr]\n",
    "\n",
    "lb,ub=0,400\n",
    "smallFilenames=files_raw[lb:ub]\n",
    "smallData=[np.load(f) for f in smallFilenames]\n",
    "\n",
    "w_sec=pdict['w_sec'] #44100*2\n",
    "kinp=[pdict['numK'] for i in range(pdict['numP'])]\n",
    "def returnAudioSegment(data_array,startpoints,iP,iK,window_size):  #red is a reduction int where say red is 2, this takes every 2nd sample then thus halving the size of the data, the sample rate adjusts accordingly as well\n",
    "    dind,sind=startpoints[(sum(kinp[:iP])+iK)*2],startpoints[(sum(kinp[:iP])+iK)*2+1]   #replaced iP*nK with sum(kinp[:iP])\n",
    "    seg=data_array[dind][sind:sind+int(window_size*pdict['r_smp']),0]\n",
    "    wav_io = io.BytesIO()\n",
    "    scipy.io.wavfile.write(wav_io, pdict['r_smp'], seg)     #creates a quick audio snippet out of the segment\n",
    "    wav_io.seek(0)\n",
    "    return AudioSegment.from_wav(wav_io)  #returns an AudioSegment object for us to work with easily\n",
    "\n",
    "LARGE_FONT= (\"Verdana\", 12)\n",
    "nP=len(kinp)   #We need an nP which is the number of different clusters we want to look at in this case\n",
    "iP=0           #current cluster\n",
    "initial=True   #boolean for startup\n",
    "clusterNames=[classes[ls[cni*pdict['numK']]] for cni in range(nP)]\n",
    "\n",
    "class App(Tk):\n",
    "\n",
    "    def __init__(self, *args, **kwargs):\n",
    "        Tk.__init__(self, *args, **kwargs)\n",
    "        self.title('Cluster Viewer 9000')\n",
    "        container = Frame(self)\n",
    "        container.pack(side=\"top\", fill=\"both\", expand = True)\n",
    "        container.grid_rowconfigure(0, weight=1)\n",
    "        container.grid_columnconfigure(0, weight=1)\n",
    "        self.frames = {}\n",
    "\n",
    "        for F in (StartPage, ClusteriP):\n",
    "            frame = F(container, self)\n",
    "            self.frames[F] = frame\n",
    "            frame.grid(row=0, column=0, sticky=\"nsew\")\n",
    "\n",
    "        if initial:\n",
    "            self.show_frame(StartPage)    #So I had to make it restart everytime on ClusteriP in order for it to refresh to the correct cluster number iP\n",
    "        else:                             #but this meant we would start the first time on the ClusteriP page so I made this boolean initial to say whether this is the first\n",
    "            self.show_frame(ClusteriP)    #start or not and set it to false as soon as a StartPage button is pushed\n",
    "\n",
    "    def show_frame(self, cont):\n",
    "        frame = self.frames[cont]\n",
    "        frame.tkraise()\n",
    "\n",
    "class StartPage(Frame):          #This viewer is the main screen and shows all the different clusters we can enter to look at\n",
    "\n",
    "    def __init__(self, parent, controller):\n",
    "        Frame.__init__(self,parent)\n",
    "        label = Label(self, text=\"Start Page\", font=LARGE_FONT)\n",
    "        label.pack(pady=10,padx=10)\n",
    "        buttonP_dict={}\n",
    "        for p in range(nP):\n",
    "\n",
    "            buttonP_dict[p] = Button(self, text=\"Visit Cluster: \"+clusterNames[p],command=lambda p=p:[self.buttonPCallback(p),refresh()])#controller.show_frame(ClusteriP)])\n",
    "            buttonP_dict[p].pack()\n",
    "\n",
    "    def buttonPCallback(self,h):\n",
    "        global iP,initial\n",
    "        initial=False\n",
    "        iP=h\n",
    "        print(\"Entering Cluster \"+clusterNames[iP])\n",
    "class ClusteriP(Frame):           #This frame is our individual cluster viewer and changes depending on which cluster we are entering.\n",
    "\n",
    "    def __init__(self, parent, controller):\n",
    "        Frame.__init__(self, parent)\n",
    "        label = Label(self, text=\"Cluster: \"+clusterNames[iP], font=LARGE_FONT)\n",
    "        label.grid(row=0,column=0)\n",
    "\n",
    "\n",
    "        def nameCluster(name):\n",
    "            name = name_C.get()\n",
    "            global clusterNames\n",
    "            clusterNames[iP]=name\n",
    "            print(\"New Name is: \"+name)\n",
    "        nRow=4                                 #I list everything in columns like this 1 3 5  and nRow is the number of rows (in this example it's 2)\n",
    "        buttonK_dict={}                        #                                       2 4 6         I did this because window sizes differ a lot so instead of making one standard program window I made it scalable\n",
    "        self.photoK_dict={}\n",
    "        audios=[]\n",
    "        for k in range(kinp[iP]):\n",
    "            audios.append(returnAudioSegment(smallData,sps,iP,k,w_sec))  #replaced bigData with x\n",
    "            def buttonKCallback(m=k): #sum(kinp[0:iP])+k): #This is a little clumsy but it works in the loop for now. in StartPage you can see that button callback is a bit more elegantly defined so if we get any errors we may want to do the same with this later\n",
    "                print(\"Playing audio of k= \"+str(m))\n",
    "                #print(\"k,p=\",m,iP)\n",
    "                #print(\"dind,sind=\",sps[(sum(kinp[:iP])+m)*2],sps[(sum(kinp[:iP])+m)*2+1])\n",
    "                #print(\"len of file:\",len(smallData[sps[(sum(kinp[:iP])+m)*2]]))\n",
    "                try:\n",
    "                    play(audios[m])\n",
    "                except:\n",
    "                    print(\"ffmpeg is having trouble with this one\")\n",
    "                    #play(AudioSegment.from_file(files_raw[sps[(sum(kinp[:iP])+m)*2]], \"mp4\"))\n",
    "            self.photoK_dict[k]=PhotoImage(file=images_folder+\"/\"+str(sum(kinp[0:iP])+k)+\".png\")      #This will occasionally give an error that it can't find \"pyimage304\" or something crazy which is something internal to tk.photoimage so I just run another cell calling that method and it works itself out\n",
    "            buttonK_dict[k] = Button(self, image=self.photoK_dict[k],command=buttonKCallback)\n",
    "            buttonK_dict[k].grid(row=1+(k%nRow),column=int(k/nRow))\n",
    "            #print(\"loaded \"+str(sum(kinp[0:w])+k)+\".png\")\n",
    "        Label(self, text = 'New Cluster Name:', font = LARGE_FONT).grid(row=nRow+2,column=0)\n",
    "        name_C = Entry(self)\n",
    "        name_C.bind('<Return>',nameCluster)\n",
    "        name_C.grid(row=nRow+2,column=1)\n",
    "        homeButton = Button(self, text=\"Return to Start Page\",command=lambda:controller.show_frame(StartPage))\n",
    "        homeButton.grid(row=nRow+3,column=0)\n",
    "        nextP=iP+1\n",
    "        if nextP==nP:\n",
    "            nextP=0\n",
    "        nextCButton = Button(self, text=\"Next Cluster\",command=lambda:[StartPage.buttonPCallback(self,nextP),refresh()])\n",
    "        nextCButton.grid(row=nRow+4,column=0)\n",
    "\n",
    "\n",
    "\n",
    "def vp_start_gui():\n",
    "    global app\n",
    "    app = App()\n",
    "    app.mainloop()\n",
    "\n",
    "\n",
    "if __name__ == '__main__':\n",
    "    def refresh():\n",
    "        app.destroy()\n",
    "        vp_start_gui()\n",
    "\n",
    "    vp_start_gui()\n",
    "\n",
    "print(clusterNames)\n",
    "\n",
    "\n"
   ]
  },
  {
   "cell_type": "code",
   "execution_count": null,
   "id": "14da9811-02b1-4a8f-afd8-ba8214507aab",
   "metadata": {},
   "outputs": [],
   "source": [
    "def dataAverageFilter(data_array, n_windows, pdict): #let's try taking the data as a whole and generating a custom bandpass filter \n",
    "    window_samps=int(pdict['w_sec']*pdict['r_smp'])\n",
    "    v_res=pdict['vres']\n",
    "    t_len=int((window_samps-(v_res/8))/(v_res*7/8))\n",
    "    f_len=int(.75 * v_res/2)+1\n",
    "    cwinds=[]\n",
    "    for wi in range(n_windows):\n",
    "        dindc=np.random.randint(len(data_array))\n",
    "        carrc=data_array[dindc]\n",
    "        _df_sampc=len(carrc)-window_samps\n",
    "        sampc=np.random.randint(_df_sampc)\n",
    "        cwinds.append(carrc[sampc:sampc+window_samps,xlr(pdict['LRB'])])\n",
    "    avg_filter=np.sum(cwinds,axis=0)/n_windows\n",
    "    \n",
    "    spectrogram_noisy = sequence_to_spectrogram(avg_filter,pdict['r_smp'],v_res,f_len,t_len)\n",
    "    mn=np.mean(spectrogram_noisy,axis=-1)\n",
    "    spectrogram_filter=np.repeat(mn[:,np.newaxis],196,axis=1)\n",
    "    \n",
    "    return spectrogram_filter"
   ]
  },
  {
   "cell_type": "code",
   "execution_count": null,
   "id": "2cadfde6-3f69-40d6-a045-6989163dbdb9",
   "metadata": {},
   "outputs": [],
   "source": [
    "def generatorC2ch(data_array,pdict,class_groups,filters=0,return_startpoints=False): \n",
    "    \n",
    "    #[labels,class_groups] = info\n",
    "    nP=pdict['numP']\n",
    "    nK=pdict['numK']\n",
    "    window_size_secs=pdict['w_sec']\n",
    "    samps_per_second=pdict['r_smp']\n",
    "    v_res=pdict['vres']\n",
    "    lrb=pdict['LRB']\n",
    "    \n",
    "    window_samps=int(window_size_secs*samps_per_second)\n",
    "    \n",
    "    try: #manual override for width-resolution\n",
    "        t_len = pdict['wres']\n",
    "    except:\n",
    "        t_len=int((window_samps-(v_res/8))/(v_res*7/8))   #These are the time and frequency dimensions of my plot. They come from the scipy spectrogram generation formulas.\n",
    "    f_len=int(.75 * v_res/2)+1\n",
    "\n",
    "    bs=nP*nK #batch size\n",
    "    \n",
    "    skip_n=nP-(len(class_groups)-class_groups.count([]))<=0 #if true we skip the independent picks process and just let repeated labels occur because otherwise we'd have a hard limit of nP=18\n",
    "\n",
    "    while 1:\n",
    "        \n",
    "        startpoints=[]\n",
    "        labels_gen=[]\n",
    "        spectrograms=np.zeros((bs,f_len,t_len,2))\n",
    "        \n",
    "        for p in range(nP):\n",
    "            sm_i,tmp_cgroup=0,[] \n",
    "            while tmp_cgroup==[] or (sm_i in labels_gen if skip_n else None): #skip_n is in there incase nP is greater than the number of examples for that given class\n",
    "                sm_i=np.random.randint(len(class_groups))\n",
    "                tmp_cgroup=class_groups[sm_i] #choose a random non-empty non-repeated segment (the larger rng is the less time this takes)\n",
    "            #i will be our label and tmp_cgroup will be our data_array indices to randomly pick windows from \n",
    "            np.random.shuffle(tmp_cgroup)\n",
    "            \n",
    "            #now sm_i is our current class and tmp_cgroup is our current classgroup \n",
    "            for k in range(nK):\n",
    "                batch_idx=p*nK+k\n",
    "                tmp_c=tmp_cgroup[k] if k<len(tmp_cgroup) else tmp_cgroup[np.random.randint(len(tmp_cgroup))] #we want a random choice of the current classgroup (a random file from that class) but we don't want repeated files if we can avoid it so this is an ordered selection of the random shuffled tmp_cgroup until it runs out of options, then its just a random choice\n",
    "                dind=tmp_c[0]\n",
    "                carr=data_array[dind]\n",
    "                \n",
    "                #Here we choose a window based around our time segment data\n",
    "                #The way I approached this was to imagine two cases, one where the window is larger than the event time frame and one where the window is shorter than that event time frame\n",
    "                #t_ind=np.random.choice([i for i,smsmlbs in enumerate(labels[dind]) if smsmlbs==sm_i])#randomly chooses a valid labels index where the current class exists in that file\n",
    "                [ll,ul]=tmp_c[1] #lower and upper limits of the event time frame\n",
    "                \n",
    "                [tl,tu]=np.sort([ll,ul-window_samps])#let's take care of 2 possibilities at once, one the window is smaller than the event time frame (if window_samps<ul-ll then we want samp=np.random.randint(ll,ul-window_samps)), and two the window is larger than the event time frame(if window_samps>ul-ll then we want samp=np.random.randint(ul-window_samps,ll))\n",
    "                if tl<0: tl=0 #incase ul-window_samps above gives a negative number\n",
    "                if tu+window_samps>len(carr): tu=len(carr)-window_samps #incase ll above is also close to the end, this moves it back\n",
    "\n",
    "                samp=np.random.randint(tl,tu) if tl!=tu else tl #if tl==tu then np.random.randint will give an error so we just give it the exception\n",
    "                \n",
    "                labels_gen.append(sm_i)\n",
    "                startpoints.extend([dind,samp])\n",
    "                \n",
    "                window1, window2 = carr[samp:samp+window_samps,0], carr[samp:samp+window_samps,1] #if you are getting an error still check your window size and make sure its within your data's size\n",
    "                \n",
    "                spectrogram1, spectrogram2 = norm_seq_to_spg(window1,samps_per_second,v_res,f_len,t_len,filter_s), norm_seq_to_spg(window2,samps_per_second,v_res,f_len,t_len,filter_s)\n",
    "                                \n",
    "                spectrograms[batch_idx,:,:,0]=spectrogram1\n",
    "                \n",
    "                spectrograms[batch_idx,:,:,1]=spectrogram2\n",
    "\n",
    "        if pdict['ch']==3:\n",
    "            spectrograms_out=cm.viridis(spectrograms[:,:,:,xlr(lrb)])[:,:,:,0:3]\n",
    "        elif pdict['ch']==2:\n",
    "            spectrograms_out=spectrograms\n",
    "        else:\n",
    "            spectrograms_out=spectrograms[:,:,:,xlr(lrb)]\n",
    "        \n",
    "        if return_startpoints:\n",
    "            yield spectrograms_out, np.array(labels_gen).astype(int), startpoints\n",
    "        else:\n",
    "            yield spectrograms_out, np.array(labels_gen).astype(int)\n",
    "\n",
    "            \n",
    "def generatorCspectrograms(data_array,pdict,class_groups,filters=[0],return_startpoints=False): \n",
    "    \n",
    "    nP=pdict['numP']\n",
    "    nK=pdict['numK']\n",
    "    window_size_secs=pdict['w_sec']\n",
    "    samps_per_second=pdict['r_smp']\n",
    "    v_res=pdict['vres']\n",
    "    w_res=pdict['wres']\n",
    "    lrb=pdict['LRB']\n",
    "    \n",
    "    if len(filters)!=len(data_array):\n",
    "        filters=[0 for d in data_array]\n",
    "    \n",
    "    window_samps=int(window_size_secs*samps_per_second)\n",
    "    \n",
    "    t_len=int((window_samps-(v_res/8))/(v_res*7/8))   #These are the time and frequency dimensions of my plot. They come from the scipy spectrogram generation formulas.\n",
    "    f_len=int(.75 * v_res/2)+1\n",
    "\n",
    "    bs=nP*nK #batch size\n",
    "    \n",
    "    skip_n=nP-(len(class_groups)-class_groups.count([]))<=0 #if true we skip the independent picks process and just let repeated labels occur because otherwise we'd have a hard limit of nP=18\n",
    "\n",
    "    while 1:\n",
    "        \n",
    "        startpoints=[]\n",
    "        labels_gen=[]\n",
    "        spectrograms=np.zeros((bs,f_len,t_len))\n",
    "        \n",
    "        for p in range(nP):\n",
    "            sm_i,tmp_cgroup=0,[] \n",
    "            while tmp_cgroup==[] or (sm_i in labels_gen if skip_n else None): #skip_n is in there incase nP is greater than the number of examples for that given class\n",
    "                sm_i=np.random.randint(len(class_groups))\n",
    "                tmp_cgroup=class_groups[sm_i] #choose a random non-empty non-repeated segment (the larger rng is the less time this takes)\n",
    "            #i will be our label and tmp_cgroup will be our data_array indices to randomly pick windows from \n",
    "            np.random.shuffle(tmp_cgroup)\n",
    "            \n",
    "            #now sm_i is our current class and tmp_cgroup is our current classgroup \n",
    "            for k in range(nK):\n",
    "                batch_idx=p*nK+k\n",
    "                tmp_c=tmp_cgroup[k] if k<len(tmp_cgroup) else tmp_cgroup[np.random.randint(len(tmp_cgroup))] #we want a random choice of the current classgroup (a random file from that class) but we don't want repeated files if we can avoid it so this is an ordered selection of the random shuffled tmp_cgroup until it runs out of options, then its just a random choice\n",
    "                dind=tmp_c[0]\n",
    "                carr=data_array[dind]\n",
    "                \n",
    "                #Here we choose a window based around our time segment data\n",
    "                #The way I approached this was to imagine two cases, one where the window is larger than the event time frame and one where the window is shorter than that event time frame\n",
    "                #t_ind=np.random.choice([i for i,smsmlbs in enumerate(labels[dind]) if smsmlbs==sm_i])#randomly chooses a valid labels index where the current class exists in that file\n",
    "                [ll,ul]=tmp_c[1] #lower and upper limits of the event time frame\n",
    "                \n",
    "                [tl,tu]=np.sort([ll,ul-window_samps])#let's take care of 2 possibilities at once, one the window is smaller than the event time frame (if window_samps<ul-ll then we want samp=np.random.randint(ll,ul-window_samps)), and two the window is larger than the event time frame(if window_samps>ul-ll then we want samp=np.random.randint(ul-window_samps,ll))\n",
    "                if tl<0: tl=0 #incase ul-window_samps above gives a negative number\n",
    "                if tu+window_samps>len(carr): tu=len(carr)-window_samps #incase ll above is also close to the end, this moves it back\n",
    "\n",
    "                samp=np.random.randint(tl,tu) if tl!=tu else tl #if tl==tu then np.random.randint will give an error so we just give it the exception\n",
    "                \n",
    "                labels_gen.append(sm_i)\n",
    "                startpoints.extend([dind,samp])\n",
    "                \n",
    "                window = carr[samp:samp+window_samps,xlr(lrb)] #if you are getting an error here check your window size and make sure its within your data's size\n",
    "                \n",
    "                spectrogram = norm_seq_to_spg(window,samps_per_second,v_res,f_len,t_len,filters[dind])\n",
    "                                \n",
    "                spectrograms[batch_idx]=spectrogram\n",
    "\n",
    "        if pdict['ch']==3:\n",
    "            spectrograms=cm.viridis(spectrograms)[:,:,:,0:3]\n",
    "        \n",
    "        if return_startpoints:\n",
    "            yield spectrograms, np.array(labels_gen).astype(int), startpoints\n",
    "        else:\n",
    "            yield spectrograms, np.array(labels_gen).astype(int)\n",
    "\n",
    "            \n",
    "# Additional functions for labeled data:\n",
    "def average_frequency_filter(data, pdict): #creates a custom bandpass filter using a spectrogram of the entire data file data_array[dind]=data\n",
    "    window_samps=int(pdict['w_sec']*pdict['r_smp'])\n",
    "    v_res=pdict['vres']\n",
    "    t_arr=int((len(data)-(v_res/8))/(v_res*7/8)) \n",
    "    t_len=int((window_samps-(v_res/8))/(v_res*7/8)) \n",
    "    f_len=int(.75 * v_res/2)+1\n",
    "    carr=data[:,xlr(pdict['LRB'])]\n",
    "    total_spec=sequence_to_spectrogram(carr,pdict['r_smp'],v_res,f_len,t_arr)\n",
    "    mn=np.mean(total_spec,axis=-1)\n",
    "    spectrogram_filter=np.repeat(mn[:,np.newaxis],t_len,axis=1)\n",
    "    return spectrogram_filter\n",
    "\n",
    "def average_frequency_filter_r(data_array,range_arr, n_windows, pdict): #creates a custom bandpass filter using lots of random windows, taking an average spectrogram of those and then averaging all the columns into a single column of values and then expanding the dimensions back to the size of your windows\n",
    "    window_samps=int(pdict['w_sec']*pdict['r_smp'])\n",
    "    v_res=pdict['vres']\n",
    "    try:\n",
    "        t_len = pdict['wres']\n",
    "    except:\n",
    "        t_len=int((window_samps-(v_res/8))/(v_res*7/8)) \n",
    "    f_len=int(.75 * v_res/2)+1\n",
    "    cwinds=[]\n",
    "    for wi in range(n_windows):\n",
    "        dindc=np.random.randint(len(data_array))\n",
    "        carrc=data_array[dindc][range_arr[0]:range_arr[1]]\n",
    "        _df_sampc=len(carrc)-window_samps\n",
    "        sampc=np.random.randint(_df_sampc)\n",
    "        tmp_s=carrc[sampc:sampc+window_samps,xlr(pdict['LRB'])]\n",
    "        cwinds.append(sequence_to_spectrogram(tmp_s,pdict['r_smp'],v_res,f_len,t_len))\n",
    "    spectrogram_noisy=np.mean(cwinds,axis=0)\n",
    "    mn=np.mean(spectrogram_noisy,axis=-1)\n",
    "    spectrogram_filter=np.repeat(mn[:,np.newaxis],t_len,axis=1)\n",
    "    return spectrogram_filter\n",
    "\n",
    "def class_grouper(labels_c,times,n_classes): #returns a list of file and time references for a given class (index). i.e. class_groups[3] contains all the [file, [time]] references for class 3\n",
    "    class_groups=[]\n",
    "    for c in range(n_classes):\n",
    "        tmp_cgroup=[]\n",
    "        for i in range(len(labels_c)):\n",
    "            for j in range(len(labels_c[i])):\n",
    "                if labels_c[i][j]==c:\n",
    "                    tmp_cgroup.append([i,times[i][j]])\n",
    "        class_groups.append(tmp_cgroup)\n",
    "    return class_groups\n",
    "\n",
    "def cg_splitter(class_groups,split): #splits class_groups into train, validation, and test sets\n",
    "    if len(split)>2: split=split[-2:] #incase someone accidentally inputs [0.7,0.15,0.15] instead of [0.15,0.15] for example\n",
    "    trn,val,tst=[],[],[]\n",
    "    for i in range(len(class_groups)):\n",
    "        tvn=[int(np.ceil(len(class_groups[i])*spl)) for spl in split]\n",
    "        ttvn=[len(class_groups[i])-np.sum(tvn)]+tvn\n",
    "        [a1,a2,a3]=[np.sum(ttvn[:j+1]) for j in range(len(ttvn))]\n",
    "        trn.append(class_groups[i][:a1])\n",
    "        val.append(class_groups[i][a1:a2])\n",
    "        tst.append(class_groups[i][a2:])\n",
    "    return trn,val,tst\n",
    "\n",
    "def dctvt(airports,csv_files,split,pdict): #loads the data and labels, then organizes everything and outputs the data and classes along with the train, val, and test class_groups \n",
    "    #load the data\n",
    "    numpy_files=[os.path.join(time_series_npys_folder, f) for f in os.listdir(time_series_npys_folder) if Path(f).suffix == '.npy']\n",
    "    data=[np.load(numpy_files[np.where([airport in filename for filename in numpy_files])[0][0]]) for airport in airports]\n",
    "\n",
    "    #import label data, all preformatted as label, event_start(s), event_stop(s)\n",
    "    times=[(pd.read_csv(data_collector_folder+'/'+file)[['start','stop']].to_numpy()*pdict['r_smp']).tolist() for file in csv_files]\n",
    "    labels=[pd.read_csv(data_collector_folder+'/'+file).to_numpy().T[0].tolist() for file in csv_files]\n",
    "\n",
    "    #generate class indices\n",
    "    classesp={st:i for i,st in enumerate(np.unique([lbl for arr in labels for lbl in arr]))}\n",
    "    l_c=lambda labels:[classesp[lbl] for lbl in labels]\n",
    "    labels_c=[l_c(l) for l in labels]\n",
    "\n",
    "    #create class_groups, then only keep the ones with 3 or more examples\n",
    "    cgp=class_grouper(labels_c,times,len(classesp))\n",
    "    class_groups,classes=[],[]\n",
    "    for i in range(len(cgp)):\n",
    "        if len(cgp[i])>2: #here we are removing any classes with only one reference example, we can change this to be 1 if we just want train-test sets\n",
    "            class_groups.append(cgp[i])\n",
    "            classes.append(list(classesp)[i])\n",
    "    #split the class_groups\n",
    "    cg_trn,cg_val,cg_tst=cg_splitter(class_groups,split)\n",
    "    \n",
    "    return data, classes, cg_trn, cg_val, cg_tst\n",
    "\n",
    "def genC_plot(nP,nK,spectrograms,ls,sps,classes,files_as_labels=False): #plots generatorC\n",
    "    fig, ax = plt.subplots(nP, nK, figsize=(20,nP*2))\n",
    "    for p in range(nP):\n",
    "        for k in range(nK):\n",
    "            idx = p*nK+k    \n",
    "            spectrogram = spectrograms[idx]\n",
    "            label = ls[idx]\n",
    "            ax[p,k].imshow(spectrogram, interpolation='nearest', aspect='auto')\n",
    "            ax[p,k].set_xticklabels([])\n",
    "            ax[p,k].set_yticklabels([])\n",
    "            if files_as_labels:\n",
    "                ax[p,k].set_xlabel(str(sps[2*idx]))\n",
    "            else:\n",
    "                ax[p,k].set_xlabel(\"\"+str(sps[2*idx])+\"    \"+str(sps[2*idx+1]//(pdict['r_smp']*60)))\n",
    "        ax[p,0].set_ylabel(classes[label])"
   ]
  }
 ],
 "metadata": {
  "accelerator": "GPU",
  "colab": {
   "collapsed_sections": [
    "b0bd3ee2",
    "d45a5f79",
    "07e85bfa",
    "1222f42a-0d69-4587-b3e9-eac7f408121f",
    "792e9feb-807e-4901-8725-7ad05287127f",
    "f8321602"
   ],
   "name": "NoiseNet_20220325_DPR.ipynb",
   "provenance": []
  },
  "kernelspec": {
   "display_name": "Python 3 (ipykernel)",
   "language": "python",
   "name": "python3"
  },
  "language_info": {
   "codemirror_mode": {
    "name": "ipython",
    "version": 3
   },
   "file_extension": ".py",
   "mimetype": "text/x-python",
   "name": "python",
   "nbconvert_exporter": "python",
   "pygments_lexer": "ipython3",
   "version": "3.9.12"
  }
 },
 "nbformat": 4,
 "nbformat_minor": 5
}
